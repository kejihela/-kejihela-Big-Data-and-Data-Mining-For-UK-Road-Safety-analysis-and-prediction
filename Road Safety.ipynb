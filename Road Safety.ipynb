{
 "cells": [
  {
   "cell_type": "code",
   "execution_count": 1,
   "id": "41038eb1",
   "metadata": {},
   "outputs": [],
   "source": [
    "import matplotlib.pyplot as plt\n",
    "import seaborn as sns\n",
    "import pandas as pd\n",
    "import numpy as np\n",
    "import glob\n",
    "import warnings\n",
    "warnings.filterwarnings(\"ignore\")"
   ]
  },
  {
   "cell_type": "code",
   "execution_count": 2,
   "id": "1489b1d2",
   "metadata": {},
   "outputs": [
    {
     "name": "stdout",
     "output_type": "stream",
     "text": [
      "No of rows: 117536\n",
      "No of columns: 32\n"
     ]
    },
    {
     "data": {
      "text/html": [
       "<div>\n",
       "<style scoped>\n",
       "    .dataframe tbody tr th:only-of-type {\n",
       "        vertical-align: middle;\n",
       "    }\n",
       "\n",
       "    .dataframe tbody tr th {\n",
       "        vertical-align: top;\n",
       "    }\n",
       "\n",
       "    .dataframe thead th {\n",
       "        text-align: right;\n",
       "    }\n",
       "</style>\n",
       "<table border=\"1\" class=\"dataframe\">\n",
       "  <thead>\n",
       "    <tr style=\"text-align: right;\">\n",
       "      <th></th>\n",
       "      <th>Accident_Index</th>\n",
       "      <th>Location_Easting_OSGR</th>\n",
       "      <th>Location_Northing_OSGR</th>\n",
       "      <th>Longitude</th>\n",
       "      <th>Latitude</th>\n",
       "      <th>Police_Force</th>\n",
       "      <th>Accident_Severity</th>\n",
       "      <th>Number_of_Vehicles</th>\n",
       "      <th>Number_of_Casualties</th>\n",
       "      <th>Date</th>\n",
       "      <th>...</th>\n",
       "      <th>Pedestrian_Crossing-Human_Control</th>\n",
       "      <th>Pedestrian_Crossing-Physical_Facilities</th>\n",
       "      <th>Light_Conditions</th>\n",
       "      <th>Weather_Conditions</th>\n",
       "      <th>Road_Surface_Conditions</th>\n",
       "      <th>Special_Conditions_at_Site</th>\n",
       "      <th>Carriageway_Hazards</th>\n",
       "      <th>Urban_or_Rural_Area</th>\n",
       "      <th>Did_Police_Officer_Attend_Scene_of_Accident</th>\n",
       "      <th>LSOA_of_Accident_Location</th>\n",
       "    </tr>\n",
       "  </thead>\n",
       "  <tbody>\n",
       "    <tr>\n",
       "      <th>0</th>\n",
       "      <td>2019010128300</td>\n",
       "      <td>528218.0</td>\n",
       "      <td>180407.0</td>\n",
       "      <td>-0.153842</td>\n",
       "      <td>51.508057</td>\n",
       "      <td>1</td>\n",
       "      <td>3</td>\n",
       "      <td>2</td>\n",
       "      <td>3</td>\n",
       "      <td>18/02/2019</td>\n",
       "      <td>...</td>\n",
       "      <td>0</td>\n",
       "      <td>5</td>\n",
       "      <td>1</td>\n",
       "      <td>1</td>\n",
       "      <td>1</td>\n",
       "      <td>0</td>\n",
       "      <td>0</td>\n",
       "      <td>1</td>\n",
       "      <td>3</td>\n",
       "      <td>E01004762</td>\n",
       "    </tr>\n",
       "    <tr>\n",
       "      <th>1</th>\n",
       "      <td>2019010152270</td>\n",
       "      <td>530219.0</td>\n",
       "      <td>172463.0</td>\n",
       "      <td>-0.127949</td>\n",
       "      <td>51.436208</td>\n",
       "      <td>1</td>\n",
       "      <td>3</td>\n",
       "      <td>2</td>\n",
       "      <td>1</td>\n",
       "      <td>15/01/2019</td>\n",
       "      <td>...</td>\n",
       "      <td>-1</td>\n",
       "      <td>-1</td>\n",
       "      <td>4</td>\n",
       "      <td>1</td>\n",
       "      <td>1</td>\n",
       "      <td>0</td>\n",
       "      <td>0</td>\n",
       "      <td>1</td>\n",
       "      <td>3</td>\n",
       "      <td>E01003117</td>\n",
       "    </tr>\n",
       "    <tr>\n",
       "      <th>2</th>\n",
       "      <td>2019010155191</td>\n",
       "      <td>530222.0</td>\n",
       "      <td>182543.0</td>\n",
       "      <td>-0.124193</td>\n",
       "      <td>51.526795</td>\n",
       "      <td>1</td>\n",
       "      <td>3</td>\n",
       "      <td>2</td>\n",
       "      <td>1</td>\n",
       "      <td>01/01/2019</td>\n",
       "      <td>...</td>\n",
       "      <td>0</td>\n",
       "      <td>0</td>\n",
       "      <td>4</td>\n",
       "      <td>1</td>\n",
       "      <td>1</td>\n",
       "      <td>0</td>\n",
       "      <td>0</td>\n",
       "      <td>1</td>\n",
       "      <td>1</td>\n",
       "      <td>E01000943</td>\n",
       "    </tr>\n",
       "    <tr>\n",
       "      <th>3</th>\n",
       "      <td>2019010155192</td>\n",
       "      <td>525531.0</td>\n",
       "      <td>184605.0</td>\n",
       "      <td>-0.191044</td>\n",
       "      <td>51.546387</td>\n",
       "      <td>1</td>\n",
       "      <td>2</td>\n",
       "      <td>1</td>\n",
       "      <td>1</td>\n",
       "      <td>01/01/2019</td>\n",
       "      <td>...</td>\n",
       "      <td>0</td>\n",
       "      <td>0</td>\n",
       "      <td>4</td>\n",
       "      <td>1</td>\n",
       "      <td>1</td>\n",
       "      <td>0</td>\n",
       "      <td>0</td>\n",
       "      <td>1</td>\n",
       "      <td>1</td>\n",
       "      <td>E01000973</td>\n",
       "    </tr>\n",
       "    <tr>\n",
       "      <th>4</th>\n",
       "      <td>2019010155194</td>\n",
       "      <td>524920.0</td>\n",
       "      <td>184004.0</td>\n",
       "      <td>-0.200064</td>\n",
       "      <td>51.541121</td>\n",
       "      <td>1</td>\n",
       "      <td>3</td>\n",
       "      <td>2</td>\n",
       "      <td>2</td>\n",
       "      <td>01/01/2019</td>\n",
       "      <td>...</td>\n",
       "      <td>0</td>\n",
       "      <td>0</td>\n",
       "      <td>4</td>\n",
       "      <td>1</td>\n",
       "      <td>1</td>\n",
       "      <td>0</td>\n",
       "      <td>0</td>\n",
       "      <td>1</td>\n",
       "      <td>1</td>\n",
       "      <td>E01000546</td>\n",
       "    </tr>\n",
       "  </tbody>\n",
       "</table>\n",
       "<p>5 rows × 32 columns</p>\n",
       "</div>"
      ],
      "text/plain": [
       "  Accident_Index  Location_Easting_OSGR  Location_Northing_OSGR  Longitude  \\\n",
       "0  2019010128300               528218.0                180407.0  -0.153842   \n",
       "1  2019010152270               530219.0                172463.0  -0.127949   \n",
       "2  2019010155191               530222.0                182543.0  -0.124193   \n",
       "3  2019010155192               525531.0                184605.0  -0.191044   \n",
       "4  2019010155194               524920.0                184004.0  -0.200064   \n",
       "\n",
       "    Latitude  Police_Force  Accident_Severity  Number_of_Vehicles  \\\n",
       "0  51.508057             1                  3                   2   \n",
       "1  51.436208             1                  3                   2   \n",
       "2  51.526795             1                  3                   2   \n",
       "3  51.546387             1                  2                   1   \n",
       "4  51.541121             1                  3                   2   \n",
       "\n",
       "   Number_of_Casualties        Date  ...  Pedestrian_Crossing-Human_Control  \\\n",
       "0                     3  18/02/2019  ...                                  0   \n",
       "1                     1  15/01/2019  ...                                 -1   \n",
       "2                     1  01/01/2019  ...                                  0   \n",
       "3                     1  01/01/2019  ...                                  0   \n",
       "4                     2  01/01/2019  ...                                  0   \n",
       "\n",
       "  Pedestrian_Crossing-Physical_Facilities  Light_Conditions  \\\n",
       "0                                       5                 1   \n",
       "1                                      -1                 4   \n",
       "2                                       0                 4   \n",
       "3                                       0                 4   \n",
       "4                                       0                 4   \n",
       "\n",
       "  Weather_Conditions  Road_Surface_Conditions  Special_Conditions_at_Site  \\\n",
       "0                  1                        1                           0   \n",
       "1                  1                        1                           0   \n",
       "2                  1                        1                           0   \n",
       "3                  1                        1                           0   \n",
       "4                  1                        1                           0   \n",
       "\n",
       "   Carriageway_Hazards  Urban_or_Rural_Area  \\\n",
       "0                    0                    1   \n",
       "1                    0                    1   \n",
       "2                    0                    1   \n",
       "3                    0                    1   \n",
       "4                    0                    1   \n",
       "\n",
       "   Did_Police_Officer_Attend_Scene_of_Accident  LSOA_of_Accident_Location  \n",
       "0                                            3                  E01004762  \n",
       "1                                            3                  E01003117  \n",
       "2                                            1                  E01000943  \n",
       "3                                            1                  E01000973  \n",
       "4                                            1                  E01000546  \n",
       "\n",
       "[5 rows x 32 columns]"
      ]
     },
     "execution_count": 2,
     "metadata": {},
     "output_type": "execute_result"
    }
   ],
   "source": [
    "Accidents = pd.read_csv('Road Safety Data - Accidents 2019.csv')\n",
    "print(\"No of rows:\",Accidents.shape[0])\n",
    "print(\"No of columns:\",Accidents.shape[1])\n",
    "Accidents.head()"
   ]
  },
  {
   "cell_type": "code",
   "execution_count": 3,
   "id": "9214a9f4",
   "metadata": {},
   "outputs": [
    {
     "name": "stdout",
     "output_type": "stream",
     "text": [
      "No of rows: 216381\n",
      "No of columns: 23\n"
     ]
    },
    {
     "data": {
      "text/html": [
       "<div>\n",
       "<style scoped>\n",
       "    .dataframe tbody tr th:only-of-type {\n",
       "        vertical-align: middle;\n",
       "    }\n",
       "\n",
       "    .dataframe tbody tr th {\n",
       "        vertical-align: top;\n",
       "    }\n",
       "\n",
       "    .dataframe thead th {\n",
       "        text-align: right;\n",
       "    }\n",
       "</style>\n",
       "<table border=\"1\" class=\"dataframe\">\n",
       "  <thead>\n",
       "    <tr style=\"text-align: right;\">\n",
       "      <th></th>\n",
       "      <th>Accident_Index</th>\n",
       "      <th>Vehicle_Reference</th>\n",
       "      <th>Vehicle_Type</th>\n",
       "      <th>Towing_and_Articulation</th>\n",
       "      <th>Vehicle_Manoeuvre</th>\n",
       "      <th>Vehicle_Location-Restricted_Lane</th>\n",
       "      <th>Junction_Location</th>\n",
       "      <th>Skidding_and_Overturning</th>\n",
       "      <th>Hit_Object_in_Carriageway</th>\n",
       "      <th>Vehicle_Leaving_Carriageway</th>\n",
       "      <th>...</th>\n",
       "      <th>Journey_Purpose_of_Driver</th>\n",
       "      <th>Sex_of_Driver</th>\n",
       "      <th>Age_of_Driver</th>\n",
       "      <th>Age_Band_of_Driver</th>\n",
       "      <th>Engine_Capacity_(CC)</th>\n",
       "      <th>Propulsion_Code</th>\n",
       "      <th>Age_of_Vehicle</th>\n",
       "      <th>Driver_IMD_Decile</th>\n",
       "      <th>Driver_Home_Area_Type</th>\n",
       "      <th>Vehicle_IMD_Decile</th>\n",
       "    </tr>\n",
       "  </thead>\n",
       "  <tbody>\n",
       "    <tr>\n",
       "      <th>0</th>\n",
       "      <td>2019010128300</td>\n",
       "      <td>1</td>\n",
       "      <td>9</td>\n",
       "      <td>0</td>\n",
       "      <td>-1</td>\n",
       "      <td>-1</td>\n",
       "      <td>-1</td>\n",
       "      <td>-1</td>\n",
       "      <td>-1</td>\n",
       "      <td>-1</td>\n",
       "      <td>...</td>\n",
       "      <td>6</td>\n",
       "      <td>1</td>\n",
       "      <td>58</td>\n",
       "      <td>9</td>\n",
       "      <td>-1</td>\n",
       "      <td>-1</td>\n",
       "      <td>-1</td>\n",
       "      <td>2</td>\n",
       "      <td>1</td>\n",
       "      <td>2</td>\n",
       "    </tr>\n",
       "    <tr>\n",
       "      <th>1</th>\n",
       "      <td>2019010128300</td>\n",
       "      <td>2</td>\n",
       "      <td>9</td>\n",
       "      <td>0</td>\n",
       "      <td>-1</td>\n",
       "      <td>-1</td>\n",
       "      <td>-1</td>\n",
       "      <td>-1</td>\n",
       "      <td>-1</td>\n",
       "      <td>-1</td>\n",
       "      <td>...</td>\n",
       "      <td>6</td>\n",
       "      <td>3</td>\n",
       "      <td>-1</td>\n",
       "      <td>-1</td>\n",
       "      <td>-1</td>\n",
       "      <td>-1</td>\n",
       "      <td>-1</td>\n",
       "      <td>2</td>\n",
       "      <td>1</td>\n",
       "      <td>2</td>\n",
       "    </tr>\n",
       "    <tr>\n",
       "      <th>2</th>\n",
       "      <td>2019010152270</td>\n",
       "      <td>1</td>\n",
       "      <td>9</td>\n",
       "      <td>0</td>\n",
       "      <td>18</td>\n",
       "      <td>-1</td>\n",
       "      <td>0</td>\n",
       "      <td>-1</td>\n",
       "      <td>-1</td>\n",
       "      <td>-1</td>\n",
       "      <td>...</td>\n",
       "      <td>6</td>\n",
       "      <td>2</td>\n",
       "      <td>24</td>\n",
       "      <td>5</td>\n",
       "      <td>-1</td>\n",
       "      <td>-1</td>\n",
       "      <td>-1</td>\n",
       "      <td>3</td>\n",
       "      <td>1</td>\n",
       "      <td>3</td>\n",
       "    </tr>\n",
       "    <tr>\n",
       "      <th>3</th>\n",
       "      <td>2019010152270</td>\n",
       "      <td>2</td>\n",
       "      <td>9</td>\n",
       "      <td>0</td>\n",
       "      <td>18</td>\n",
       "      <td>-1</td>\n",
       "      <td>0</td>\n",
       "      <td>-1</td>\n",
       "      <td>-1</td>\n",
       "      <td>-1</td>\n",
       "      <td>...</td>\n",
       "      <td>6</td>\n",
       "      <td>3</td>\n",
       "      <td>-1</td>\n",
       "      <td>-1</td>\n",
       "      <td>-1</td>\n",
       "      <td>-1</td>\n",
       "      <td>-1</td>\n",
       "      <td>6</td>\n",
       "      <td>1</td>\n",
       "      <td>6</td>\n",
       "    </tr>\n",
       "    <tr>\n",
       "      <th>4</th>\n",
       "      <td>2019010155191</td>\n",
       "      <td>1</td>\n",
       "      <td>9</td>\n",
       "      <td>0</td>\n",
       "      <td>3</td>\n",
       "      <td>0</td>\n",
       "      <td>1</td>\n",
       "      <td>0</td>\n",
       "      <td>0</td>\n",
       "      <td>0</td>\n",
       "      <td>...</td>\n",
       "      <td>6</td>\n",
       "      <td>1</td>\n",
       "      <td>45</td>\n",
       "      <td>7</td>\n",
       "      <td>-1</td>\n",
       "      <td>-1</td>\n",
       "      <td>-1</td>\n",
       "      <td>4</td>\n",
       "      <td>1</td>\n",
       "      <td>4</td>\n",
       "    </tr>\n",
       "  </tbody>\n",
       "</table>\n",
       "<p>5 rows × 23 columns</p>\n",
       "</div>"
      ],
      "text/plain": [
       "  Accident_Index  Vehicle_Reference  Vehicle_Type  Towing_and_Articulation  \\\n",
       "0  2019010128300                  1             9                        0   \n",
       "1  2019010128300                  2             9                        0   \n",
       "2  2019010152270                  1             9                        0   \n",
       "3  2019010152270                  2             9                        0   \n",
       "4  2019010155191                  1             9                        0   \n",
       "\n",
       "   Vehicle_Manoeuvre  Vehicle_Location-Restricted_Lane  Junction_Location  \\\n",
       "0                 -1                                -1                 -1   \n",
       "1                 -1                                -1                 -1   \n",
       "2                 18                                -1                  0   \n",
       "3                 18                                -1                  0   \n",
       "4                  3                                 0                  1   \n",
       "\n",
       "   Skidding_and_Overturning  Hit_Object_in_Carriageway  \\\n",
       "0                        -1                         -1   \n",
       "1                        -1                         -1   \n",
       "2                        -1                         -1   \n",
       "3                        -1                         -1   \n",
       "4                         0                          0   \n",
       "\n",
       "   Vehicle_Leaving_Carriageway  ...  Journey_Purpose_of_Driver  Sex_of_Driver  \\\n",
       "0                           -1  ...                          6              1   \n",
       "1                           -1  ...                          6              3   \n",
       "2                           -1  ...                          6              2   \n",
       "3                           -1  ...                          6              3   \n",
       "4                            0  ...                          6              1   \n",
       "\n",
       "   Age_of_Driver  Age_Band_of_Driver  Engine_Capacity_(CC)  Propulsion_Code  \\\n",
       "0             58                   9                    -1               -1   \n",
       "1             -1                  -1                    -1               -1   \n",
       "2             24                   5                    -1               -1   \n",
       "3             -1                  -1                    -1               -1   \n",
       "4             45                   7                    -1               -1   \n",
       "\n",
       "   Age_of_Vehicle  Driver_IMD_Decile  Driver_Home_Area_Type  \\\n",
       "0              -1                  2                      1   \n",
       "1              -1                  2                      1   \n",
       "2              -1                  3                      1   \n",
       "3              -1                  6                      1   \n",
       "4              -1                  4                      1   \n",
       "\n",
       "   Vehicle_IMD_Decile  \n",
       "0                   2  \n",
       "1                   2  \n",
       "2                   3  \n",
       "3                   6  \n",
       "4                   4  \n",
       "\n",
       "[5 rows x 23 columns]"
      ]
     },
     "execution_count": 3,
     "metadata": {},
     "output_type": "execute_result"
    }
   ],
   "source": [
    "Vehicles = pd.read_csv(\"Road Safety Data- Vehicles 2019.csv\")\n",
    "print(\"No of rows:\",Vehicles.shape[0])\n",
    "print(\"No of columns:\",Vehicles.shape[1])\n",
    "Vehicles.head()"
   ]
  },
  {
   "cell_type": "code",
   "execution_count": 4,
   "id": "64b6444c",
   "metadata": {},
   "outputs": [
    {
     "name": "stdout",
     "output_type": "stream",
     "text": [
      "No of rows: 153158\n",
      "No of columns: 16\n"
     ]
    },
    {
     "data": {
      "text/html": [
       "<div>\n",
       "<style scoped>\n",
       "    .dataframe tbody tr th:only-of-type {\n",
       "        vertical-align: middle;\n",
       "    }\n",
       "\n",
       "    .dataframe tbody tr th {\n",
       "        vertical-align: top;\n",
       "    }\n",
       "\n",
       "    .dataframe thead th {\n",
       "        text-align: right;\n",
       "    }\n",
       "</style>\n",
       "<table border=\"1\" class=\"dataframe\">\n",
       "  <thead>\n",
       "    <tr style=\"text-align: right;\">\n",
       "      <th></th>\n",
       "      <th>Accident_Index</th>\n",
       "      <th>Vehicle_Reference</th>\n",
       "      <th>Casualty_Reference</th>\n",
       "      <th>Casualty_Class</th>\n",
       "      <th>Sex_of_Casualty</th>\n",
       "      <th>Age_of_Casualty</th>\n",
       "      <th>Age_Band_of_Casualty</th>\n",
       "      <th>Casualty_Severity</th>\n",
       "      <th>Pedestrian_Location</th>\n",
       "      <th>Pedestrian_Movement</th>\n",
       "      <th>Car_Passenger</th>\n",
       "      <th>Bus_or_Coach_Passenger</th>\n",
       "      <th>Pedestrian_Road_Maintenance_Worker</th>\n",
       "      <th>Casualty_Type</th>\n",
       "      <th>Casualty_Home_Area_Type</th>\n",
       "      <th>Casualty_IMD_Decile</th>\n",
       "    </tr>\n",
       "  </thead>\n",
       "  <tbody>\n",
       "    <tr>\n",
       "      <th>0</th>\n",
       "      <td>2019010128300</td>\n",
       "      <td>1</td>\n",
       "      <td>1</td>\n",
       "      <td>1</td>\n",
       "      <td>1</td>\n",
       "      <td>58</td>\n",
       "      <td>9</td>\n",
       "      <td>3</td>\n",
       "      <td>0</td>\n",
       "      <td>0</td>\n",
       "      <td>0</td>\n",
       "      <td>0</td>\n",
       "      <td>0</td>\n",
       "      <td>9</td>\n",
       "      <td>1</td>\n",
       "      <td>2</td>\n",
       "    </tr>\n",
       "    <tr>\n",
       "      <th>1</th>\n",
       "      <td>2019010128300</td>\n",
       "      <td>1</td>\n",
       "      <td>2</td>\n",
       "      <td>2</td>\n",
       "      <td>2</td>\n",
       "      <td>-1</td>\n",
       "      <td>-1</td>\n",
       "      <td>3</td>\n",
       "      <td>0</td>\n",
       "      <td>0</td>\n",
       "      <td>1</td>\n",
       "      <td>0</td>\n",
       "      <td>0</td>\n",
       "      <td>9</td>\n",
       "      <td>1</td>\n",
       "      <td>5</td>\n",
       "    </tr>\n",
       "    <tr>\n",
       "      <th>2</th>\n",
       "      <td>2019010128300</td>\n",
       "      <td>1</td>\n",
       "      <td>3</td>\n",
       "      <td>2</td>\n",
       "      <td>2</td>\n",
       "      <td>-1</td>\n",
       "      <td>-1</td>\n",
       "      <td>3</td>\n",
       "      <td>0</td>\n",
       "      <td>0</td>\n",
       "      <td>2</td>\n",
       "      <td>0</td>\n",
       "      <td>0</td>\n",
       "      <td>9</td>\n",
       "      <td>1</td>\n",
       "      <td>5</td>\n",
       "    </tr>\n",
       "    <tr>\n",
       "      <th>3</th>\n",
       "      <td>2019010152270</td>\n",
       "      <td>1</td>\n",
       "      <td>1</td>\n",
       "      <td>1</td>\n",
       "      <td>2</td>\n",
       "      <td>24</td>\n",
       "      <td>5</td>\n",
       "      <td>3</td>\n",
       "      <td>0</td>\n",
       "      <td>0</td>\n",
       "      <td>0</td>\n",
       "      <td>0</td>\n",
       "      <td>0</td>\n",
       "      <td>9</td>\n",
       "      <td>1</td>\n",
       "      <td>3</td>\n",
       "    </tr>\n",
       "    <tr>\n",
       "      <th>4</th>\n",
       "      <td>2019010155191</td>\n",
       "      <td>2</td>\n",
       "      <td>1</td>\n",
       "      <td>2</td>\n",
       "      <td>2</td>\n",
       "      <td>21</td>\n",
       "      <td>5</td>\n",
       "      <td>3</td>\n",
       "      <td>0</td>\n",
       "      <td>0</td>\n",
       "      <td>0</td>\n",
       "      <td>0</td>\n",
       "      <td>0</td>\n",
       "      <td>1</td>\n",
       "      <td>1</td>\n",
       "      <td>1</td>\n",
       "    </tr>\n",
       "  </tbody>\n",
       "</table>\n",
       "</div>"
      ],
      "text/plain": [
       "  Accident_Index  Vehicle_Reference  Casualty_Reference  Casualty_Class  \\\n",
       "0  2019010128300                  1                   1               1   \n",
       "1  2019010128300                  1                   2               2   \n",
       "2  2019010128300                  1                   3               2   \n",
       "3  2019010152270                  1                   1               1   \n",
       "4  2019010155191                  2                   1               2   \n",
       "\n",
       "   Sex_of_Casualty  Age_of_Casualty  Age_Band_of_Casualty  Casualty_Severity  \\\n",
       "0                1               58                     9                  3   \n",
       "1                2               -1                    -1                  3   \n",
       "2                2               -1                    -1                  3   \n",
       "3                2               24                     5                  3   \n",
       "4                2               21                     5                  3   \n",
       "\n",
       "   Pedestrian_Location  Pedestrian_Movement  Car_Passenger  \\\n",
       "0                    0                    0              0   \n",
       "1                    0                    0              1   \n",
       "2                    0                    0              2   \n",
       "3                    0                    0              0   \n",
       "4                    0                    0              0   \n",
       "\n",
       "   Bus_or_Coach_Passenger  Pedestrian_Road_Maintenance_Worker  Casualty_Type  \\\n",
       "0                       0                                   0              9   \n",
       "1                       0                                   0              9   \n",
       "2                       0                                   0              9   \n",
       "3                       0                                   0              9   \n",
       "4                       0                                   0              1   \n",
       "\n",
       "   Casualty_Home_Area_Type  Casualty_IMD_Decile  \n",
       "0                        1                    2  \n",
       "1                        1                    5  \n",
       "2                        1                    5  \n",
       "3                        1                    3  \n",
       "4                        1                    1  "
      ]
     },
     "execution_count": 4,
     "metadata": {},
     "output_type": "execute_result"
    }
   ],
   "source": [
    "Casualties = pd.read_csv(\"Road Safety Data - Casualties 2019.csv\")\n",
    "print(\"No of rows:\",Casualties.shape[0])\n",
    "print(\"No of columns:\",Casualties.shape[1])\n",
    "Casualties.head()"
   ]
  },
  {
   "cell_type": "code",
   "execution_count": 5,
   "id": "6609365f",
   "metadata": {},
   "outputs": [
    {
     "data": {
      "text/plain": [
       "Accident_Index                                  object\n",
       "Location_Easting_OSGR                          float64\n",
       "Location_Northing_OSGR                         float64\n",
       "Longitude                                      float64\n",
       "Latitude                                       float64\n",
       "Police_Force                                     int64\n",
       "Accident_Severity                                int64\n",
       "Number_of_Vehicles                               int64\n",
       "Number_of_Casualties                             int64\n",
       "Date                                            object\n",
       "Day_of_Week                                      int64\n",
       "Time                                            object\n",
       "Local_Authority_(District)                       int64\n",
       "Local_Authority_(Highway)                       object\n",
       "1st_Road_Class                                   int64\n",
       "1st_Road_Number                                  int64\n",
       "Road_Type                                        int64\n",
       "Speed_limit                                      int64\n",
       "Junction_Detail                                  int64\n",
       "Junction_Control                                 int64\n",
       "2nd_Road_Class                                   int64\n",
       "2nd_Road_Number                                  int64\n",
       "Pedestrian_Crossing-Human_Control                int64\n",
       "Pedestrian_Crossing-Physical_Facilities          int64\n",
       "Light_Conditions                                 int64\n",
       "Weather_Conditions                               int64\n",
       "Road_Surface_Conditions                          int64\n",
       "Special_Conditions_at_Site                       int64\n",
       "Carriageway_Hazards                              int64\n",
       "Urban_or_Rural_Area                              int64\n",
       "Did_Police_Officer_Attend_Scene_of_Accident      int64\n",
       "LSOA_of_Accident_Location                       object\n",
       "dtype: object"
      ]
     },
     "execution_count": 5,
     "metadata": {},
     "output_type": "execute_result"
    }
   ],
   "source": [
    "Accidents.dtypes"
   ]
  },
  {
   "cell_type": "markdown",
   "id": "d5fa259c",
   "metadata": {},
   "source": [
    "# Data Preprocessing"
   ]
  },
  {
   "cell_type": "markdown",
   "id": "f20eb7c9",
   "metadata": {},
   "source": [
    "### Date needed to be converted to DateTime format"
   ]
  },
  {
   "cell_type": "code",
   "execution_count": 49,
   "id": "e7cf917d",
   "metadata": {},
   "outputs": [
    {
     "name": "stdout",
     "output_type": "stream",
     "text": [
      "datetime64[ns]\n"
     ]
    }
   ],
   "source": [
    "Accidents['Date']= pd.to_datetime(Accidents['Date'], format=\"%d/%m/%Y\")\n",
    "print(Accidents['Date'].dtypes)"
   ]
  },
  {
   "cell_type": "code",
   "execution_count": 7,
   "id": "14637936",
   "metadata": {},
   "outputs": [],
   "source": [
    "def Time_of_the_day(hour):\n",
    "    if hour >= 5 and hour < 10:\n",
    "        return \"morning (5-10)\"\n",
    "    elif hour >= 10 and hour < 15:\n",
    "        return \"office hours (10-15)\"\n",
    "    elif hour >= 15 and hour < 19:\n",
    "        return \"afternoon  (15-19)\"\n",
    "    elif hour >= 19 and hour < 23:\n",
    "        return \"evening (19-23)\"\n",
    "    else:\n",
    "        return \"night (23-5)\""
   ]
  },
  {
   "cell_type": "markdown",
   "id": "53b0bc16",
   "metadata": {},
   "source": [
    "#### creating a column to represent the Hours of the day"
   ]
  },
  {
   "cell_type": "code",
   "execution_count": 8,
   "id": "9cbe9274",
   "metadata": {},
   "outputs": [],
   "source": [
    "Accidents['Hour'] = Accidents['Time'].str[0:2]\n",
    "Accidents['Hour'] = pd.to_numeric(Accidents['Hour'])\n",
    "Accidents = Accidents.dropna(subset=['Hour'])\n",
    "Accidents['Hour'] = Accidents['Hour'].astype('int')"
   ]
  },
  {
   "cell_type": "markdown",
   "id": "ae87b10f",
   "metadata": {},
   "source": [
    "#### creating a Daytime column"
   ]
  },
  {
   "cell_type": "code",
   "execution_count": 9,
   "id": "486ccd2f",
   "metadata": {
    "scrolled": true
   },
   "outputs": [
    {
     "data": {
      "text/html": [
       "<div>\n",
       "<style scoped>\n",
       "    .dataframe tbody tr th:only-of-type {\n",
       "        vertical-align: middle;\n",
       "    }\n",
       "\n",
       "    .dataframe tbody tr th {\n",
       "        vertical-align: top;\n",
       "    }\n",
       "\n",
       "    .dataframe thead th {\n",
       "        text-align: right;\n",
       "    }\n",
       "</style>\n",
       "<table border=\"1\" class=\"dataframe\">\n",
       "  <thead>\n",
       "    <tr style=\"text-align: right;\">\n",
       "      <th></th>\n",
       "      <th>Time</th>\n",
       "      <th>Hour</th>\n",
       "      <th>Daytime</th>\n",
       "    </tr>\n",
       "  </thead>\n",
       "  <tbody>\n",
       "    <tr>\n",
       "      <th>0</th>\n",
       "      <td>17:50</td>\n",
       "      <td>17</td>\n",
       "      <td>afternoon  (15-19)</td>\n",
       "    </tr>\n",
       "    <tr>\n",
       "      <th>1</th>\n",
       "      <td>21:45</td>\n",
       "      <td>21</td>\n",
       "      <td>evening (19-23)</td>\n",
       "    </tr>\n",
       "    <tr>\n",
       "      <th>2</th>\n",
       "      <td>01:50</td>\n",
       "      <td>1</td>\n",
       "      <td>night (23-5)</td>\n",
       "    </tr>\n",
       "    <tr>\n",
       "      <th>3</th>\n",
       "      <td>01:20</td>\n",
       "      <td>1</td>\n",
       "      <td>night (23-5)</td>\n",
       "    </tr>\n",
       "    <tr>\n",
       "      <th>4</th>\n",
       "      <td>00:40</td>\n",
       "      <td>0</td>\n",
       "      <td>night (23-5)</td>\n",
       "    </tr>\n",
       "  </tbody>\n",
       "</table>\n",
       "</div>"
      ],
      "text/plain": [
       "    Time  Hour             Daytime\n",
       "0  17:50    17  afternoon  (15-19)\n",
       "1  21:45    21     evening (19-23)\n",
       "2  01:50     1        night (23-5)\n",
       "3  01:20     1        night (23-5)\n",
       "4  00:40     0        night (23-5)"
      ]
     },
     "execution_count": 9,
     "metadata": {},
     "output_type": "execute_result"
    }
   ],
   "source": [
    "Accidents['Daytime'] = Accidents['Hour'].apply(Time_of_the_day)\n",
    "Accidents[['Time', 'Hour', 'Daytime']].head()"
   ]
  },
  {
   "cell_type": "code",
   "execution_count": 10,
   "id": "924fb8cf",
   "metadata": {},
   "outputs": [
    {
     "data": {
      "text/plain": [
       "117473"
      ]
     },
     "execution_count": 10,
     "metadata": {},
     "output_type": "execute_result"
    }
   ],
   "source": [
    "Accidents['Hour'].count()"
   ]
  },
  {
   "cell_type": "code",
   "execution_count": 11,
   "id": "dd6abd73",
   "metadata": {},
   "outputs": [],
   "source": [
    "def Hours_of_the_day(list):    \n",
    "    for a in range(0,25,1):\n",
    "        for i in Accidents['Hour']:\n",
    "            if a == i:\n",
    "                list[a]+=1\n",
    "    return list"
   ]
  },
  {
   "cell_type": "code",
   "execution_count": 12,
   "id": "83644903",
   "metadata": {
    "scrolled": true
   },
   "outputs": [
    {
     "name": "stdout",
     "output_type": "stream",
     "text": [
      "[1830, 1327, 966, 827, 791, 1169, 2404, 5353, 8127, 5497, 5190, 5960, 6601, 6946, 6994, 9172, 9462, 10198, 8347, 6234, 4536, 3703, 3361, 2478]\n"
     ]
    }
   ],
   "source": [
    "lists = [0]*24\n",
    "hours = Hours_of_the_day(lists)\n",
    "print(hours)"
   ]
  },
  {
   "cell_type": "code",
   "execution_count": 13,
   "id": "3a2b59e7",
   "metadata": {},
   "outputs": [
    {
     "name": "stdout",
     "output_type": "stream",
     "text": [
      "The significant hours of the day in which accidents occur is 17 :00\n"
     ]
    }
   ],
   "source": [
    "maximum = hours[0]\n",
    "for i in  hours:\n",
    "    if i > maximum:\n",
    "        maximum = i\n",
    "        pos = hours.index(i)\n",
    "print(\"The significant hours of the day in which accidents occur is\",pos,\":00\")\n",
    "    "
   ]
  },
  {
   "cell_type": "code",
   "execution_count": 14,
   "id": "fc32b46b",
   "metadata": {},
   "outputs": [
    {
     "data": {
      "image/png": "[encoded data removed]",
      "text/plain": [
       "<Figure size 1296x720 with 1 Axes>"
      ]
     },
     "metadata": {
      "needs_background": "light"
     },
     "output_type": "display_data"
    }
   ],
   "source": [
    "Hour_of_the_day = list(['0','1','2','3','4','5','6','7','8','9','10','11','12','13','14','15','16','17','18','19','20','21','22','23'])\n",
    "f, ax = plt.subplots(figsize=(18,10))\n",
    "plt.bar( Hour_of_the_day,hours, align='center', alpha=0.5,color= 'navy')\n",
    "plt.ylabel('Total number of Accidents that occur')\n",
    "plt.title('Hours')\n",
    "plt.xlabel('Hours of the day in which Road Traffic Accident')\n",
    "plt.show()"
   ]
  },
  {
   "cell_type": "markdown",
   "id": "9424b8db",
   "metadata": {},
   "source": [
    "#### Handling missing datas"
   ]
  },
  {
   "cell_type": "code",
   "execution_count": 15,
   "id": "7d3baff5",
   "metadata": {},
   "outputs": [
    {
     "name": "stdout",
     "output_type": "stream",
     "text": [
      "Accident_Index                                    0\n",
      "Location_Easting_OSGR                            28\n",
      "Location_Northing_OSGR                           28\n",
      "Longitude                                        28\n",
      "Latitude                                         28\n",
      "Police_Force                                      0\n",
      "Accident_Severity                                 0\n",
      "Number_of_Vehicles                                0\n",
      "Number_of_Casualties                              0\n",
      "Date                                              0\n",
      "Day_of_Week                                       0\n",
      "Time                                              0\n",
      "Local_Authority_(District)                        0\n",
      "Local_Authority_(Highway)                         0\n",
      "1st_Road_Class                                    0\n",
      "1st_Road_Number                                   0\n",
      "Road_Type                                         0\n",
      "Speed_limit                                       0\n",
      "Junction_Detail                                   0\n",
      "Junction_Control                                  0\n",
      "2nd_Road_Class                                    0\n",
      "2nd_Road_Number                                   0\n",
      "Pedestrian_Crossing-Human_Control                 0\n",
      "Pedestrian_Crossing-Physical_Facilities           0\n",
      "Light_Conditions                                  0\n",
      "Weather_Conditions                                0\n",
      "Road_Surface_Conditions                           0\n",
      "Special_Conditions_at_Site                        0\n",
      "Carriageway_Hazards                               0\n",
      "Urban_or_Rural_Area                               0\n",
      "Did_Police_Officer_Attend_Scene_of_Accident       0\n",
      "LSOA_of_Accident_Location                      5713\n",
      "Hour                                              0\n",
      "Daytime                                           0\n",
      "dtype: int64\n"
     ]
    }
   ],
   "source": [
    "print(Accidents.isna().sum())"
   ]
  },
  {
   "cell_type": "code",
   "execution_count": 16,
   "id": "2b80488a",
   "metadata": {},
   "outputs": [
    {
     "data": {
      "text/plain": [
       "<bound method Series.unique of 0         E01004762\n",
       "1         E01003117\n",
       "2         E01000943\n",
       "3         E01000973\n",
       "4         E01000546\n",
       "            ...    \n",
       "117531          NaN\n",
       "117532          NaN\n",
       "117533          NaN\n",
       "117534          NaN\n",
       "117535          NaN\n",
       "Name: LSOA_of_Accident_Location, Length: 117473, dtype: object>"
      ]
     },
     "execution_count": 16,
     "metadata": {},
     "output_type": "execute_result"
    }
   ],
   "source": [
    "Accidents['LSOA_of_Accident_Location'].unique"
   ]
  },
  {
   "cell_type": "code",
   "execution_count": 17,
   "id": "afc4e91d",
   "metadata": {},
   "outputs": [
    {
     "name": "stdout",
     "output_type": "stream",
     "text": [
      "percentage of missing datas: 0.0496 %\n"
     ]
    }
   ],
   "source": [
    "print('percentage of missing datas:', round(Accidents.isna().sum().sum()/len(Accidents),4), '%')"
   ]
  },
  {
   "cell_type": "markdown",
   "id": "0ab81af7",
   "metadata": {},
   "source": [
    "#### Drop the missing data"
   ]
  },
  {
   "cell_type": "code",
   "execution_count": 18,
   "id": "edf1757b",
   "metadata": {},
   "outputs": [
    {
     "data": {
      "text/plain": [
       "0"
      ]
     },
     "execution_count": 18,
     "metadata": {},
     "output_type": "execute_result"
    }
   ],
   "source": [
    "Accidents = Accidents.dropna()\n",
    "Accidents.isna().sum().sum()"
   ]
  },
  {
   "cell_type": "code",
   "execution_count": 19,
   "id": "78fc13ab",
   "metadata": {},
   "outputs": [
    {
     "name": "stdout",
     "output_type": "stream",
     "text": [
      "Accident_Index                      0\n",
      "Vehicle_Reference                   0\n",
      "Vehicle_Type                        0\n",
      "Towing_and_Articulation             0\n",
      "Vehicle_Manoeuvre                   0\n",
      "Vehicle_Location-Restricted_Lane    0\n",
      "Junction_Location                   0\n",
      "Skidding_and_Overturning            0\n",
      "Hit_Object_in_Carriageway           0\n",
      "Vehicle_Leaving_Carriageway         0\n",
      "Hit_Object_off_Carriageway          0\n",
      "1st_Point_of_Impact                 0\n",
      "Was_Vehicle_Left_Hand_Drive?        0\n",
      "Journey_Purpose_of_Driver           0\n",
      "Sex_of_Driver                       0\n",
      "Age_of_Driver                       0\n",
      "Age_Band_of_Driver                  0\n",
      "Engine_Capacity_(CC)                0\n",
      "Propulsion_Code                     0\n",
      "Age_of_Vehicle                      0\n",
      "Driver_IMD_Decile                   0\n",
      "Driver_Home_Area_Type               0\n",
      "Vehicle_IMD_Decile                  0\n",
      "dtype: int64\n"
     ]
    }
   ],
   "source": [
    "print(Vehicles.isna().sum())"
   ]
  },
  {
   "cell_type": "code",
   "execution_count": 20,
   "id": "c8a36806",
   "metadata": {},
   "outputs": [
    {
     "name": "stdout",
     "output_type": "stream",
     "text": [
      "Accident_Index                      0\n",
      "Vehicle_Reference                   0\n",
      "Vehicle_Type                        0\n",
      "Towing_and_Articulation             0\n",
      "Vehicle_Manoeuvre                   0\n",
      "Vehicle_Location-Restricted_Lane    0\n",
      "Junction_Location                   0\n",
      "Skidding_and_Overturning            0\n",
      "Hit_Object_in_Carriageway           0\n",
      "Vehicle_Leaving_Carriageway         0\n",
      "Hit_Object_off_Carriageway          0\n",
      "1st_Point_of_Impact                 0\n",
      "Was_Vehicle_Left_Hand_Drive?        0\n",
      "Journey_Purpose_of_Driver           0\n",
      "Sex_of_Driver                       0\n",
      "Age_of_Driver                       0\n",
      "Age_Band_of_Driver                  0\n",
      "Engine_Capacity_(CC)                0\n",
      "Propulsion_Code                     0\n",
      "Age_of_Vehicle                      0\n",
      "Driver_IMD_Decile                   0\n",
      "Driver_Home_Area_Type               0\n",
      "Vehicle_IMD_Decile                  0\n",
      "dtype: int64\n"
     ]
    }
   ],
   "source": [
    "print(Vehicles.isna().sum())"
   ]
  },
  {
   "cell_type": "markdown",
   "id": "4d9fe702",
   "metadata": {},
   "source": [
    "#### Exploratory Analysis"
   ]
  },
  {
   "cell_type": "code",
   "execution_count": 21,
   "id": "3a467e7c",
   "metadata": {
    "scrolled": true
   },
   "outputs": [
    {
     "data": {
      "text/html": [
       "<div>\n",
       "<style scoped>\n",
       "    .dataframe tbody tr th:only-of-type {\n",
       "        vertical-align: middle;\n",
       "    }\n",
       "\n",
       "    .dataframe tbody tr th {\n",
       "        vertical-align: top;\n",
       "    }\n",
       "\n",
       "    .dataframe thead th {\n",
       "        text-align: right;\n",
       "    }\n",
       "</style>\n",
       "<table border=\"1\" class=\"dataframe\">\n",
       "  <thead>\n",
       "    <tr style=\"text-align: right;\">\n",
       "      <th></th>\n",
       "      <th>Accidents</th>\n",
       "    </tr>\n",
       "    <tr>\n",
       "      <th>Date</th>\n",
       "      <th></th>\n",
       "    </tr>\n",
       "  </thead>\n",
       "  <tbody>\n",
       "    <tr>\n",
       "      <th>2019-01-31</th>\n",
       "      <td>8852</td>\n",
       "    </tr>\n",
       "    <tr>\n",
       "      <th>2019-02-28</th>\n",
       "      <td>8380</td>\n",
       "    </tr>\n",
       "    <tr>\n",
       "      <th>2019-03-31</th>\n",
       "      <td>8952</td>\n",
       "    </tr>\n",
       "    <tr>\n",
       "      <th>2019-04-30</th>\n",
       "      <td>8388</td>\n",
       "    </tr>\n",
       "    <tr>\n",
       "      <th>2019-05-31</th>\n",
       "      <td>9231</td>\n",
       "    </tr>\n",
       "  </tbody>\n",
       "</table>\n",
       "</div>"
      ],
      "text/plain": [
       "            Accidents\n",
       "Date                 \n",
       "2019-01-31       8852\n",
       "2019-02-28       8380\n",
       "2019-03-31       8952\n",
       "2019-04-30       8388\n",
       "2019-05-31       9231"
      ]
     },
     "execution_count": 21,
     "metadata": {},
     "output_type": "execute_result"
    }
   ],
   "source": [
    "Monthly_Accident = pd.DataFrame(Accidents.set_index('Date').resample('M').size())\n",
    "Monthly_Accident.columns = ['Accidents']\n",
    "Monthly_Accident.head()"
   ]
  },
  {
   "cell_type": "code",
   "execution_count": 22,
   "id": "4bdd0e0d",
   "metadata": {},
   "outputs": [
    {
     "data": {
      "image/png": "[encoded data removed]",
      "text/plain": [
       "<Figure size 720x432 with 1 Axes>"
      ]
     },
     "metadata": {},
     "output_type": "display_data"
    }
   ],
   "source": [
    "# prepare plot\n",
    "sns.set_style('white')\n",
    "fig, ax = plt.subplots(figsize=(10,6))\n",
    "\n",
    "# plot\n",
    "Accidents.set_index('Date').resample('M').size().plot(label='Total per Month', color='grey', ax=ax)\n",
    "\n",
    "ax.set_title('Accidents per Month', fontsize=14, fontweight='bold')\n",
    "ax.set(ylabel='Total Count\\n', xlabel='')\n",
    "ax.legend(bbox_to_anchor=(1.1, 1.1), frameon=False)\n",
    "\n",
    "# remove all spines\n",
    "sns.despine(ax=ax, top=True, right=True, left=True, bottom=False);"
   ]
  },
  {
   "cell_type": "code",
   "execution_count": 23,
   "id": "1c4947ea",
   "metadata": {},
   "outputs": [
    {
     "data": {
      "text/html": [
       "<div>\n",
       "<style scoped>\n",
       "    .dataframe tbody tr th:only-of-type {\n",
       "        vertical-align: middle;\n",
       "    }\n",
       "\n",
       "    .dataframe tbody tr th {\n",
       "        vertical-align: top;\n",
       "    }\n",
       "\n",
       "    .dataframe thead th {\n",
       "        text-align: right;\n",
       "    }\n",
       "</style>\n",
       "<table border=\"1\" class=\"dataframe\">\n",
       "  <thead>\n",
       "    <tr style=\"text-align: right;\">\n",
       "      <th></th>\n",
       "      <th>Average_Accidents</th>\n",
       "    </tr>\n",
       "    <tr>\n",
       "      <th>Weekday</th>\n",
       "      <th></th>\n",
       "    </tr>\n",
       "  </thead>\n",
       "  <tbody>\n",
       "    <tr>\n",
       "      <th>Friday</th>\n",
       "      <td>348.250000</td>\n",
       "    </tr>\n",
       "    <tr>\n",
       "      <th>Monday</th>\n",
       "      <td>304.230769</td>\n",
       "    </tr>\n",
       "    <tr>\n",
       "      <th>Saturday</th>\n",
       "      <td>284.615385</td>\n",
       "    </tr>\n",
       "    <tr>\n",
       "      <th>Sunday</th>\n",
       "      <td>236.365385</td>\n",
       "    </tr>\n",
       "    <tr>\n",
       "      <th>Thursday</th>\n",
       "      <td>328.269231</td>\n",
       "    </tr>\n",
       "    <tr>\n",
       "      <th>Tuesday</th>\n",
       "      <td>315.943396</td>\n",
       "    </tr>\n",
       "    <tr>\n",
       "      <th>Wednesday</th>\n",
       "      <td>325.480769</td>\n",
       "    </tr>\n",
       "  </tbody>\n",
       "</table>\n",
       "</div>"
      ],
      "text/plain": [
       "           Average_Accidents\n",
       "Weekday                     \n",
       "Friday            348.250000\n",
       "Monday            304.230769\n",
       "Saturday          284.615385\n",
       "Sunday            236.365385\n",
       "Thursday          328.269231\n",
       "Tuesday           315.943396\n",
       "Wednesday         325.480769"
      ]
     },
     "execution_count": 23,
     "metadata": {},
     "output_type": "execute_result"
    }
   ],
   "source": [
    "weekday_counts = pd.DataFrame(Accidents.set_index('Date').resample('1d')['Accident_Index'].size().reset_index())\n",
    "weekday_counts.columns = ['Date', 'Count']\n",
    "#weekday_counts\n",
    "\n",
    "weekday = weekday_counts['Date'].dt.day_name()\n",
    "\n",
    "weekday_averages = pd.DataFrame(weekday_counts.groupby(weekday)['Count'].mean().reset_index())\n",
    "weekday_averages.columns = ['Weekday', 'Average_Accidents']\n",
    "weekday_averages.set_index('Weekday', inplace=True)\n",
    "weekday_averages"
   ]
  },
  {
   "cell_type": "code",
   "execution_count": 24,
   "id": "6edeb9b2",
   "metadata": {},
   "outputs": [
    {
     "data": {
      "image/png": "[encoded data removed]",
      "text/plain": [
       "<Figure size 720x360 with 1 Axes>"
      ]
     },
     "metadata": {},
     "output_type": "display_data"
    }
   ],
   "source": [
    "days = ['Sunday', 'Saturday', 'Friday', 'Thursday', 'Wednesday', 'Tuesday', 'Monday']\n",
    "\n",
    "# prepare plot\n",
    "sns.set_style('white')\n",
    "fig, ax = plt.subplots(figsize=(10,5))\n",
    "colors=['red', 'lightsteelblue', 'blue', 'lightsteelblue','lightsteelblue', 'lightsteelblue', 'lightsteelblue']\n",
    "\n",
    "# plot\n",
    "weekday_averages.reindex(days).plot(kind='barh', ax=ax, color = colors)\n",
    "ax.set_title('\\nAverage Accidents per Weekday\\n', fontsize=14, fontweight='bold')\n",
    "ax.set(xlabel='\\nAverage Number', ylabel='')\n",
    "ax.legend('')\n",
    "\n",
    "# remove all spines\n",
    "sns.despine(ax=ax, top=True, right=True, left=True, bottom=True);"
   ]
  },
  {
   "cell_type": "code",
   "execution_count": 25,
   "id": "5dc1eb86",
   "metadata": {},
   "outputs": [
    {
     "data": {
      "text/html": [
       "<div>\n",
       "<style scoped>\n",
       "    .dataframe tbody tr th:only-of-type {\n",
       "        vertical-align: middle;\n",
       "    }\n",
       "\n",
       "    .dataframe tbody tr th {\n",
       "        vertical-align: top;\n",
       "    }\n",
       "\n",
       "    .dataframe thead th {\n",
       "        text-align: right;\n",
       "    }\n",
       "</style>\n",
       "<table border=\"1\" class=\"dataframe\">\n",
       "  <thead>\n",
       "    <tr style=\"text-align: right;\">\n",
       "      <th></th>\n",
       "      <th>Accident_Index</th>\n",
       "      <th>Location_Easting_OSGR</th>\n",
       "      <th>Location_Northing_OSGR</th>\n",
       "      <th>Longitude</th>\n",
       "      <th>Latitude</th>\n",
       "      <th>Police_Force</th>\n",
       "      <th>Accident_Severity</th>\n",
       "      <th>Number_of_Vehicles</th>\n",
       "      <th>Number_of_Casualties</th>\n",
       "      <th>Date</th>\n",
       "      <th>...</th>\n",
       "      <th>Light_Conditions</th>\n",
       "      <th>Weather_Conditions</th>\n",
       "      <th>Road_Surface_Conditions</th>\n",
       "      <th>Special_Conditions_at_Site</th>\n",
       "      <th>Carriageway_Hazards</th>\n",
       "      <th>Urban_or_Rural_Area</th>\n",
       "      <th>Did_Police_Officer_Attend_Scene_of_Accident</th>\n",
       "      <th>LSOA_of_Accident_Location</th>\n",
       "      <th>Hour</th>\n",
       "      <th>Daytime</th>\n",
       "    </tr>\n",
       "  </thead>\n",
       "  <tbody>\n",
       "    <tr>\n",
       "      <th>0</th>\n",
       "      <td>2019010128300</td>\n",
       "      <td>528218.0</td>\n",
       "      <td>180407.0</td>\n",
       "      <td>-0.153842</td>\n",
       "      <td>51.508057</td>\n",
       "      <td>1</td>\n",
       "      <td>3</td>\n",
       "      <td>2</td>\n",
       "      <td>3</td>\n",
       "      <td>2019-02-18</td>\n",
       "      <td>...</td>\n",
       "      <td>1</td>\n",
       "      <td>1</td>\n",
       "      <td>1</td>\n",
       "      <td>0</td>\n",
       "      <td>0</td>\n",
       "      <td>1</td>\n",
       "      <td>3</td>\n",
       "      <td>E01004762</td>\n",
       "      <td>17</td>\n",
       "      <td>afternoon  (15-19)</td>\n",
       "    </tr>\n",
       "    <tr>\n",
       "      <th>1</th>\n",
       "      <td>2019010152270</td>\n",
       "      <td>530219.0</td>\n",
       "      <td>172463.0</td>\n",
       "      <td>-0.127949</td>\n",
       "      <td>51.436208</td>\n",
       "      <td>1</td>\n",
       "      <td>3</td>\n",
       "      <td>2</td>\n",
       "      <td>1</td>\n",
       "      <td>2019-01-15</td>\n",
       "      <td>...</td>\n",
       "      <td>4</td>\n",
       "      <td>1</td>\n",
       "      <td>1</td>\n",
       "      <td>0</td>\n",
       "      <td>0</td>\n",
       "      <td>1</td>\n",
       "      <td>3</td>\n",
       "      <td>E01003117</td>\n",
       "      <td>21</td>\n",
       "      <td>evening (19-23)</td>\n",
       "    </tr>\n",
       "    <tr>\n",
       "      <th>2</th>\n",
       "      <td>2019010155191</td>\n",
       "      <td>530222.0</td>\n",
       "      <td>182543.0</td>\n",
       "      <td>-0.124193</td>\n",
       "      <td>51.526795</td>\n",
       "      <td>1</td>\n",
       "      <td>3</td>\n",
       "      <td>2</td>\n",
       "      <td>1</td>\n",
       "      <td>2019-01-01</td>\n",
       "      <td>...</td>\n",
       "      <td>4</td>\n",
       "      <td>1</td>\n",
       "      <td>1</td>\n",
       "      <td>0</td>\n",
       "      <td>0</td>\n",
       "      <td>1</td>\n",
       "      <td>1</td>\n",
       "      <td>E01000943</td>\n",
       "      <td>1</td>\n",
       "      <td>night (23-5)</td>\n",
       "    </tr>\n",
       "    <tr>\n",
       "      <th>3</th>\n",
       "      <td>2019010155192</td>\n",
       "      <td>525531.0</td>\n",
       "      <td>184605.0</td>\n",
       "      <td>-0.191044</td>\n",
       "      <td>51.546387</td>\n",
       "      <td>1</td>\n",
       "      <td>2</td>\n",
       "      <td>1</td>\n",
       "      <td>1</td>\n",
       "      <td>2019-01-01</td>\n",
       "      <td>...</td>\n",
       "      <td>4</td>\n",
       "      <td>1</td>\n",
       "      <td>1</td>\n",
       "      <td>0</td>\n",
       "      <td>0</td>\n",
       "      <td>1</td>\n",
       "      <td>1</td>\n",
       "      <td>E01000973</td>\n",
       "      <td>1</td>\n",
       "      <td>night (23-5)</td>\n",
       "    </tr>\n",
       "    <tr>\n",
       "      <th>4</th>\n",
       "      <td>2019010155194</td>\n",
       "      <td>524920.0</td>\n",
       "      <td>184004.0</td>\n",
       "      <td>-0.200064</td>\n",
       "      <td>51.541121</td>\n",
       "      <td>1</td>\n",
       "      <td>3</td>\n",
       "      <td>2</td>\n",
       "      <td>2</td>\n",
       "      <td>2019-01-01</td>\n",
       "      <td>...</td>\n",
       "      <td>4</td>\n",
       "      <td>1</td>\n",
       "      <td>1</td>\n",
       "      <td>0</td>\n",
       "      <td>0</td>\n",
       "      <td>1</td>\n",
       "      <td>1</td>\n",
       "      <td>E01000546</td>\n",
       "      <td>0</td>\n",
       "      <td>night (23-5)</td>\n",
       "    </tr>\n",
       "  </tbody>\n",
       "</table>\n",
       "<p>5 rows × 34 columns</p>\n",
       "</div>"
      ],
      "text/plain": [
       "  Accident_Index  Location_Easting_OSGR  Location_Northing_OSGR  Longitude  \\\n",
       "0  2019010128300               528218.0                180407.0  -0.153842   \n",
       "1  2019010152270               530219.0                172463.0  -0.127949   \n",
       "2  2019010155191               530222.0                182543.0  -0.124193   \n",
       "3  2019010155192               525531.0                184605.0  -0.191044   \n",
       "4  2019010155194               524920.0                184004.0  -0.200064   \n",
       "\n",
       "    Latitude  Police_Force  Accident_Severity  Number_of_Vehicles  \\\n",
       "0  51.508057             1                  3                   2   \n",
       "1  51.436208             1                  3                   2   \n",
       "2  51.526795             1                  3                   2   \n",
       "3  51.546387             1                  2                   1   \n",
       "4  51.541121             1                  3                   2   \n",
       "\n",
       "   Number_of_Casualties       Date  ...  Light_Conditions Weather_Conditions  \\\n",
       "0                     3 2019-02-18  ...                 1                  1   \n",
       "1                     1 2019-01-15  ...                 4                  1   \n",
       "2                     1 2019-01-01  ...                 4                  1   \n",
       "3                     1 2019-01-01  ...                 4                  1   \n",
       "4                     2 2019-01-01  ...                 4                  1   \n",
       "\n",
       "   Road_Surface_Conditions Special_Conditions_at_Site  Carriageway_Hazards  \\\n",
       "0                        1                          0                    0   \n",
       "1                        1                          0                    0   \n",
       "2                        1                          0                    0   \n",
       "3                        1                          0                    0   \n",
       "4                        1                          0                    0   \n",
       "\n",
       "   Urban_or_Rural_Area  Did_Police_Officer_Attend_Scene_of_Accident  \\\n",
       "0                    1                                            3   \n",
       "1                    1                                            3   \n",
       "2                    1                                            1   \n",
       "3                    1                                            1   \n",
       "4                    1                                            1   \n",
       "\n",
       "   LSOA_of_Accident_Location  Hour             Daytime  \n",
       "0                  E01004762    17  afternoon  (15-19)  \n",
       "1                  E01003117    21     evening (19-23)  \n",
       "2                  E01000943     1        night (23-5)  \n",
       "3                  E01000973     1        night (23-5)  \n",
       "4                  E01000546     0        night (23-5)  \n",
       "\n",
       "[5 rows x 34 columns]"
      ]
     },
     "execution_count": 25,
     "metadata": {},
     "output_type": "execute_result"
    }
   ],
   "source": [
    "Accidents.head()\n"
   ]
  },
  {
   "cell_type": "markdown",
   "id": "95644b2e",
   "metadata": {},
   "source": [
    "# Motorbikes involved in accidents "
   ]
  },
  {
   "cell_type": "code",
   "execution_count": 26,
   "id": "bf2fdf83",
   "metadata": {},
   "outputs": [
    {
     "data": {
      "text/plain": [
       "((111760, 34), (216381, 23))"
      ]
     },
     "execution_count": 26,
     "metadata": {},
     "output_type": "execute_result"
    }
   ],
   "source": [
    "Accidents.shape, Vehicles.shape"
   ]
  },
  {
   "cell_type": "code",
   "execution_count": 27,
   "id": "1fdc34a5",
   "metadata": {},
   "outputs": [
    {
     "data": {
      "text/html": [
       "<div>\n",
       "<style scoped>\n",
       "    .dataframe tbody tr th:only-of-type {\n",
       "        vertical-align: middle;\n",
       "    }\n",
       "\n",
       "    .dataframe tbody tr th {\n",
       "        vertical-align: top;\n",
       "    }\n",
       "\n",
       "    .dataframe thead th {\n",
       "        text-align: right;\n",
       "    }\n",
       "</style>\n",
       "<table border=\"1\" class=\"dataframe\">\n",
       "  <thead>\n",
       "    <tr style=\"text-align: right;\">\n",
       "      <th></th>\n",
       "      <th>Accident_Index</th>\n",
       "      <th>Location_Easting_OSGR</th>\n",
       "      <th>Location_Northing_OSGR</th>\n",
       "      <th>Longitude</th>\n",
       "      <th>Latitude</th>\n",
       "      <th>Police_Force</th>\n",
       "      <th>Accident_Severity</th>\n",
       "      <th>Number_of_Vehicles</th>\n",
       "      <th>Number_of_Casualties</th>\n",
       "      <th>Date</th>\n",
       "      <th>...</th>\n",
       "      <th>Journey_Purpose_of_Driver</th>\n",
       "      <th>Sex_of_Driver</th>\n",
       "      <th>Age_of_Driver</th>\n",
       "      <th>Age_Band_of_Driver</th>\n",
       "      <th>Engine_Capacity_(CC)</th>\n",
       "      <th>Propulsion_Code</th>\n",
       "      <th>Age_of_Vehicle</th>\n",
       "      <th>Driver_IMD_Decile</th>\n",
       "      <th>Driver_Home_Area_Type</th>\n",
       "      <th>Vehicle_IMD_Decile</th>\n",
       "    </tr>\n",
       "  </thead>\n",
       "  <tbody>\n",
       "    <tr>\n",
       "      <th>0</th>\n",
       "      <td>2019010128300</td>\n",
       "      <td>528218.0</td>\n",
       "      <td>180407.0</td>\n",
       "      <td>-0.153842</td>\n",
       "      <td>51.508057</td>\n",
       "      <td>1</td>\n",
       "      <td>3</td>\n",
       "      <td>2</td>\n",
       "      <td>3</td>\n",
       "      <td>2019-02-18</td>\n",
       "      <td>...</td>\n",
       "      <td>6</td>\n",
       "      <td>1</td>\n",
       "      <td>58</td>\n",
       "      <td>9</td>\n",
       "      <td>-1</td>\n",
       "      <td>-1</td>\n",
       "      <td>-1</td>\n",
       "      <td>2</td>\n",
       "      <td>1</td>\n",
       "      <td>2</td>\n",
       "    </tr>\n",
       "    <tr>\n",
       "      <th>1</th>\n",
       "      <td>2019010128300</td>\n",
       "      <td>528218.0</td>\n",
       "      <td>180407.0</td>\n",
       "      <td>-0.153842</td>\n",
       "      <td>51.508057</td>\n",
       "      <td>1</td>\n",
       "      <td>3</td>\n",
       "      <td>2</td>\n",
       "      <td>3</td>\n",
       "      <td>2019-02-18</td>\n",
       "      <td>...</td>\n",
       "      <td>6</td>\n",
       "      <td>3</td>\n",
       "      <td>-1</td>\n",
       "      <td>-1</td>\n",
       "      <td>-1</td>\n",
       "      <td>-1</td>\n",
       "      <td>-1</td>\n",
       "      <td>2</td>\n",
       "      <td>1</td>\n",
       "      <td>2</td>\n",
       "    </tr>\n",
       "    <tr>\n",
       "      <th>2</th>\n",
       "      <td>2019010152270</td>\n",
       "      <td>530219.0</td>\n",
       "      <td>172463.0</td>\n",
       "      <td>-0.127949</td>\n",
       "      <td>51.436208</td>\n",
       "      <td>1</td>\n",
       "      <td>3</td>\n",
       "      <td>2</td>\n",
       "      <td>1</td>\n",
       "      <td>2019-01-15</td>\n",
       "      <td>...</td>\n",
       "      <td>6</td>\n",
       "      <td>2</td>\n",
       "      <td>24</td>\n",
       "      <td>5</td>\n",
       "      <td>-1</td>\n",
       "      <td>-1</td>\n",
       "      <td>-1</td>\n",
       "      <td>3</td>\n",
       "      <td>1</td>\n",
       "      <td>3</td>\n",
       "    </tr>\n",
       "    <tr>\n",
       "      <th>3</th>\n",
       "      <td>2019010152270</td>\n",
       "      <td>530219.0</td>\n",
       "      <td>172463.0</td>\n",
       "      <td>-0.127949</td>\n",
       "      <td>51.436208</td>\n",
       "      <td>1</td>\n",
       "      <td>3</td>\n",
       "      <td>2</td>\n",
       "      <td>1</td>\n",
       "      <td>2019-01-15</td>\n",
       "      <td>...</td>\n",
       "      <td>6</td>\n",
       "      <td>3</td>\n",
       "      <td>-1</td>\n",
       "      <td>-1</td>\n",
       "      <td>-1</td>\n",
       "      <td>-1</td>\n",
       "      <td>-1</td>\n",
       "      <td>6</td>\n",
       "      <td>1</td>\n",
       "      <td>6</td>\n",
       "    </tr>\n",
       "    <tr>\n",
       "      <th>4</th>\n",
       "      <td>2019010155191</td>\n",
       "      <td>530222.0</td>\n",
       "      <td>182543.0</td>\n",
       "      <td>-0.124193</td>\n",
       "      <td>51.526795</td>\n",
       "      <td>1</td>\n",
       "      <td>3</td>\n",
       "      <td>2</td>\n",
       "      <td>1</td>\n",
       "      <td>2019-01-01</td>\n",
       "      <td>...</td>\n",
       "      <td>6</td>\n",
       "      <td>1</td>\n",
       "      <td>45</td>\n",
       "      <td>7</td>\n",
       "      <td>-1</td>\n",
       "      <td>-1</td>\n",
       "      <td>-1</td>\n",
       "      <td>4</td>\n",
       "      <td>1</td>\n",
       "      <td>4</td>\n",
       "    </tr>\n",
       "  </tbody>\n",
       "</table>\n",
       "<p>5 rows × 56 columns</p>\n",
       "</div>"
      ],
      "text/plain": [
       "  Accident_Index  Location_Easting_OSGR  Location_Northing_OSGR  Longitude  \\\n",
       "0  2019010128300               528218.0                180407.0  -0.153842   \n",
       "1  2019010128300               528218.0                180407.0  -0.153842   \n",
       "2  2019010152270               530219.0                172463.0  -0.127949   \n",
       "3  2019010152270               530219.0                172463.0  -0.127949   \n",
       "4  2019010155191               530222.0                182543.0  -0.124193   \n",
       "\n",
       "    Latitude  Police_Force  Accident_Severity  Number_of_Vehicles  \\\n",
       "0  51.508057             1                  3                   2   \n",
       "1  51.508057             1                  3                   2   \n",
       "2  51.436208             1                  3                   2   \n",
       "3  51.436208             1                  3                   2   \n",
       "4  51.526795             1                  3                   2   \n",
       "\n",
       "   Number_of_Casualties       Date  ...  Journey_Purpose_of_Driver  \\\n",
       "0                     3 2019-02-18  ...                          6   \n",
       "1                     3 2019-02-18  ...                          6   \n",
       "2                     1 2019-01-15  ...                          6   \n",
       "3                     1 2019-01-15  ...                          6   \n",
       "4                     1 2019-01-01  ...                          6   \n",
       "\n",
       "  Sex_of_Driver  Age_of_Driver Age_Band_of_Driver  Engine_Capacity_(CC)  \\\n",
       "0             1             58                  9                    -1   \n",
       "1             3             -1                 -1                    -1   \n",
       "2             2             24                  5                    -1   \n",
       "3             3             -1                 -1                    -1   \n",
       "4             1             45                  7                    -1   \n",
       "\n",
       "   Propulsion_Code  Age_of_Vehicle  Driver_IMD_Decile  Driver_Home_Area_Type  \\\n",
       "0               -1              -1                  2                      1   \n",
       "1               -1              -1                  2                      1   \n",
       "2               -1              -1                  3                      1   \n",
       "3               -1              -1                  6                      1   \n",
       "4               -1              -1                  4                      1   \n",
       "\n",
       "   Vehicle_IMD_Decile  \n",
       "0                   2  \n",
       "1                   2  \n",
       "2                   3  \n",
       "3                   6  \n",
       "4                   4  \n",
       "\n",
       "[5 rows x 56 columns]"
      ]
     },
     "execution_count": 27,
     "metadata": {},
     "output_type": "execute_result"
    }
   ],
   "source": [
    "df_acc_veh = pd.merge(Accidents,Vehicles)\n",
    "df_acc_veh.head()"
   ]
  },
  {
   "cell_type": "code",
   "execution_count": 28,
   "id": "bbea6bc5",
   "metadata": {},
   "outputs": [],
   "source": [
    "#motorcycles\n",
    "df_acc_veh['Vehicle_Type'] = df_acc_veh['Vehicle_Type'].replace(to_replace= 5, \n",
    "                                                        value=\"Motorcycle\")\n",
    "df_acc_veh['Vehicle_Type'] = df_acc_veh['Vehicle_Type'].replace(to_replace=4,\n",
    "                                                        value=\"Motorcycle\")\n",
    "df_acc_veh['Vehicle_Type'] = df_acc_veh['Vehicle_Type'].replace(to_replace=3, \n",
    "                                                value=\"Motorcycle\")\n",
    "df_acc_veh['Vehicle_Type'] = df_acc_veh['Vehicle_Type'].replace(to_replace=2, \n",
    "                                                        value=\"Motorcycle\")\n",
    "df_acc_veh['Vehicle_Type'] = df_acc_veh['Vehicle_Type'].replace(to_replace=23, \n",
    "                                                        value=\"Motorcycle\")\n",
    "df_acc_veh['Vehicle_Type'] = df_acc_veh['Vehicle_Type'].replace(to_replace=97, \n",
    "                                                        value=\"Motorcycle\")\n",
    "\n"
   ]
  },
  {
   "cell_type": "markdown",
   "id": "6432eeb5",
   "metadata": {},
   "source": [
    "# Significant hours of the day in which Motorcycle involved in accidents¶"
   ]
  },
  {
   "cell_type": "code",
   "execution_count": 29,
   "id": "131e49a0",
   "metadata": {},
   "outputs": [],
   "source": [
    "def Hours_of_the_day(lists):    \n",
    "    for a in range(0,25,1):\n",
    "        for i, x in enumerate(df_acc_veh['Hour']):\n",
    "            if a == x:\n",
    "                if df_acc_veh['Vehicle_Type'][i] == \"Motorcycle\":\n",
    "                    lists[a]+=1\n",
    "            else:\n",
    "                continue\n",
    "    return lists    "
   ]
  },
  {
   "cell_type": "code",
   "execution_count": 30,
   "id": "c5fd1965",
   "metadata": {},
   "outputs": [
    {
     "name": "stdout",
     "output_type": "stream",
     "text": [
      "[160, 100, 69, 35, 46, 111, 261, 625, 764, 492, 519, 615, 784, 869, 863, 1009, 1194, 1332, 1162, 874, 634, 539, 450, 260]\n"
     ]
    }
   ],
   "source": [
    "lists = [0]*24\n",
    "hours = Hours_of_the_day(lists)\n",
    "print(hours)"
   ]
  },
  {
   "cell_type": "code",
   "execution_count": 31,
   "id": "37189ed5",
   "metadata": {},
   "outputs": [
    {
     "name": "stdout",
     "output_type": "stream",
     "text": [
      "The significant hours of the day for which Motorcycle involve in accidents is 17 :00\n"
     ]
    }
   ],
   "source": [
    "maximum = hours[0]\n",
    "for i in  hours:\n",
    "    if i > maximum:\n",
    "        maximum = i\n",
    "        pos = hours.index(i)\n",
    "print(\"The significant hours of the day for which Motorcycle involve in accidents is\",pos,\":00\")\n",
    "    "
   ]
  },
  {
   "cell_type": "code",
   "execution_count": 32,
   "id": "45f15265",
   "metadata": {},
   "outputs": [
    {
     "data": {
      "image/png": "[encoded data removed]",
      "text/plain": [
       "<Figure size 1296x720 with 1 Axes>"
      ]
     },
     "metadata": {},
     "output_type": "display_data"
    }
   ],
   "source": [
    "Hours_of_the_day = list(['0','1','2','3','4','5','6','7','8','9','10','11','12','13','14','15','16','17','18','19','20','21','22','23'])\n",
    "f, ax = plt.subplots(figsize=(18,10))\n",
    "plt.bar( Hours_of_the_day,hours, align='center', alpha=0.5)\n",
    "plt.ylabel('Total number of Accidents that occur')\n",
    "plt.title('Hours of the day in which Road Traffic Accident')\n",
    "plt.xlabel('Hours')\n",
    "plt.show()"
   ]
  },
  {
   "cell_type": "markdown",
   "id": "e89a9ee5",
   "metadata": {},
   "source": [
    "# Significant days of the week in which Motorcycle involved in accidents"
   ]
  },
  {
   "cell_type": "code",
   "execution_count": 33,
   "id": "395594c3",
   "metadata": {},
   "outputs": [],
   "source": [
    "def days_of_the_Week(lists):\n",
    "    list_date = []\n",
    "    for i, x in enumerate(df_acc_veh['Vehicle_Type']): \n",
    "        if df_acc_veh['Accident_Index'][i] not in list_date:\n",
    "            if x == \"Motorcycle\":\n",
    "                b = df_acc_veh['Day_of_Week'][i]\n",
    "                lists[b-1]+=1\n",
    "                list_date.append(df_acc_veh['Accident_Index'][i])\n",
    "    return lists\n"
   ]
  },
  {
   "cell_type": "code",
   "execution_count": 34,
   "id": "5e9d4b55",
   "metadata": {},
   "outputs": [
    {
     "name": "stdout",
     "output_type": "stream",
     "text": [
      "[1669, 1760, 1926, 2038, 2008, 2217, 1773]\n"
     ]
    }
   ],
   "source": [
    "lists = [0]*7\n",
    "Days = days_of_the_Week(lists)\n",
    "print(Days)"
   ]
  },
  {
   "cell_type": "code",
   "execution_count": 35,
   "id": "ad991c3f",
   "metadata": {},
   "outputs": [
    {
     "name": "stdout",
     "output_type": "stream",
     "text": [
      "The significant day of the week for which Motorcycle involve in accidents is Friday\n"
     ]
    }
   ],
   "source": [
    "maximum = Days[0]\n",
    "for i in  Days:\n",
    "    if i > maximum:\n",
    "        maximum = i\n",
    "        pos = Days.index(i)\n",
    "if pos == 0:\n",
    "    pos = \"Sunday\"\n",
    "elif pos == 1:\n",
    "    pos = 'Monday'\n",
    "elif pos == 2:\n",
    "    pos = 'Tuesday'\n",
    "elif pos == 3:\n",
    "    pos = 'Wednesday'\n",
    "elif pos == 4:\n",
    "    pos = 'Thursday'\n",
    "elif pos == 5:\n",
    "    pos = 'Friday'\n",
    "else:\n",
    "    pos = 'Saturday'\n",
    "print(\"The significant day of the week for which Motorcycle involve in accidents is\",pos)\n",
    "    "
   ]
  },
  {
   "cell_type": "code",
   "execution_count": 36,
   "id": "3e7133d4",
   "metadata": {},
   "outputs": [
    {
     "data": {
      "image/png": "[encoded data removed]",
      "text/plain": [
       "<Figure size 720x360 with 1 Axes>"
      ]
     },
     "metadata": {},
     "output_type": "display_data"
    }
   ],
   "source": [
    "week_days = ['Sunday', 'Monday','Tuesday','Wednesday', 'Thursday', 'Friday','Saturday']\n",
    "\n",
    "f, ax = plt.subplots(figsize=(10,5))\n",
    "plt.barh(week_days,Days, align='center', alpha=0.5, color = ['navy','navy','navy','navy','navy','red','navy'])\n",
    "plt.ylabel('Total number of Accidents that occur')\n",
    "plt.title('Influence of Engine Capacity on Road Traffic Accident')\n",
    "plt.xlabel('Engine Capacity')\n",
    "plt.show()"
   ]
  },
  {
   "cell_type": "markdown",
   "id": "70e15243",
   "metadata": {},
   "source": [
    "# Pedestrians involved in accidents"
   ]
  },
  {
   "cell_type": "code",
   "execution_count": 37,
   "id": "e8312f65",
   "metadata": {},
   "outputs": [
    {
     "data": {
      "text/plain": [
       "((111760, 34), (153158, 16))"
      ]
     },
     "execution_count": 37,
     "metadata": {},
     "output_type": "execute_result"
    }
   ],
   "source": [
    "Accidents.shape, Casualties.shape"
   ]
  },
  {
   "cell_type": "code",
   "execution_count": 38,
   "id": "b866196f",
   "metadata": {
    "scrolled": true
   },
   "outputs": [
    {
     "data": {
      "text/html": [
       "<div>\n",
       "<style scoped>\n",
       "    .dataframe tbody tr th:only-of-type {\n",
       "        vertical-align: middle;\n",
       "    }\n",
       "\n",
       "    .dataframe tbody tr th {\n",
       "        vertical-align: top;\n",
       "    }\n",
       "\n",
       "    .dataframe thead th {\n",
       "        text-align: right;\n",
       "    }\n",
       "</style>\n",
       "<table border=\"1\" class=\"dataframe\">\n",
       "  <thead>\n",
       "    <tr style=\"text-align: right;\">\n",
       "      <th></th>\n",
       "      <th>Accident_Index</th>\n",
       "      <th>Location_Easting_OSGR</th>\n",
       "      <th>Location_Northing_OSGR</th>\n",
       "      <th>Longitude</th>\n",
       "      <th>Latitude</th>\n",
       "      <th>Police_Force</th>\n",
       "      <th>Accident_Severity</th>\n",
       "      <th>Number_of_Vehicles</th>\n",
       "      <th>Number_of_Casualties</th>\n",
       "      <th>Date</th>\n",
       "      <th>...</th>\n",
       "      <th>Age_Band_of_Casualty</th>\n",
       "      <th>Casualty_Severity</th>\n",
       "      <th>Pedestrian_Location</th>\n",
       "      <th>Pedestrian_Movement</th>\n",
       "      <th>Car_Passenger</th>\n",
       "      <th>Bus_or_Coach_Passenger</th>\n",
       "      <th>Pedestrian_Road_Maintenance_Worker</th>\n",
       "      <th>Casualty_Type</th>\n",
       "      <th>Casualty_Home_Area_Type</th>\n",
       "      <th>Casualty_IMD_Decile</th>\n",
       "    </tr>\n",
       "  </thead>\n",
       "  <tbody>\n",
       "    <tr>\n",
       "      <th>0</th>\n",
       "      <td>2019010128300</td>\n",
       "      <td>528218.0</td>\n",
       "      <td>180407.0</td>\n",
       "      <td>-0.153842</td>\n",
       "      <td>51.508057</td>\n",
       "      <td>1</td>\n",
       "      <td>3</td>\n",
       "      <td>2</td>\n",
       "      <td>3</td>\n",
       "      <td>2019-02-18</td>\n",
       "      <td>...</td>\n",
       "      <td>9</td>\n",
       "      <td>3</td>\n",
       "      <td>0</td>\n",
       "      <td>0</td>\n",
       "      <td>0</td>\n",
       "      <td>0</td>\n",
       "      <td>0</td>\n",
       "      <td>9</td>\n",
       "      <td>1</td>\n",
       "      <td>2</td>\n",
       "    </tr>\n",
       "    <tr>\n",
       "      <th>1</th>\n",
       "      <td>2019010128300</td>\n",
       "      <td>528218.0</td>\n",
       "      <td>180407.0</td>\n",
       "      <td>-0.153842</td>\n",
       "      <td>51.508057</td>\n",
       "      <td>1</td>\n",
       "      <td>3</td>\n",
       "      <td>2</td>\n",
       "      <td>3</td>\n",
       "      <td>2019-02-18</td>\n",
       "      <td>...</td>\n",
       "      <td>-1</td>\n",
       "      <td>3</td>\n",
       "      <td>0</td>\n",
       "      <td>0</td>\n",
       "      <td>1</td>\n",
       "      <td>0</td>\n",
       "      <td>0</td>\n",
       "      <td>9</td>\n",
       "      <td>1</td>\n",
       "      <td>5</td>\n",
       "    </tr>\n",
       "    <tr>\n",
       "      <th>2</th>\n",
       "      <td>2019010128300</td>\n",
       "      <td>528218.0</td>\n",
       "      <td>180407.0</td>\n",
       "      <td>-0.153842</td>\n",
       "      <td>51.508057</td>\n",
       "      <td>1</td>\n",
       "      <td>3</td>\n",
       "      <td>2</td>\n",
       "      <td>3</td>\n",
       "      <td>2019-02-18</td>\n",
       "      <td>...</td>\n",
       "      <td>-1</td>\n",
       "      <td>3</td>\n",
       "      <td>0</td>\n",
       "      <td>0</td>\n",
       "      <td>2</td>\n",
       "      <td>0</td>\n",
       "      <td>0</td>\n",
       "      <td>9</td>\n",
       "      <td>1</td>\n",
       "      <td>5</td>\n",
       "    </tr>\n",
       "    <tr>\n",
       "      <th>3</th>\n",
       "      <td>2019010152270</td>\n",
       "      <td>530219.0</td>\n",
       "      <td>172463.0</td>\n",
       "      <td>-0.127949</td>\n",
       "      <td>51.436208</td>\n",
       "      <td>1</td>\n",
       "      <td>3</td>\n",
       "      <td>2</td>\n",
       "      <td>1</td>\n",
       "      <td>2019-01-15</td>\n",
       "      <td>...</td>\n",
       "      <td>5</td>\n",
       "      <td>3</td>\n",
       "      <td>0</td>\n",
       "      <td>0</td>\n",
       "      <td>0</td>\n",
       "      <td>0</td>\n",
       "      <td>0</td>\n",
       "      <td>9</td>\n",
       "      <td>1</td>\n",
       "      <td>3</td>\n",
       "    </tr>\n",
       "    <tr>\n",
       "      <th>4</th>\n",
       "      <td>2019010155191</td>\n",
       "      <td>530222.0</td>\n",
       "      <td>182543.0</td>\n",
       "      <td>-0.124193</td>\n",
       "      <td>51.526795</td>\n",
       "      <td>1</td>\n",
       "      <td>3</td>\n",
       "      <td>2</td>\n",
       "      <td>1</td>\n",
       "      <td>2019-01-01</td>\n",
       "      <td>...</td>\n",
       "      <td>5</td>\n",
       "      <td>3</td>\n",
       "      <td>0</td>\n",
       "      <td>0</td>\n",
       "      <td>0</td>\n",
       "      <td>0</td>\n",
       "      <td>0</td>\n",
       "      <td>1</td>\n",
       "      <td>1</td>\n",
       "      <td>1</td>\n",
       "    </tr>\n",
       "  </tbody>\n",
       "</table>\n",
       "<p>5 rows × 49 columns</p>\n",
       "</div>"
      ],
      "text/plain": [
       "  Accident_Index  Location_Easting_OSGR  Location_Northing_OSGR  Longitude  \\\n",
       "0  2019010128300               528218.0                180407.0  -0.153842   \n",
       "1  2019010128300               528218.0                180407.0  -0.153842   \n",
       "2  2019010128300               528218.0                180407.0  -0.153842   \n",
       "3  2019010152270               530219.0                172463.0  -0.127949   \n",
       "4  2019010155191               530222.0                182543.0  -0.124193   \n",
       "\n",
       "    Latitude  Police_Force  Accident_Severity  Number_of_Vehicles  \\\n",
       "0  51.508057             1                  3                   2   \n",
       "1  51.508057             1                  3                   2   \n",
       "2  51.508057             1                  3                   2   \n",
       "3  51.436208             1                  3                   2   \n",
       "4  51.526795             1                  3                   2   \n",
       "\n",
       "   Number_of_Casualties       Date  ...  Age_Band_of_Casualty  \\\n",
       "0                     3 2019-02-18  ...                     9   \n",
       "1                     3 2019-02-18  ...                    -1   \n",
       "2                     3 2019-02-18  ...                    -1   \n",
       "3                     1 2019-01-15  ...                     5   \n",
       "4                     1 2019-01-01  ...                     5   \n",
       "\n",
       "  Casualty_Severity  Pedestrian_Location Pedestrian_Movement  Car_Passenger  \\\n",
       "0                 3                    0                   0              0   \n",
       "1                 3                    0                   0              1   \n",
       "2                 3                    0                   0              2   \n",
       "3                 3                    0                   0              0   \n",
       "4                 3                    0                   0              0   \n",
       "\n",
       "   Bus_or_Coach_Passenger  Pedestrian_Road_Maintenance_Worker  Casualty_Type  \\\n",
       "0                       0                                   0              9   \n",
       "1                       0                                   0              9   \n",
       "2                       0                                   0              9   \n",
       "3                       0                                   0              9   \n",
       "4                       0                                   0              1   \n",
       "\n",
       "   Casualty_Home_Area_Type  Casualty_IMD_Decile  \n",
       "0                        1                    2  \n",
       "1                        1                    5  \n",
       "2                        1                    5  \n",
       "3                        1                    3  \n",
       "4                        1                    1  \n",
       "\n",
       "[5 rows x 49 columns]"
      ]
     },
     "execution_count": 38,
     "metadata": {},
     "output_type": "execute_result"
    }
   ],
   "source": [
    "df_acc_cas = pd.merge(Accidents,Casualties)\n",
    "df_acc_cas.head()"
   ]
  },
  {
   "cell_type": "markdown",
   "id": "b81db68e",
   "metadata": {},
   "source": [
    "# Significant hours of the day in which Pedestrians involved in accidents"
   ]
  },
  {
   "cell_type": "code",
   "execution_count": 39,
   "id": "626d846e",
   "metadata": {},
   "outputs": [],
   "source": [
    "def Hours_of_the_day(lists):    \n",
    "    for a in range(0,25,1):\n",
    "        for i, x in enumerate(df_acc_cas['Hour']):\n",
    "            if a == x:\n",
    "                if df_acc_cas['Pedestrian_Movement'][i] > 0 or df_acc_cas['Pedestrian_Location'][i] >0:\n",
    "                    lists[a]+=1\n",
    "            else:\n",
    "                continue\n",
    "    return lists"
   ]
  },
  {
   "cell_type": "code",
   "execution_count": 40,
   "id": "9812ae5b",
   "metadata": {
    "scrolled": true
   },
   "outputs": [
    {
     "name": "stdout",
     "output_type": "stream",
     "text": [
      "[274, 177, 133, 128, 95, 114, 195, 538, 1423, 724, 751, 767, 904, 938, 971, 1829, 1372, 1457, 1241, 895, 628, 444, 486, 337]\n"
     ]
    }
   ],
   "source": [
    "lists = [0]*24\n",
    "hours = Hours_of_the_day(lists)\n",
    "print(hours)"
   ]
  },
  {
   "cell_type": "code",
   "execution_count": 41,
   "id": "8996e769",
   "metadata": {},
   "outputs": [
    {
     "name": "stdout",
     "output_type": "stream",
     "text": [
      "The significant hours of the day for which pedestrians involve in accidents is 15 :00\n"
     ]
    }
   ],
   "source": [
    "maximum = hours[0]\n",
    "for i in  hours:\n",
    "    if i > maximum:\n",
    "        maximum = i\n",
    "        pos = hours.index(i)\n",
    "print(\"The significant hours of the day for which pedestrians involve in accidents is\",pos,\":00\")\n",
    "    "
   ]
  },
  {
   "cell_type": "code",
   "execution_count": 42,
   "id": "37d5018c",
   "metadata": {},
   "outputs": [
    {
     "data": {
      "image/png": "[encoded data removed]",
      "text/plain": [
       "<Figure size 1296x720 with 1 Axes>"
      ]
     },
     "metadata": {},
     "output_type": "display_data"
    }
   ],
   "source": [
    "Hours_of_the_day = list(['0','1','2','3','4','5','6','7','8','9','10','11','12','13','14','15','16','17','18','19','20','21','22','23'])\n",
    "f, ax = plt.subplots(figsize=(18,10))\n",
    "plt.bar( Hours_of_the_day,hours, align='center', alpha=0.5)\n",
    "plt.ylabel('Total number of Accidents that occur')\n",
    "plt.title('Hours of the day in which Road Traffic Accident')\n",
    "plt.xlabel('Hours')\n",
    "plt.show()"
   ]
  },
  {
   "cell_type": "markdown",
   "id": "a35953b8",
   "metadata": {},
   "source": [
    "# Significant days of the week in which Pedestrians involved in accidents"
   ]
  },
  {
   "cell_type": "code",
   "execution_count": 43,
   "id": "c02e07bf",
   "metadata": {},
   "outputs": [],
   "source": [
    "def days_of_the_Week(lists):\n",
    "    list_date = []\n",
    "    for i, x in enumerate(df_acc_cas['Pedestrian_Movement']): \n",
    "        if df_acc_cas['Accident_Index'][i] not in list_date:\n",
    "            if x > 0:\n",
    "                b = df_acc_cas['Day_of_Week'][i]\n",
    "                lists[b-1]+=1\n",
    "                list_date.append(df_acc_cas['Accident_Index'][i])\n",
    "    return lists\n"
   ]
  },
  {
   "cell_type": "code",
   "execution_count": 44,
   "id": "47c150a7",
   "metadata": {},
   "outputs": [
    {
     "name": "stdout",
     "output_type": "stream",
     "text": [
      "[1402, 2329, 2515, 2537, 2556, 2746, 2082]\n"
     ]
    }
   ],
   "source": [
    "lists = [0]*7\n",
    "Days = days_of_the_Week(lists)\n",
    "print(Days)"
   ]
  },
  {
   "cell_type": "code",
   "execution_count": 45,
   "id": "7fdb20ec",
   "metadata": {},
   "outputs": [
    {
     "name": "stdout",
     "output_type": "stream",
     "text": [
      "The significant day of the week for which pedestrians involve in accidents is Friday\n"
     ]
    }
   ],
   "source": [
    "maximum = Days[0]\n",
    "for i in  Days:\n",
    "    if i > maximum:\n",
    "        maximum = i\n",
    "    pos = Days.index(maximum)\n",
    "if pos == 0:\n",
    "    pos = \"Sunday\"\n",
    "elif pos == 1:\n",
    "    pos = 'Monday'\n",
    "elif pos == 2:\n",
    "    pos = 'Tuesday'\n",
    "elif pos == 3:\n",
    "    pos = 'Wednesday'\n",
    "elif pos == 4:\n",
    "    pos = 'Thursday'\n",
    "elif pos == 5:\n",
    "    pos = 'Friday'\n",
    "else:\n",
    "    pos = 'Saturday'\n",
    "print(\"The significant day of the week for which pedestrians involve in accidents is\",pos)\n",
    "    "
   ]
  },
  {
   "cell_type": "code",
   "execution_count": 46,
   "id": "6d18c1c5",
   "metadata": {},
   "outputs": [
    {
     "data": {
      "image/png": "[encoded data removed]",
      "text/plain": [
       "<Figure size 720x360 with 1 Axes>"
      ]
     },
     "metadata": {},
     "output_type": "display_data"
    }
   ],
   "source": [
    "week_days = ['Sunday', 'Monday','Tuesday','Wednesday', 'Thursday', 'Friday','Saturday']\n",
    "\n",
    "f, ax = plt.subplots(figsize=(10,5))\n",
    "plt.barh(week_days,Days, align='center', alpha=0.5, color = ['lightsteelblue','lightsteelblue','lightsteelblue','lightsteelblue','lightsteelblue','blue','lightsteelblue'])\n",
    "plt.ylabel('Total number of Accidents that occur')\n",
    "plt.title('Influence of Engine Capacity on Road Traffic Accident')\n",
    "plt.xlabel('Engine Capacity')\n",
    "plt.show()"
   ]
  },
  {
   "cell_type": "markdown",
   "id": "4c6ef7dc",
   "metadata": {},
   "source": [
    "# Impact of daylight savings on road traffic accidents in the week after it starts and stops?"
   ]
  },
  {
   "cell_type": "markdown",
   "id": "04ed8693",
   "metadata": {},
   "source": [
    "#### Daylight savings started on the 31st of March 2019 and ends on the 27 October 2019\n",
    "#### A week after it started was 7th of april while a week after it stopped was on 4th November 2019"
   ]
  },
  {
   "cell_type": "markdown",
   "id": "4db8ec94",
   "metadata": {},
   "source": [
    "# A week after it started"
   ]
  },
  {
   "cell_type": "code",
   "execution_count": 48,
   "id": "b7138f59",
   "metadata": {},
   "outputs": [
    {
     "name": "stdout",
     "output_type": "stream",
     "text": [
      "A week after daylight saving started there was about 1827 Numbers of Road traffic accidents\n"
     ]
    }
   ],
   "source": [
    "import datetime\n",
    "b = 0\n",
    "daylight_savings = ['2019-03-31' ,\"2019-04-01\", \"2019-04-02\",\"2019-04-03\",\"2019-04-04\", \"2019-04-05\",\" 2019-04-06\", \" 2019-04-07\"]\n",
    "for a in Accidents['Date']:\n",
    "    a=a.strftime('%Y-%m-%d')\n",
    "    if a in daylight_savings:\n",
    "        b+=1\n",
    "print(\"A week after daylight saving started there was about\",b, \"Numbers of Road traffic accidents\")    "
   ]
  },
  {
   "cell_type": "markdown",
   "id": "f72a8680",
   "metadata": {},
   "source": [
    "# A week after it stopped"
   ]
  },
  {
   "cell_type": "code",
   "execution_count": 49,
   "id": "f74d3928",
   "metadata": {},
   "outputs": [
    {
     "name": "stdout",
     "output_type": "stream",
     "text": [
      "A week after daylight saving stopped there was about 1900 Numbers of Road traffic accidents\n"
     ]
    }
   ],
   "source": [
    "import datetime\n",
    "c = 0\n",
    "daylight_savings = ['2019-10-27' ,\"2019-10-28\", \"2019-10-29\",\"2019-10-30\",\"2019-10-31\", \"2019-11-01\",\" 2019-11-02\", \" 2019-11-03\"]\n",
    "for a in Accidents['Date']:\n",
    "    a=a.strftime('%Y-%m-%d')\n",
    "    if a in daylight_savings:\n",
    "        c+=1\n",
    "print(\"A week after daylight saving stopped there was about\",c, \"Numbers of Road traffic accidents\")    "
   ]
  },
  {
   "cell_type": "markdown",
   "id": "e2b42541",
   "metadata": {},
   "source": [
    "# A week before it started"
   ]
  },
  {
   "cell_type": "code",
   "execution_count": 50,
   "id": "3d000a47",
   "metadata": {},
   "outputs": [
    {
     "name": "stdout",
     "output_type": "stream",
     "text": [
      "A week before daylight saving started there was about 1958 Numbers of Road traffic accidents\n"
     ]
    }
   ],
   "source": [
    "import datetime\n",
    "b = 0\n",
    "daylight_savings = ['2019-03-30' ,\"2019-03-29\", \"2019-03-28\",\"2019-03-27\",\"2019-03-26\", \"2019-03-25\",\" 2019-03-24\", \" 2019-04-23\"]\n",
    "for a in Accidents['Date']:\n",
    "    a=a.strftime('%Y-%m-%d')\n",
    "    if a in daylight_savings:\n",
    "        b+=1\n",
    "print(\"A week before daylight saving started there was about\",b, \"Numbers of Road traffic accidents\")    "
   ]
  },
  {
   "cell_type": "markdown",
   "id": "99beea0f",
   "metadata": {},
   "source": [
    "# A week before it ended"
   ]
  },
  {
   "cell_type": "code",
   "execution_count": 51,
   "id": "f92bdc6b",
   "metadata": {},
   "outputs": [
    {
     "name": "stdout",
     "output_type": "stream",
     "text": [
      "A week before daylight saving ended there was about 2032 Numbers of Road traffic accidents\n"
     ]
    }
   ],
   "source": [
    "import datetime\n",
    "b = 0\n",
    "daylight_savings = ['2019-10-26' ,\"2019-10-25\", \"2019-10-24\",\"2019-10-23\",\"2019-11-22\", \"2019-11-21\",\" 2019-11-20\", \" 2019-11-19\"]\n",
    "for a in Accidents['Date']:\n",
    "    a=a.strftime('%Y-%m-%d')\n",
    "    if a in daylight_savings:\n",
    "        b+=1\n",
    "print(\"A week before daylight saving ended there was about\",b, \"Numbers of Road traffic accidents\")    "
   ]
  },
  {
   "cell_type": "markdown",
   "id": "4f60e502",
   "metadata": {},
   "source": [
    "It can be deduced that more accidents are experienced a week before daylight savings started compared to a week after it started\n",
    "Also, more accidents are experienced a week before daylight savings stopped compared to a week after it stopped"
   ]
  },
  {
   "cell_type": "markdown",
   "id": "996f8196",
   "metadata": {},
   "source": [
    "# Impact of sunrise and sunset times have on road traffic accidents?"
   ]
  },
  {
   "cell_type": "code",
   "execution_count": 52,
   "id": "a4e947b3",
   "metadata": {},
   "outputs": [],
   "source": [
    "def rise_set(hour, month):\n",
    "    lists = []\n",
    "    hour = int(hour)\n",
    "    month = int(month)\n",
    "    if month == 1:\n",
    "        if hour >= 9 and hour < 17:\n",
    "            return \"Sunrise\" \n",
    "        elif hour == 0:\n",
    "            return \"Sunset\"\n",
    "        else:\n",
    "            return \"Sunset\"\n",
    "    elif month == 2:\n",
    "        if hour >= 8 and hour < 19:  \n",
    "            return \"Sunrise\"\n",
    "        elif hour == 0:\n",
    "            return \"Sunset\"\n",
    "        else:\n",
    "            return \"Sunset\"\n",
    "    elif month == 3:\n",
    "         if hour >= 7 and hour < 20:\n",
    "            return \"Sunrise\"\n",
    "         elif hour == 0:\n",
    "            return \"Sunset\"\n",
    "         else:\n",
    "            return \"Sunset\"\n",
    "    elif month == 4:\n",
    "         if hour >= 5 and hour < 21:\n",
    "            return \"Sunrise\"\n",
    "         elif hour == 0:\n",
    "            return \"Sunset\"\n",
    "         else:\n",
    "            return \"Sunset\"\n",
    "    elif month == 5 or month == 6 or month == 7:\n",
    "         if hour >= 5 and hour <= 22:\n",
    "            return \"Sunrise\"\n",
    "         elif hour == 0:\n",
    "            return \"Sunset\"\n",
    "         else:\n",
    "            return \"Sunset\"\n",
    "    elif month == 8:\n",
    "         if hour >= 5 and hour <= 21:\n",
    "            return \"Sunrise\"\n",
    "         elif hour == 0:\n",
    "            return \"Sunset\"\n",
    "         else:\n",
    "            return \"Sunset\"\n",
    "    elif month == 9:\n",
    "         if hour >= 6 and hour < 21:\n",
    "            return \"Sunrise\"\n",
    "         elif hour == 0:\n",
    "            return \"Sunset\"\n",
    "         else:\n",
    "            return \"Sunset\"\n",
    "    elif month == 10:\n",
    "         if hour >= 7 and hour < 19:\n",
    "            return \"Sunrise\"\n",
    "         elif hour == 0:\n",
    "            return \"Sunset\"\n",
    "         else:\n",
    "            return \"Sunset\"\n",
    "    elif month == 11:\n",
    "         if hour >= 8 and hour < 18:\n",
    "            return \"Sunrise\"\n",
    "         elif hour == 0:\n",
    "            return \"Sunset\"\n",
    "         else:\n",
    "            return \"Sunset\"\n",
    "    elif month == 12:\n",
    "         if hour >= 9 and hour < 17:\n",
    "            return \"Sunrise\"\n",
    "         elif hour == 0:\n",
    "            return \"Sunset\"\n",
    "         else:\n",
    "            return \"Sunset\""
   ]
  },
  {
   "cell_type": "code",
   "execution_count": 53,
   "id": "b283c627",
   "metadata": {},
   "outputs": [],
   "source": [
    "new_Accident = Accidents\n",
    "new_Accident[\"Date\"] = Accidents['Date'].dt.strftime('%Y-%m-%d')"
   ]
  },
  {
   "cell_type": "code",
   "execution_count": 54,
   "id": "a8a79ac6",
   "metadata": {},
   "outputs": [
    {
     "data": {
      "text/plain": [
       "0    02\n",
       "1    01\n",
       "2    01\n",
       "3    01\n",
       "4    01\n",
       "Name: Month, dtype: object"
      ]
     },
     "execution_count": 54,
     "metadata": {},
     "output_type": "execute_result"
    }
   ],
   "source": [
    "Accidents[\"Month\"] =new_Accident['Date'].str[5:7]\n",
    "Accidents['Hour'] = pd.to_numeric(Accidents['Hour']) \n",
    "Accidents[\"Month\"].head()"
   ]
  },
  {
   "cell_type": "code",
   "execution_count": 55,
   "id": "337fe5c2",
   "metadata": {},
   "outputs": [
    {
     "data": {
      "text/html": [
       "<div>\n",
       "<style scoped>\n",
       "    .dataframe tbody tr th:only-of-type {\n",
       "        vertical-align: middle;\n",
       "    }\n",
       "\n",
       "    .dataframe tbody tr th {\n",
       "        vertical-align: top;\n",
       "    }\n",
       "\n",
       "    .dataframe thead th {\n",
       "        text-align: right;\n",
       "    }\n",
       "</style>\n",
       "<table border=\"1\" class=\"dataframe\">\n",
       "  <thead>\n",
       "    <tr style=\"text-align: right;\">\n",
       "      <th></th>\n",
       "      <th>Time</th>\n",
       "      <th>Hour</th>\n",
       "      <th>Month</th>\n",
       "      <th>sunrise/sunset</th>\n",
       "    </tr>\n",
       "  </thead>\n",
       "  <tbody>\n",
       "    <tr>\n",
       "      <th>0</th>\n",
       "      <td>17:50</td>\n",
       "      <td>17</td>\n",
       "      <td>02</td>\n",
       "      <td>Sunrise</td>\n",
       "    </tr>\n",
       "    <tr>\n",
       "      <th>1</th>\n",
       "      <td>21:45</td>\n",
       "      <td>21</td>\n",
       "      <td>01</td>\n",
       "      <td>Sunset</td>\n",
       "    </tr>\n",
       "    <tr>\n",
       "      <th>2</th>\n",
       "      <td>01:50</td>\n",
       "      <td>1</td>\n",
       "      <td>01</td>\n",
       "      <td>Sunset</td>\n",
       "    </tr>\n",
       "    <tr>\n",
       "      <th>3</th>\n",
       "      <td>01:20</td>\n",
       "      <td>1</td>\n",
       "      <td>01</td>\n",
       "      <td>Sunset</td>\n",
       "    </tr>\n",
       "    <tr>\n",
       "      <th>4</th>\n",
       "      <td>00:40</td>\n",
       "      <td>0</td>\n",
       "      <td>01</td>\n",
       "      <td>Sunset</td>\n",
       "    </tr>\n",
       "    <tr>\n",
       "      <th>...</th>\n",
       "      <td>...</td>\n",
       "      <td>...</td>\n",
       "      <td>...</td>\n",
       "      <td>...</td>\n",
       "    </tr>\n",
       "    <tr>\n",
       "      <th>111847</th>\n",
       "      <td>16:29</td>\n",
       "      <td>16</td>\n",
       "      <td>08</td>\n",
       "      <td>Sunrise</td>\n",
       "    </tr>\n",
       "    <tr>\n",
       "      <th>111848</th>\n",
       "      <td>11:40</td>\n",
       "      <td>11</td>\n",
       "      <td>08</td>\n",
       "      <td>Sunrise</td>\n",
       "    </tr>\n",
       "    <tr>\n",
       "      <th>111849</th>\n",
       "      <td>23:15</td>\n",
       "      <td>23</td>\n",
       "      <td>09</td>\n",
       "      <td>Sunset</td>\n",
       "    </tr>\n",
       "    <tr>\n",
       "      <th>111850</th>\n",
       "      <td>12:50</td>\n",
       "      <td>12</td>\n",
       "      <td>10</td>\n",
       "      <td>Sunrise</td>\n",
       "    </tr>\n",
       "    <tr>\n",
       "      <th>111851</th>\n",
       "      <td>15:10</td>\n",
       "      <td>15</td>\n",
       "      <td>11</td>\n",
       "      <td>Sunrise</td>\n",
       "    </tr>\n",
       "  </tbody>\n",
       "</table>\n",
       "<p>111760 rows × 4 columns</p>\n",
       "</div>"
      ],
      "text/plain": [
       "         Time  Hour Month sunrise/sunset\n",
       "0       17:50    17    02        Sunrise\n",
       "1       21:45    21    01         Sunset\n",
       "2       01:50     1    01         Sunset\n",
       "3       01:20     1    01         Sunset\n",
       "4       00:40     0    01         Sunset\n",
       "...       ...   ...   ...            ...\n",
       "111847  16:29    16    08        Sunrise\n",
       "111848  11:40    11    08        Sunrise\n",
       "111849  23:15    23    09         Sunset\n",
       "111850  12:50    12    10        Sunrise\n",
       "111851  15:10    15    11        Sunrise\n",
       "\n",
       "[111760 rows x 4 columns]"
      ]
     },
     "execution_count": 55,
     "metadata": {},
     "output_type": "execute_result"
    }
   ],
   "source": [
    "Accidents['sunrise/sunset'] = Accidents.apply(lambda x: rise_set(x['Hour'], x[\"Month\"]), axis=1)\n",
    "Accidents[['Time', 'Hour', 'Month', 'sunrise/sunset']]"
   ]
  },
  {
   "cell_type": "code",
   "execution_count": 56,
   "id": "7c9aa459",
   "metadata": {},
   "outputs": [],
   "source": [
    "def sunrise_sunset(column):\n",
    "    sunrise = 0\n",
    "    sunset = 0\n",
    "    for x in column:\n",
    "        if x == 'Sunrise':\n",
    "            sunrise += 1\n",
    "        else:\n",
    "            sunset +=1\n",
    "    return sunrise, sunset"
   ]
  },
  {
   "cell_type": "code",
   "execution_count": 58,
   "id": "32d1556f",
   "metadata": {},
   "outputs": [
    {
     "name": "stdout",
     "output_type": "stream",
     "text": [
      "The total number of Accidents that occur during the sunrise is  85020\n",
      "The total number of Accidents that occur during the sunset is  26740\n"
     ]
    }
   ],
   "source": [
    "sunrise, sunset = sunrise_sunset(Accidents[\"sunrise/sunset\"])\n",
    "print(\"The total number of Accidents that occur during the sunrise is \", sunrise)\n",
    "print(\"The total number of Accidents that occur during the sunset is \", sunset)"
   ]
  },
  {
   "cell_type": "markdown",
   "id": "165f5380",
   "metadata": {},
   "source": [
    "Hence, total number of accidents that occur during  sunrise is times three of accidents that occur when the sunset"
   ]
  },
  {
   "cell_type": "markdown",
   "id": "86851903",
   "metadata": {},
   "source": [
    "# Particular types of vehicles (engine capacity, age of vehicle, etc.) that  frequently involved in road traffic accidents"
   ]
  },
  {
   "cell_type": "code",
   "execution_count": 47,
   "id": "ba7e4b24",
   "metadata": {},
   "outputs": [
    {
     "data": {
      "text/html": [
       "<div>\n",
       "<style scoped>\n",
       "    .dataframe tbody tr th:only-of-type {\n",
       "        vertical-align: middle;\n",
       "    }\n",
       "\n",
       "    .dataframe tbody tr th {\n",
       "        vertical-align: top;\n",
       "    }\n",
       "\n",
       "    .dataframe thead th {\n",
       "        text-align: right;\n",
       "    }\n",
       "</style>\n",
       "<table border=\"1\" class=\"dataframe\">\n",
       "  <thead>\n",
       "    <tr style=\"text-align: right;\">\n",
       "      <th></th>\n",
       "      <th>Accident_Index</th>\n",
       "      <th>Location_Easting_OSGR</th>\n",
       "      <th>Location_Northing_OSGR</th>\n",
       "      <th>Longitude</th>\n",
       "      <th>Latitude</th>\n",
       "      <th>Police_Force</th>\n",
       "      <th>Accident_Severity</th>\n",
       "      <th>Number_of_Vehicles</th>\n",
       "      <th>Number_of_Casualties</th>\n",
       "      <th>Date</th>\n",
       "      <th>...</th>\n",
       "      <th>Journey_Purpose_of_Driver</th>\n",
       "      <th>Sex_of_Driver</th>\n",
       "      <th>Age_of_Driver</th>\n",
       "      <th>Age_Band_of_Driver</th>\n",
       "      <th>Engine_Capacity_(CC)</th>\n",
       "      <th>Propulsion_Code</th>\n",
       "      <th>Age_of_Vehicle</th>\n",
       "      <th>Driver_IMD_Decile</th>\n",
       "      <th>Driver_Home_Area_Type</th>\n",
       "      <th>Vehicle_IMD_Decile</th>\n",
       "    </tr>\n",
       "  </thead>\n",
       "  <tbody>\n",
       "    <tr>\n",
       "      <th>0</th>\n",
       "      <td>2019010128300</td>\n",
       "      <td>528218.0</td>\n",
       "      <td>180407.0</td>\n",
       "      <td>-0.153842</td>\n",
       "      <td>51.508057</td>\n",
       "      <td>1</td>\n",
       "      <td>3</td>\n",
       "      <td>2</td>\n",
       "      <td>3</td>\n",
       "      <td>2019-02-18</td>\n",
       "      <td>...</td>\n",
       "      <td>6</td>\n",
       "      <td>1</td>\n",
       "      <td>58</td>\n",
       "      <td>9</td>\n",
       "      <td>-1</td>\n",
       "      <td>-1</td>\n",
       "      <td>-1</td>\n",
       "      <td>2</td>\n",
       "      <td>1</td>\n",
       "      <td>2</td>\n",
       "    </tr>\n",
       "    <tr>\n",
       "      <th>1</th>\n",
       "      <td>2019010128300</td>\n",
       "      <td>528218.0</td>\n",
       "      <td>180407.0</td>\n",
       "      <td>-0.153842</td>\n",
       "      <td>51.508057</td>\n",
       "      <td>1</td>\n",
       "      <td>3</td>\n",
       "      <td>2</td>\n",
       "      <td>3</td>\n",
       "      <td>2019-02-18</td>\n",
       "      <td>...</td>\n",
       "      <td>6</td>\n",
       "      <td>3</td>\n",
       "      <td>-1</td>\n",
       "      <td>-1</td>\n",
       "      <td>-1</td>\n",
       "      <td>-1</td>\n",
       "      <td>-1</td>\n",
       "      <td>2</td>\n",
       "      <td>1</td>\n",
       "      <td>2</td>\n",
       "    </tr>\n",
       "    <tr>\n",
       "      <th>2</th>\n",
       "      <td>2019010152270</td>\n",
       "      <td>530219.0</td>\n",
       "      <td>172463.0</td>\n",
       "      <td>-0.127949</td>\n",
       "      <td>51.436208</td>\n",
       "      <td>1</td>\n",
       "      <td>3</td>\n",
       "      <td>2</td>\n",
       "      <td>1</td>\n",
       "      <td>2019-01-15</td>\n",
       "      <td>...</td>\n",
       "      <td>6</td>\n",
       "      <td>2</td>\n",
       "      <td>24</td>\n",
       "      <td>5</td>\n",
       "      <td>-1</td>\n",
       "      <td>-1</td>\n",
       "      <td>-1</td>\n",
       "      <td>3</td>\n",
       "      <td>1</td>\n",
       "      <td>3</td>\n",
       "    </tr>\n",
       "    <tr>\n",
       "      <th>3</th>\n",
       "      <td>2019010152270</td>\n",
       "      <td>530219.0</td>\n",
       "      <td>172463.0</td>\n",
       "      <td>-0.127949</td>\n",
       "      <td>51.436208</td>\n",
       "      <td>1</td>\n",
       "      <td>3</td>\n",
       "      <td>2</td>\n",
       "      <td>1</td>\n",
       "      <td>2019-01-15</td>\n",
       "      <td>...</td>\n",
       "      <td>6</td>\n",
       "      <td>3</td>\n",
       "      <td>-1</td>\n",
       "      <td>-1</td>\n",
       "      <td>-1</td>\n",
       "      <td>-1</td>\n",
       "      <td>-1</td>\n",
       "      <td>6</td>\n",
       "      <td>1</td>\n",
       "      <td>6</td>\n",
       "    </tr>\n",
       "    <tr>\n",
       "      <th>4</th>\n",
       "      <td>2019010155191</td>\n",
       "      <td>530222.0</td>\n",
       "      <td>182543.0</td>\n",
       "      <td>-0.124193</td>\n",
       "      <td>51.526795</td>\n",
       "      <td>1</td>\n",
       "      <td>3</td>\n",
       "      <td>2</td>\n",
       "      <td>1</td>\n",
       "      <td>2019-01-01</td>\n",
       "      <td>...</td>\n",
       "      <td>6</td>\n",
       "      <td>1</td>\n",
       "      <td>45</td>\n",
       "      <td>7</td>\n",
       "      <td>-1</td>\n",
       "      <td>-1</td>\n",
       "      <td>-1</td>\n",
       "      <td>4</td>\n",
       "      <td>1</td>\n",
       "      <td>4</td>\n",
       "    </tr>\n",
       "  </tbody>\n",
       "</table>\n",
       "<p>5 rows × 56 columns</p>\n",
       "</div>"
      ],
      "text/plain": [
       "  Accident_Index  Location_Easting_OSGR  Location_Northing_OSGR  Longitude  \\\n",
       "0  2019010128300               528218.0                180407.0  -0.153842   \n",
       "1  2019010128300               528218.0                180407.0  -0.153842   \n",
       "2  2019010152270               530219.0                172463.0  -0.127949   \n",
       "3  2019010152270               530219.0                172463.0  -0.127949   \n",
       "4  2019010155191               530222.0                182543.0  -0.124193   \n",
       "\n",
       "    Latitude  Police_Force  Accident_Severity  Number_of_Vehicles  \\\n",
       "0  51.508057             1                  3                   2   \n",
       "1  51.508057             1                  3                   2   \n",
       "2  51.436208             1                  3                   2   \n",
       "3  51.436208             1                  3                   2   \n",
       "4  51.526795             1                  3                   2   \n",
       "\n",
       "   Number_of_Casualties       Date  ...  Journey_Purpose_of_Driver  \\\n",
       "0                     3 2019-02-18  ...                          6   \n",
       "1                     3 2019-02-18  ...                          6   \n",
       "2                     1 2019-01-15  ...                          6   \n",
       "3                     1 2019-01-15  ...                          6   \n",
       "4                     1 2019-01-01  ...                          6   \n",
       "\n",
       "  Sex_of_Driver  Age_of_Driver Age_Band_of_Driver  Engine_Capacity_(CC)  \\\n",
       "0             1             58                  9                    -1   \n",
       "1             3             -1                 -1                    -1   \n",
       "2             2             24                  5                    -1   \n",
       "3             3             -1                 -1                    -1   \n",
       "4             1             45                  7                    -1   \n",
       "\n",
       "   Propulsion_Code  Age_of_Vehicle  Driver_IMD_Decile  Driver_Home_Area_Type  \\\n",
       "0               -1              -1                  2                      1   \n",
       "1               -1              -1                  2                      1   \n",
       "2               -1              -1                  3                      1   \n",
       "3               -1              -1                  6                      1   \n",
       "4               -1              -1                  4                      1   \n",
       "\n",
       "   Vehicle_IMD_Decile  \n",
       "0                   2  \n",
       "1                   2  \n",
       "2                   3  \n",
       "3                   6  \n",
       "4                   4  \n",
       "\n",
       "[5 rows x 56 columns]"
      ]
     },
     "execution_count": 47,
     "metadata": {},
     "output_type": "execute_result"
    }
   ],
   "source": [
    "df_acc_veh = pd.merge(Accidents,Vehicles)\n",
    "df_acc_veh.head()"
   ]
  },
  {
   "cell_type": "code",
   "execution_count": 48,
   "id": "18ed9e26",
   "metadata": {},
   "outputs": [],
   "source": [
    "#motorcycles\n",
    "df_acc_veh['Vehicle_Type'] = df_acc_veh['Vehicle_Type'].replace(to_replace=5, \n",
    "                                                        value=\"Motorcycle\")\n",
    "df_acc_veh['Vehicle_Type'] =df_acc_veh['Vehicle_Type'].replace(to_replace=\n",
    "                                                        4,\n",
    "                                                        value=\"Motorcycle\")\n",
    "df_acc_veh['Vehicle_Type'] = df_acc_veh['Vehicle_Type'].replace(to_replace=3, \n",
    "                                                value=\"Motorcycle\")\n",
    "df_acc_veh['Vehicle_Type'] =df_acc_veh['Vehicle_Type'].replace(to_replace=2, \n",
    "                                                        value=\"Motorcycle\")\n",
    "df_acc_veh['Vehicle_Type'] =df_acc_veh['Vehicle_Type'].replace(to_replace=23, \n",
    "                                                        value=\"Motorcycle\")\n",
    "df_acc_veh['Vehicle_Type'] = df_acc_veh['Vehicle_Type'].replace(to_replace=97, \n",
    "                                                        value=\"Motorcycle\")\n",
    "df_acc_veh['Vehicle_Type'] = df_acc_veh['Vehicle_Type'].replace(to_replace=22, \n",
    "                                                        value=\"Motorcycle\")\n",
    "#Bicycle\n",
    "df_acc_veh['Vehicle_Type'] = df_acc_veh['Vehicle_Type'].replace(to_replace=1, \n",
    "                                                        value=\"Bicycle\")\n",
    "#Horse\n",
    "df_acc_veh['Vehicle_Type'] = df_acc_veh['Vehicle_Type'].replace(to_replace=16, \n",
    "                                                        value=\"Horse\")\n",
    "\n",
    "#Goods_vehicle\n",
    "df_acc_veh['Vehicle_Type'] = df_acc_veh['Vehicle_Type'].replace(to_replace=\n",
    "                                                        19, \n",
    "                                                        value=\"Goods Vehicle\")\n",
    "df_acc_veh['Vehicle_Type'] = df_acc_veh['Vehicle_Type'].replace(to_replace=20, \n",
    "                                                        value=\"Goods Vehicle\")\n",
    "df_acc_veh['Vehicle_Type'] = df_acc_veh['Vehicle_Type'].replace(to_replace=98, \n",
    "                                                        value=\"Goods Vehicle\")\n",
    "df_acc_veh['Vehicle_Type'] = df_acc_veh['Vehicle_Type'].replace(to_replace=21, \n",
    "                                                        value=\"Goods Vehicle\")\n",
    "\n",
    "#car\n",
    "df_acc_veh['Vehicle_Type'] = df_acc_veh['Vehicle_Type'].replace(to_replace=8, \n",
    "                                                        value=\"Car\")\n",
    "df_acc_veh['Vehicle_Type'] = df_acc_veh['Vehicle_Type'].replace(to_replace=9, \n",
    "                                                        value=\"Car\")\n",
    "\n",
    "\n",
    "#bus\n",
    "df_acc_veh['Vehicle_Type'] = df_acc_veh['Vehicle_Type'].replace(to_replace=10, \n",
    "                                                        value=\"Bus\")\n",
    "df_acc_veh['Vehicle_Type'] = df_acc_veh['Vehicle_Type'].replace(to_replace=\n",
    "                                                        11, \n",
    "                                                        value=\"Bus\")\n",
    "#Train\n",
    "df_acc_veh['Vehicle_Type'] = df_acc_veh['Vehicle_Type'].replace(to_replace=18, \n",
    "                                                        value=\"Train\")\n",
    "\n",
    "#other vehicle\n",
    "df_acc_veh['Vehicle_Type'] = df_acc_veh['Vehicle_Type'].replace(to_replace=17, \n",
    "                                                        value=\"Other Vehicle\")\n",
    "df_acc_veh['Vehicle_Type'] = df_acc_veh['Vehicle_Type'].replace(to_replace=90, \n",
    "                                                        value=\"Other Vehicle\")\n",
    "#Missing data\n",
    "df_acc_veh['Vehicle_Type'] = df_acc_veh['Vehicle_Type'].replace(to_replace=-1, \n",
    "                                                        value=\"Missing Data\")"
   ]
  },
  {
   "cell_type": "code",
   "execution_count": 49,
   "id": "8c1fe3ae",
   "metadata": {},
   "outputs": [
    {
     "name": "stdout",
     "output_type": "stream",
     "text": [
      "Done\n"
     ]
    }
   ],
   "source": [
    "for i, x in enumerate(df_acc_veh['Vehicle_Type']):\n",
    "    if x ==\"Missing Data\":\n",
    "        df_acc_veh=df_acc_veh.drop(i)\n",
    "print(\"Done\")    "
   ]
  },
  {
   "cell_type": "code",
   "execution_count": 50,
   "id": "acf0ec7c",
   "metadata": {},
   "outputs": [
    {
     "data": {
      "text/plain": [
       "array(['Car', 'Bicycle', 'Goods Vehicle', 'Motorcycle', 'Bus',\n",
       "       'Other Vehicle', 'Horse', 'Train'], dtype=object)"
      ]
     },
     "execution_count": 50,
     "metadata": {},
     "output_type": "execute_result"
    }
   ],
   "source": [
    "df_acc_veh['Vehicle_Type'].unique()"
   ]
  },
  {
   "cell_type": "code",
   "execution_count": 54,
   "id": "213d7685",
   "metadata": {},
   "outputs": [],
   "source": [
    "def Vehicle_Accident():\n",
    "    b = 0\n",
    "    lists=[]\n",
    "    features = ['Car', 'Horse', 'Goods Vehicle', 'Other Vehicle','Motorcycle', 'Bus', 'Bicycle', 'Train']\n",
    "    for u, a in enumerate(features):\n",
    "        for i, x in enumerate(df_acc_veh['Vehicle_Type']):\n",
    "            if x==a:\n",
    "                b+=1\n",
    "        lists.append(b)\n",
    "        b=0\n",
    "    return lists\n",
    "    "
   ]
  },
  {
   "cell_type": "code",
   "execution_count": 56,
   "id": "22c59444",
   "metadata": {},
   "outputs": [
    {
     "data": {
      "text/plain": [
       "[119802, 49, 13122, 1059, 13973, 3405, 13886, 25]"
      ]
     },
     "execution_count": 56,
     "metadata": {},
     "output_type": "execute_result"
    }
   ],
   "source": [
    "vehicles = Vehicle_Accident()\n",
    "vehicles"
   ]
  },
  {
   "cell_type": "code",
   "execution_count": 57,
   "id": "6387c423",
   "metadata": {},
   "outputs": [
    {
     "name": "stdout",
     "output_type": "stream",
     "text": [
      "The Particular types of vehicles that mostly involve in accidents is Car\n"
     ]
    }
   ],
   "source": [
    "maximum = vehicles[0]\n",
    "for i in vehicles:\n",
    "    if i > maximum:\n",
    "        maximum = i\n",
    "    pos = vehicles.index(maximum)\n",
    "if pos == 0:\n",
    "    pos = 'Car'\n",
    "elif pos == 1:\n",
    "    pos =  'Horse'\n",
    "elif pos == 2:\n",
    "    pos = 'Goods Vehicle'\n",
    "elif pos == 3:\n",
    "    pos = 'Other Vehicle'\n",
    "elif pos == 4:\n",
    "    pos ='Motorcycle'\n",
    "elif pos == 5:\n",
    "    pos = 'Bus'\n",
    "elif pos == 6:\n",
    "    pos = 'Bicycle'\n",
    "else:\n",
    "    pos = 'Train'\n",
    "print(\"The Particular types of vehicles that mostly involve in accidents is\",pos)"
   ]
  },
  {
   "cell_type": "code",
   "execution_count": 58,
   "id": "46f15120",
   "metadata": {},
   "outputs": [
    {
     "data": {
      "image/png": "[encoded data removed]",
      "text/plain": [
       "<Figure size 1224x864 with 1 Axes>"
      ]
     },
     "metadata": {},
     "output_type": "display_data"
    }
   ],
   "source": [
    "Vehicle = ['Car', 'Horse', 'Goods Vehicle', 'Other Vehicle','Motorcycle', 'Bus', 'Bicycle', 'Train']\n",
    "\n",
    "fig = plt.figure(figsize =(17, 12))\n",
    "plt.pie(vehicles, labels = Vehicle)\n",
    " \n",
    "plt.show()"
   ]
  },
  {
   "cell_type": "markdown",
   "id": "43240a30",
   "metadata": {},
   "source": [
    "# Age of vehicle that frequently involved in road traffic accidents"
   ]
  },
  {
   "cell_type": "code",
   "execution_count": 71,
   "id": "0600a9c3",
   "metadata": {},
   "outputs": [
    {
     "data": {
      "text/plain": [
       "array([-1,  4,  1, 14,  7, 12, 15, 11,  5,  2, 10, 17,  8, 22,  9,  6, 18,\n",
       "        3, 16, 27, 13, 20, 21, 19, 23, 26, 24, 38, 53, 30, 25, 29, 37, 28,\n",
       "       33, 39, 31, 36, 44, 40, 35, 57, 34, 32, 42, 45, 87, 94, 63, 52, 59,\n",
       "       48, 90, 41, 54, 47, 60, 55, 66, 43, 58, 50, 46, 88, 72, 51, 74, 65,\n",
       "       56, 62, 49, 80], dtype=int64)"
      ]
     },
     "execution_count": 71,
     "metadata": {},
     "output_type": "execute_result"
    }
   ],
   "source": [
    "df_acc_veh['Age_of_Vehicle'].unique()"
   ]
  },
  {
   "cell_type": "code",
   "execution_count": 72,
   "id": "6cb9732e",
   "metadata": {},
   "outputs": [],
   "source": [
    "def Vehicle_count(vehicle_type):\n",
    "    lists = [0,0,0,0,0,0,0,0,0,0,0,0,0,0,0,0,0,0]\n",
    "    for n in df_acc_veh[df_acc_veh['Vehicle_Type']==vehicle_type]['Age_of_Vehicle']:\n",
    "        if n in range(0,5):\n",
    "            lists[0]+=1\n",
    "        if n in range(5,10):\n",
    "            lists[1]+=1\n",
    "        if n in range(10,15):\n",
    "            lists[2]+=1\n",
    "        if n in range(15,20):\n",
    "            lists[3]+=1\n",
    "        if n in range(20,25):\n",
    "            lists[4]+=1\n",
    "        if n in range(25,30):\n",
    "            lists[5]+=1\n",
    "        if n in range(30,35):\n",
    "            lists[6]+=1\n",
    "        if n in range(35,40):\n",
    "            lists[7]+=1\n",
    "        if n in range(40,45):\n",
    "            lists[8]+=1\n",
    "        if n in range(45,50):\n",
    "            lists[9]+=1\n",
    "        if n in range(50,55):\n",
    "            lists[10]+=1\n",
    "        if n in range(55,60):\n",
    "            lists[11]+=1\n",
    "        if n in range(60,65):\n",
    "            lists[12]+=1\n",
    "        if n in range(65,70):\n",
    "            lists[13]+=1\n",
    "        if n in range(70,75):\n",
    "            lists[14]+=1\n",
    "        if n in range(75,80):\n",
    "            lists[15]+=1 \n",
    "        if n in range(80,85):\n",
    "            lists[16]+=1\n",
    "        if n in range(85,91):\n",
    "            lists[17]+=1\n",
    "    return lists"
   ]
  },
  {
   "cell_type": "code",
   "execution_count": 73,
   "id": "f1e84ff2",
   "metadata": {},
   "outputs": [],
   "source": [
    "Car = Vehicle_count('Car')\n",
    "Bicycle = Vehicle_count('Bicycle')\n",
    "Goods_vehicle = Vehicle_count('Goods Vehicle')\n",
    "Motorcycle = Vehicle_count('Motorcycle')\n",
    "Bus = Vehicle_count('Bus')\n",
    "Other_Vehicle = Vehicle_count('Other Vehicle')\n",
    "Horse = Vehicle_count('Horse')\n",
    "Train = Vehicle_count('Train')"
   ]
  },
  {
   "cell_type": "code",
   "execution_count": 74,
   "id": "c98eef60",
   "metadata": {},
   "outputs": [],
   "source": [
    "data = pd.DataFrame({'Vehicle_Age': ['0-4','5-9','10-14','15-19','20-24','25-29','30-34','35-39', '40-44', '45-49','50-54','55-59','60-64','65-69','70-74',\n",
    "                            '75-80','80-84','85-90'], 'Car':Car,'Bicycle':Bicycle,'Goods Vehicle':Goods_vehicle,\n",
    "                     'Motorcycle': Motorcycle, 'Bus': Bus,'Other_Vehicle':Other_Vehicle,'Horse':Horse, 'Train':Train  })\n"
   ]
  },
  {
   "cell_type": "code",
   "execution_count": 75,
   "id": "681081b5",
   "metadata": {},
   "outputs": [
    {
     "data": {
      "text/html": [
       "<div>\n",
       "<style scoped>\n",
       "    .dataframe tbody tr th:only-of-type {\n",
       "        vertical-align: middle;\n",
       "    }\n",
       "\n",
       "    .dataframe tbody tr th {\n",
       "        vertical-align: top;\n",
       "    }\n",
       "\n",
       "    .dataframe thead th {\n",
       "        text-align: right;\n",
       "    }\n",
       "</style>\n",
       "<table border=\"1\" class=\"dataframe\">\n",
       "  <thead>\n",
       "    <tr style=\"text-align: right;\">\n",
       "      <th></th>\n",
       "      <th>Vehicle_Age</th>\n",
       "      <th>Car</th>\n",
       "      <th>Bicycle</th>\n",
       "      <th>Goods Vehicle</th>\n",
       "      <th>Motorcycle</th>\n",
       "      <th>Bus</th>\n",
       "      <th>Other_Vehicle</th>\n",
       "      <th>Horse</th>\n",
       "      <th>Train</th>\n",
       "    </tr>\n",
       "  </thead>\n",
       "  <tbody>\n",
       "    <tr>\n",
       "      <th>0</th>\n",
       "      <td>0-4</td>\n",
       "      <td>26262</td>\n",
       "      <td>0</td>\n",
       "      <td>4320</td>\n",
       "      <td>4347</td>\n",
       "      <td>840</td>\n",
       "      <td>206</td>\n",
       "      <td>0</td>\n",
       "      <td>0</td>\n",
       "    </tr>\n",
       "    <tr>\n",
       "      <th>1</th>\n",
       "      <td>5-9</td>\n",
       "      <td>28392</td>\n",
       "      <td>0</td>\n",
       "      <td>2618</td>\n",
       "      <td>2606</td>\n",
       "      <td>882</td>\n",
       "      <td>124</td>\n",
       "      <td>0</td>\n",
       "      <td>0</td>\n",
       "    </tr>\n",
       "    <tr>\n",
       "      <th>2</th>\n",
       "      <td>10-14</td>\n",
       "      <td>27008</td>\n",
       "      <td>0</td>\n",
       "      <td>1553</td>\n",
       "      <td>1628</td>\n",
       "      <td>595</td>\n",
       "      <td>58</td>\n",
       "      <td>0</td>\n",
       "      <td>0</td>\n",
       "    </tr>\n",
       "    <tr>\n",
       "      <th>3</th>\n",
       "      <td>15-19</td>\n",
       "      <td>11247</td>\n",
       "      <td>0</td>\n",
       "      <td>527</td>\n",
       "      <td>1025</td>\n",
       "      <td>164</td>\n",
       "      <td>29</td>\n",
       "      <td>0</td>\n",
       "      <td>0</td>\n",
       "    </tr>\n",
       "    <tr>\n",
       "      <th>4</th>\n",
       "      <td>20-24</td>\n",
       "      <td>1083</td>\n",
       "      <td>0</td>\n",
       "      <td>58</td>\n",
       "      <td>480</td>\n",
       "      <td>22</td>\n",
       "      <td>10</td>\n",
       "      <td>0</td>\n",
       "      <td>0</td>\n",
       "    </tr>\n",
       "    <tr>\n",
       "      <th>5</th>\n",
       "      <td>25-29</td>\n",
       "      <td>176</td>\n",
       "      <td>0</td>\n",
       "      <td>2</td>\n",
       "      <td>119</td>\n",
       "      <td>3</td>\n",
       "      <td>7</td>\n",
       "      <td>0</td>\n",
       "      <td>0</td>\n",
       "    </tr>\n",
       "    <tr>\n",
       "      <th>6</th>\n",
       "      <td>30-34</td>\n",
       "      <td>57</td>\n",
       "      <td>0</td>\n",
       "      <td>5</td>\n",
       "      <td>48</td>\n",
       "      <td>0</td>\n",
       "      <td>8</td>\n",
       "      <td>0</td>\n",
       "      <td>0</td>\n",
       "    </tr>\n",
       "    <tr>\n",
       "      <th>7</th>\n",
       "      <td>35-39</td>\n",
       "      <td>15</td>\n",
       "      <td>0</td>\n",
       "      <td>2</td>\n",
       "      <td>45</td>\n",
       "      <td>0</td>\n",
       "      <td>1</td>\n",
       "      <td>0</td>\n",
       "      <td>0</td>\n",
       "    </tr>\n",
       "    <tr>\n",
       "      <th>8</th>\n",
       "      <td>40-44</td>\n",
       "      <td>10</td>\n",
       "      <td>0</td>\n",
       "      <td>1</td>\n",
       "      <td>21</td>\n",
       "      <td>1</td>\n",
       "      <td>3</td>\n",
       "      <td>0</td>\n",
       "      <td>0</td>\n",
       "    </tr>\n",
       "    <tr>\n",
       "      <th>9</th>\n",
       "      <td>45-49</td>\n",
       "      <td>4</td>\n",
       "      <td>0</td>\n",
       "      <td>1</td>\n",
       "      <td>5</td>\n",
       "      <td>0</td>\n",
       "      <td>0</td>\n",
       "      <td>0</td>\n",
       "      <td>0</td>\n",
       "    </tr>\n",
       "    <tr>\n",
       "      <th>10</th>\n",
       "      <td>50-54</td>\n",
       "      <td>3</td>\n",
       "      <td>0</td>\n",
       "      <td>0</td>\n",
       "      <td>10</td>\n",
       "      <td>1</td>\n",
       "      <td>0</td>\n",
       "      <td>0</td>\n",
       "      <td>0</td>\n",
       "    </tr>\n",
       "    <tr>\n",
       "      <th>11</th>\n",
       "      <td>55-59</td>\n",
       "      <td>2</td>\n",
       "      <td>0</td>\n",
       "      <td>0</td>\n",
       "      <td>14</td>\n",
       "      <td>0</td>\n",
       "      <td>0</td>\n",
       "      <td>0</td>\n",
       "      <td>0</td>\n",
       "    </tr>\n",
       "    <tr>\n",
       "      <th>12</th>\n",
       "      <td>60-64</td>\n",
       "      <td>2</td>\n",
       "      <td>0</td>\n",
       "      <td>0</td>\n",
       "      <td>4</td>\n",
       "      <td>0</td>\n",
       "      <td>0</td>\n",
       "      <td>0</td>\n",
       "      <td>0</td>\n",
       "    </tr>\n",
       "    <tr>\n",
       "      <th>13</th>\n",
       "      <td>65-69</td>\n",
       "      <td>0</td>\n",
       "      <td>0</td>\n",
       "      <td>0</td>\n",
       "      <td>3</td>\n",
       "      <td>0</td>\n",
       "      <td>0</td>\n",
       "      <td>0</td>\n",
       "      <td>0</td>\n",
       "    </tr>\n",
       "    <tr>\n",
       "      <th>14</th>\n",
       "      <td>70-74</td>\n",
       "      <td>2</td>\n",
       "      <td>0</td>\n",
       "      <td>0</td>\n",
       "      <td>0</td>\n",
       "      <td>0</td>\n",
       "      <td>0</td>\n",
       "      <td>0</td>\n",
       "      <td>0</td>\n",
       "    </tr>\n",
       "    <tr>\n",
       "      <th>15</th>\n",
       "      <td>75-80</td>\n",
       "      <td>0</td>\n",
       "      <td>0</td>\n",
       "      <td>0</td>\n",
       "      <td>0</td>\n",
       "      <td>0</td>\n",
       "      <td>0</td>\n",
       "      <td>0</td>\n",
       "      <td>0</td>\n",
       "    </tr>\n",
       "    <tr>\n",
       "      <th>16</th>\n",
       "      <td>80-84</td>\n",
       "      <td>0</td>\n",
       "      <td>0</td>\n",
       "      <td>0</td>\n",
       "      <td>1</td>\n",
       "      <td>0</td>\n",
       "      <td>0</td>\n",
       "      <td>0</td>\n",
       "      <td>0</td>\n",
       "    </tr>\n",
       "    <tr>\n",
       "      <th>17</th>\n",
       "      <td>85-90</td>\n",
       "      <td>4</td>\n",
       "      <td>0</td>\n",
       "      <td>0</td>\n",
       "      <td>0</td>\n",
       "      <td>0</td>\n",
       "      <td>0</td>\n",
       "      <td>0</td>\n",
       "      <td>0</td>\n",
       "    </tr>\n",
       "  </tbody>\n",
       "</table>\n",
       "</div>"
      ],
      "text/plain": [
       "   Vehicle_Age    Car  Bicycle  Goods Vehicle  Motorcycle  Bus  Other_Vehicle  \\\n",
       "0          0-4  26262        0           4320        4347  840            206   \n",
       "1          5-9  28392        0           2618        2606  882            124   \n",
       "2        10-14  27008        0           1553        1628  595             58   \n",
       "3        15-19  11247        0            527        1025  164             29   \n",
       "4        20-24   1083        0             58         480   22             10   \n",
       "5        25-29    176        0              2         119    3              7   \n",
       "6        30-34     57        0              5          48    0              8   \n",
       "7        35-39     15        0              2          45    0              1   \n",
       "8        40-44     10        0              1          21    1              3   \n",
       "9        45-49      4        0              1           5    0              0   \n",
       "10       50-54      3        0              0          10    1              0   \n",
       "11       55-59      2        0              0          14    0              0   \n",
       "12       60-64      2        0              0           4    0              0   \n",
       "13       65-69      0        0              0           3    0              0   \n",
       "14       70-74      2        0              0           0    0              0   \n",
       "15       75-80      0        0              0           0    0              0   \n",
       "16       80-84      0        0              0           1    0              0   \n",
       "17       85-90      4        0              0           0    0              0   \n",
       "\n",
       "    Horse  Train  \n",
       "0       0      0  \n",
       "1       0      0  \n",
       "2       0      0  \n",
       "3       0      0  \n",
       "4       0      0  \n",
       "5       0      0  \n",
       "6       0      0  \n",
       "7       0      0  \n",
       "8       0      0  \n",
       "9       0      0  \n",
       "10      0      0  \n",
       "11      0      0  \n",
       "12      0      0  \n",
       "13      0      0  \n",
       "14      0      0  \n",
       "15      0      0  \n",
       "16      0      0  \n",
       "17      0      0  "
      ]
     },
     "execution_count": 75,
     "metadata": {},
     "output_type": "execute_result"
    }
   ],
   "source": [
    "pd.DataFrame(data)"
   ]
  },
  {
   "cell_type": "markdown",
   "id": "155552a3",
   "metadata": {},
   "source": [
    "Age of Vehicles that frequently involve in road traffic accidents are vehicles between the ages of (0-9) years"
   ]
  },
  {
   "cell_type": "code",
   "execution_count": 76,
   "id": "c4221860",
   "metadata": {},
   "outputs": [],
   "source": [
    "results = np.array([Car,Bicycle,Goods_vehicle,Motorcycle,Bus,Other_Vehicle,Horse,Train])"
   ]
  },
  {
   "cell_type": "code",
   "execution_count": 77,
   "id": "5bd643ea",
   "metadata": {},
   "outputs": [
    {
     "data": {
      "image/png": "[encoded data removed]",
      "text/plain": [
       "<Figure size 1080x720 with 2 Axes>"
      ]
     },
     "metadata": {},
     "output_type": "display_data"
    }
   ],
   "source": [
    "Vehicles = ['Car', 'Bicycle', 'Goods_vehicle', 'Motorcycle','Bus','Other_Vehicle', 'Horse', 'Train']\n",
    "Vehicle_Age = ['0-4','5-9','10-14','15-19','20-24','25-29','30-34','35-39', '40-44', '45-49','50-54','55-59','60-64','65-69','70-74',\n",
    "                            '75-80','80-84','85-90']\n",
    "\n",
    "f, ax = plt.subplots(figsize=(15, 10))\n",
    "ax = sns.heatmap(results, annot = True, fmt =\"\", linewidths = 0.30,  xticklabels=Vehicle_Age,yticklabels=Vehicles, ax = ax)\n",
    "\n",
    "plt.show()"
   ]
  },
  {
   "cell_type": "markdown",
   "id": "8300d147",
   "metadata": {},
   "source": [
    "# Engine capacity that frequently involved in road traffic accidents"
   ]
  },
  {
   "cell_type": "code",
   "execution_count": 78,
   "id": "43f2315f",
   "metadata": {
    "scrolled": true
   },
   "outputs": [],
   "source": [
    "df_acc_veh_engCap = pd.DataFrame(df_acc_veh['Engine_Capacity_(CC)'].value_counts())\n",
    "df_acc_veh_engCap= df_acc_veh_engCap.head(6)\n",
    "df_acc_veh_engCap = df_acc_veh_engCap.drop(-1)\n"
   ]
  },
  {
   "cell_type": "code",
   "execution_count": 79,
   "id": "e5c567d6",
   "metadata": {},
   "outputs": [],
   "source": [
    "lists = df_acc_veh_engCap.index.tolist()"
   ]
  },
  {
   "cell_type": "code",
   "execution_count": 85,
   "id": "2feb1f85",
   "metadata": {},
   "outputs": [
    {
     "data": {
      "image/png": "[encoded data removed]",
      "text/plain": [
       "<Figure size 720x360 with 1 Axes>"
      ]
     },
     "metadata": {},
     "output_type": "display_data"
    }
   ],
   "source": [
    "Age_group = lists\n",
    "group_count = np.arange(len(Age_group))\n",
    "f, ax = plt.subplots(figsize=(10,5))\n",
    "plt.bar(group_count,lists, align='center', alpha=0.5)\n",
    "plt.xticks(group_count, Age_group, rotation = 70,fontsize=15)\n",
    "plt.ylabel('Total number of Accidents that occur')\n",
    "plt.title('Influence of Engine Capacity on Road Traffic Accident')\n",
    "plt.xlabel('Engine Capacity')\n",
    "plt.show()"
   ]
  },
  {
   "cell_type": "markdown",
   "id": "2c8a17a2",
   "metadata": {},
   "source": [
    "Engine capacities that frequently involve in road traffic accidents are 1968 and 1995"
   ]
  },
  {
   "cell_type": "markdown",
   "id": "c55eae11",
   "metadata": {},
   "source": [
    "# Conditions (weather, geographic location, situations) that generate more road traffic accidents"
   ]
  },
  {
   "cell_type": "markdown",
   "id": "e097cd60",
   "metadata": {},
   "source": [
    "# Weather"
   ]
  },
  {
   "cell_type": "code",
   "execution_count": 59,
   "id": "95aa1377",
   "metadata": {},
   "outputs": [],
   "source": [
    "def Weather_Condition(Number):\n",
    "    if Number==1:\n",
    "        return \"Fine no high winds\"\n",
    "    elif Number==2:\n",
    "        return \"Raining no high winds\"\n",
    "    elif Number==3:\n",
    "        return \"Snowing no high winds\"\n",
    "    elif Number==4:\n",
    "        return \"Fine + high winds\"\n",
    "    elif Number==5:\n",
    "        return \"Raining + high winds\"\n",
    "    elif Number==6:\n",
    "        return \"Snowing + high winds\"\n",
    "    elif Number==7:\n",
    "        return \"Fog or mist\"\n",
    "    elif Number==8:\n",
    "        return \"Other\"\n",
    "    elif Number==9:\n",
    "        return \"Unknown\" "
   ]
  },
  {
   "cell_type": "code",
   "execution_count": 60,
   "id": "32d05482",
   "metadata": {},
   "outputs": [
    {
     "data": {
      "text/html": [
       "<div>\n",
       "<style scoped>\n",
       "    .dataframe tbody tr th:only-of-type {\n",
       "        vertical-align: middle;\n",
       "    }\n",
       "\n",
       "    .dataframe tbody tr th {\n",
       "        vertical-align: top;\n",
       "    }\n",
       "\n",
       "    .dataframe thead th {\n",
       "        text-align: right;\n",
       "    }\n",
       "</style>\n",
       "<table border=\"1\" class=\"dataframe\">\n",
       "  <thead>\n",
       "    <tr style=\"text-align: right;\">\n",
       "      <th></th>\n",
       "      <th>Time</th>\n",
       "      <th>Hour</th>\n",
       "      <th>Weather Condition</th>\n",
       "    </tr>\n",
       "  </thead>\n",
       "  <tbody>\n",
       "    <tr>\n",
       "      <th>0</th>\n",
       "      <td>17:50</td>\n",
       "      <td>17</td>\n",
       "      <td>Fine no high winds</td>\n",
       "    </tr>\n",
       "    <tr>\n",
       "      <th>1</th>\n",
       "      <td>21:45</td>\n",
       "      <td>21</td>\n",
       "      <td>Fine no high winds</td>\n",
       "    </tr>\n",
       "    <tr>\n",
       "      <th>2</th>\n",
       "      <td>01:50</td>\n",
       "      <td>1</td>\n",
       "      <td>Fine no high winds</td>\n",
       "    </tr>\n",
       "    <tr>\n",
       "      <th>3</th>\n",
       "      <td>01:20</td>\n",
       "      <td>1</td>\n",
       "      <td>Fine no high winds</td>\n",
       "    </tr>\n",
       "    <tr>\n",
       "      <th>4</th>\n",
       "      <td>00:40</td>\n",
       "      <td>0</td>\n",
       "      <td>Fine no high winds</td>\n",
       "    </tr>\n",
       "  </tbody>\n",
       "</table>\n",
       "</div>"
      ],
      "text/plain": [
       "    Time  Hour   Weather Condition\n",
       "0  17:50    17  Fine no high winds\n",
       "1  21:45    21  Fine no high winds\n",
       "2  01:50     1  Fine no high winds\n",
       "3  01:20     1  Fine no high winds\n",
       "4  00:40     0  Fine no high winds"
      ]
     },
     "execution_count": 60,
     "metadata": {},
     "output_type": "execute_result"
    }
   ],
   "source": [
    "Accidents['Weather Condition'] = Accidents['Weather_Conditions'].apply(Weather_Condition)\n",
    "Accidents[['Time', 'Hour', 'Weather Condition']].head()"
   ]
  },
  {
   "cell_type": "code",
   "execution_count": 61,
   "id": "8861ba94",
   "metadata": {},
   "outputs": [],
   "source": [
    "def  weather():\n",
    "    b = 0\n",
    "    lists=[]\n",
    "    features = ['Fine no high winds', 'Raining + high winds','Raining no high winds', 'Snowing no high winds', 'Fine + high winds',\n",
    "                'Fog or mist', 'Other',\"Unknown\",  'Snowing + high winds']\n",
    "\n",
    "    for u, a in enumerate(features):\n",
    "        for i, x in enumerate(Accidents['Weather Condition']):\n",
    "            if x==a:\n",
    "                b+=1\n",
    "        lists.append(b)\n",
    "        b=0\n",
    "    return lists\n",
    "    "
   ]
  },
  {
   "cell_type": "code",
   "execution_count": 62,
   "id": "a6789d2d",
   "metadata": {},
   "outputs": [
    {
     "data": {
      "text/plain": [
       "[87923, 1315, 14381, 317, 1152, 372, 2940, 3325, 35]"
      ]
     },
     "execution_count": 62,
     "metadata": {},
     "output_type": "execute_result"
    }
   ],
   "source": [
    "conditions= weather()\n",
    "conditions"
   ]
  },
  {
   "cell_type": "code",
   "execution_count": 63,
   "id": "5ca59889",
   "metadata": {},
   "outputs": [
    {
     "name": "stdout",
     "output_type": "stream",
     "text": [
      "The weather condition that generate more road traffic accidents:  Fine no high winds\n"
     ]
    }
   ],
   "source": [
    "maximum = conditions[0]\n",
    "for i in conditions:\n",
    "    if i > maximum:\n",
    "        maximum = i\n",
    "    pos = conditions.index(maximum)\n",
    "if pos == 0:\n",
    "    pos = \"Fine no high winds\"\n",
    "elif pos == 1:\n",
    "    pos = \"Raining + high winds\"\n",
    "elif pos == 2:\n",
    "    pos = \"Raining no high winds\"\n",
    "elif pos == 3:\n",
    "    pos = \"Snowing no high winds\"\n",
    "elif pos == 4:\n",
    "    pos =\"'Fine + high winds'\"\n",
    "elif pos == 5:\n",
    "    pos = \"Fog or mist\"\n",
    "elif pos == 6:\n",
    "    pos = 'Other'\n",
    "elif pos == 7:\n",
    "    pos =\"Unknown\"\n",
    "else:\n",
    "    pos = 'Snowing + high winds'\n",
    "print(\"The weather condition that generate more road traffic accidents: \",pos)"
   ]
  },
  {
   "cell_type": "code",
   "execution_count": 64,
   "id": "9bdabc7f",
   "metadata": {},
   "outputs": [
    {
     "data": {
      "image/png": "[encoded data removed]",
      "text/plain": [
       "<Figure size 1224x864 with 1 Axes>"
      ]
     },
     "metadata": {},
     "output_type": "display_data"
    }
   ],
   "source": [
    "weather =  ['Fine no high winds', 'Raining + high winds','Raining no high winds', 'Snowing no high winds', 'Fine + high winds',\n",
    "                'Fog or mist', 'Other',\"Unknown\",  'Snowing + high winds']\n",
    "\n",
    "fig = plt.figure(figsize =(17, 12))\n",
    "plt.pie(conditions, labels = weather)\n",
    " \n",
    "plt.show()"
   ]
  },
  {
   "cell_type": "markdown",
   "id": "35cbce2e",
   "metadata": {},
   "source": [
    "# How does driver related variables affect the outcome (e.g., age of the driver, and the purpose of the journey)"
   ]
  },
  {
   "cell_type": "markdown",
   "id": "c0d45c14",
   "metadata": {},
   "source": [
    "# How age of the driver affect road traffic accidents"
   ]
  },
  {
   "cell_type": "code",
   "execution_count": 95,
   "id": "40873c05",
   "metadata": {},
   "outputs": [
    {
     "data": {
      "text/html": [
       "<div>\n",
       "<style scoped>\n",
       "    .dataframe tbody tr th:only-of-type {\n",
       "        vertical-align: middle;\n",
       "    }\n",
       "\n",
       "    .dataframe tbody tr th {\n",
       "        vertical-align: top;\n",
       "    }\n",
       "\n",
       "    .dataframe thead th {\n",
       "        text-align: right;\n",
       "    }\n",
       "</style>\n",
       "<table border=\"1\" class=\"dataframe\">\n",
       "  <thead>\n",
       "    <tr style=\"text-align: right;\">\n",
       "      <th></th>\n",
       "      <th>Accident_Index</th>\n",
       "      <th>Location_Easting_OSGR</th>\n",
       "      <th>Location_Northing_OSGR</th>\n",
       "      <th>Longitude</th>\n",
       "      <th>Latitude</th>\n",
       "      <th>Police_Force</th>\n",
       "      <th>Accident_Severity</th>\n",
       "      <th>Number_of_Vehicles</th>\n",
       "      <th>Number_of_Casualties</th>\n",
       "      <th>Date</th>\n",
       "      <th>...</th>\n",
       "      <th>Journey_Purpose_of_Driver</th>\n",
       "      <th>Sex_of_Driver</th>\n",
       "      <th>Age_of_Driver</th>\n",
       "      <th>Age_Band_of_Driver</th>\n",
       "      <th>Engine_Capacity_(CC)</th>\n",
       "      <th>Propulsion_Code</th>\n",
       "      <th>Age_of_Vehicle</th>\n",
       "      <th>Driver_IMD_Decile</th>\n",
       "      <th>Driver_Home_Area_Type</th>\n",
       "      <th>Vehicle_IMD_Decile</th>\n",
       "    </tr>\n",
       "  </thead>\n",
       "  <tbody>\n",
       "    <tr>\n",
       "      <th>0</th>\n",
       "      <td>2019010128300</td>\n",
       "      <td>528218.0</td>\n",
       "      <td>180407.0</td>\n",
       "      <td>-0.153842</td>\n",
       "      <td>51.508057</td>\n",
       "      <td>1</td>\n",
       "      <td>3</td>\n",
       "      <td>2</td>\n",
       "      <td>3</td>\n",
       "      <td>2019-02-18</td>\n",
       "      <td>...</td>\n",
       "      <td>6</td>\n",
       "      <td>1</td>\n",
       "      <td>58</td>\n",
       "      <td>9</td>\n",
       "      <td>-1</td>\n",
       "      <td>-1</td>\n",
       "      <td>-1</td>\n",
       "      <td>2</td>\n",
       "      <td>1</td>\n",
       "      <td>2</td>\n",
       "    </tr>\n",
       "    <tr>\n",
       "      <th>1</th>\n",
       "      <td>2019010128300</td>\n",
       "      <td>528218.0</td>\n",
       "      <td>180407.0</td>\n",
       "      <td>-0.153842</td>\n",
       "      <td>51.508057</td>\n",
       "      <td>1</td>\n",
       "      <td>3</td>\n",
       "      <td>2</td>\n",
       "      <td>3</td>\n",
       "      <td>2019-02-18</td>\n",
       "      <td>...</td>\n",
       "      <td>6</td>\n",
       "      <td>3</td>\n",
       "      <td>-1</td>\n",
       "      <td>-1</td>\n",
       "      <td>-1</td>\n",
       "      <td>-1</td>\n",
       "      <td>-1</td>\n",
       "      <td>2</td>\n",
       "      <td>1</td>\n",
       "      <td>2</td>\n",
       "    </tr>\n",
       "    <tr>\n",
       "      <th>2</th>\n",
       "      <td>2019010152270</td>\n",
       "      <td>530219.0</td>\n",
       "      <td>172463.0</td>\n",
       "      <td>-0.127949</td>\n",
       "      <td>51.436208</td>\n",
       "      <td>1</td>\n",
       "      <td>3</td>\n",
       "      <td>2</td>\n",
       "      <td>1</td>\n",
       "      <td>2019-01-15</td>\n",
       "      <td>...</td>\n",
       "      <td>6</td>\n",
       "      <td>2</td>\n",
       "      <td>24</td>\n",
       "      <td>5</td>\n",
       "      <td>-1</td>\n",
       "      <td>-1</td>\n",
       "      <td>-1</td>\n",
       "      <td>3</td>\n",
       "      <td>1</td>\n",
       "      <td>3</td>\n",
       "    </tr>\n",
       "    <tr>\n",
       "      <th>3</th>\n",
       "      <td>2019010152270</td>\n",
       "      <td>530219.0</td>\n",
       "      <td>172463.0</td>\n",
       "      <td>-0.127949</td>\n",
       "      <td>51.436208</td>\n",
       "      <td>1</td>\n",
       "      <td>3</td>\n",
       "      <td>2</td>\n",
       "      <td>1</td>\n",
       "      <td>2019-01-15</td>\n",
       "      <td>...</td>\n",
       "      <td>6</td>\n",
       "      <td>3</td>\n",
       "      <td>-1</td>\n",
       "      <td>-1</td>\n",
       "      <td>-1</td>\n",
       "      <td>-1</td>\n",
       "      <td>-1</td>\n",
       "      <td>6</td>\n",
       "      <td>1</td>\n",
       "      <td>6</td>\n",
       "    </tr>\n",
       "    <tr>\n",
       "      <th>4</th>\n",
       "      <td>2019010155191</td>\n",
       "      <td>530222.0</td>\n",
       "      <td>182543.0</td>\n",
       "      <td>-0.124193</td>\n",
       "      <td>51.526795</td>\n",
       "      <td>1</td>\n",
       "      <td>3</td>\n",
       "      <td>2</td>\n",
       "      <td>1</td>\n",
       "      <td>2019-01-01</td>\n",
       "      <td>...</td>\n",
       "      <td>6</td>\n",
       "      <td>1</td>\n",
       "      <td>45</td>\n",
       "      <td>7</td>\n",
       "      <td>-1</td>\n",
       "      <td>-1</td>\n",
       "      <td>-1</td>\n",
       "      <td>4</td>\n",
       "      <td>1</td>\n",
       "      <td>4</td>\n",
       "    </tr>\n",
       "  </tbody>\n",
       "</table>\n",
       "<p>5 rows × 58 columns</p>\n",
       "</div>"
      ],
      "text/plain": [
       "  Accident_Index  Location_Easting_OSGR  Location_Northing_OSGR  Longitude  \\\n",
       "0  2019010128300               528218.0                180407.0  -0.153842   \n",
       "1  2019010128300               528218.0                180407.0  -0.153842   \n",
       "2  2019010152270               530219.0                172463.0  -0.127949   \n",
       "3  2019010152270               530219.0                172463.0  -0.127949   \n",
       "4  2019010155191               530222.0                182543.0  -0.124193   \n",
       "\n",
       "    Latitude  Police_Force  Accident_Severity  Number_of_Vehicles  \\\n",
       "0  51.508057             1                  3                   2   \n",
       "1  51.508057             1                  3                   2   \n",
       "2  51.436208             1                  3                   2   \n",
       "3  51.436208             1                  3                   2   \n",
       "4  51.526795             1                  3                   2   \n",
       "\n",
       "   Number_of_Casualties        Date  ...  Journey_Purpose_of_Driver  \\\n",
       "0                     3  2019-02-18  ...                          6   \n",
       "1                     3  2019-02-18  ...                          6   \n",
       "2                     1  2019-01-15  ...                          6   \n",
       "3                     1  2019-01-15  ...                          6   \n",
       "4                     1  2019-01-01  ...                          6   \n",
       "\n",
       "  Sex_of_Driver  Age_of_Driver Age_Band_of_Driver  Engine_Capacity_(CC)  \\\n",
       "0             1             58                  9                    -1   \n",
       "1             3             -1                 -1                    -1   \n",
       "2             2             24                  5                    -1   \n",
       "3             3             -1                 -1                    -1   \n",
       "4             1             45                  7                    -1   \n",
       "\n",
       "   Propulsion_Code  Age_of_Vehicle  Driver_IMD_Decile  Driver_Home_Area_Type  \\\n",
       "0               -1              -1                  2                      1   \n",
       "1               -1              -1                  2                      1   \n",
       "2               -1              -1                  3                      1   \n",
       "3               -1              -1                  6                      1   \n",
       "4               -1              -1                  4                      1   \n",
       "\n",
       "   Vehicle_IMD_Decile  \n",
       "0                   2  \n",
       "1                   2  \n",
       "2                   3  \n",
       "3                   6  \n",
       "4                   4  \n",
       "\n",
       "[5 rows x 58 columns]"
      ]
     },
     "execution_count": 95,
     "metadata": {},
     "output_type": "execute_result"
    }
   ],
   "source": [
    "df_acc_veh.head()"
   ]
  },
  {
   "cell_type": "code",
   "execution_count": 96,
   "id": "18daaa6c",
   "metadata": {},
   "outputs": [
    {
     "data": {
      "text/plain": [
       "array([ 58,  -1,  24,  45,  33,  32,  47,  25,  20,  65,  81,  34,  43,\n",
       "        28,  42,  30,  29,  26,  35,  19,  54,  63,  52,  23,  12,  31,\n",
       "        41,  49,  44,  55,  17,  48,  39,  40,  38,  22,  66,  37,  16,\n",
       "        50,  60,  18,  27,  51,  71,  57,  21,  70,  59,  36,  53,  62,\n",
       "        13,  76,  82,  64,  46,  56,  69,  68,  75,  78,  73,  11,  72,\n",
       "        61,  88,  74,  84,  80,  83,  79,  85,   7,  67,  95,  77,  15,\n",
       "        91,  10,  86,  87,   9,  14,  90,  92,   8,  89,   5,  94,  99,\n",
       "        93,   4,  98,   6,  96,   1,   3,   2,  97, 101], dtype=int64)"
      ]
     },
     "execution_count": 96,
     "metadata": {},
     "output_type": "execute_result"
    }
   ],
   "source": [
    "df_acc_veh['Age_of_Driver'].unique()"
   ]
  },
  {
   "cell_type": "code",
   "execution_count": 97,
   "id": "1bcbae24",
   "metadata": {},
   "outputs": [],
   "source": [
    "def Age_of_Driver():\n",
    "    lists = [0,0,0,0,0,0,0,0,0,0,0,0,0,0,0,0,0,0]\n",
    "    for n in df_acc_veh['Age_of_Driver']:\n",
    "        if n in range(0,5):\n",
    "            lists[0]+=1\n",
    "        if n in range(5,10):\n",
    "            lists[1]+=1\n",
    "        if n in range(10,15):\n",
    "            lists[2]+=1\n",
    "        if n in range(15,20):\n",
    "            lists[3]+=1\n",
    "        if n in range(20,25):\n",
    "            lists[4]+=1\n",
    "        if n in range(25,30):\n",
    "            lists[5]+=1\n",
    "        if n in range(30,35):\n",
    "            lists[6]+=1\n",
    "        if n in range(35,40):\n",
    "            lists[7]+=1\n",
    "        if n in range(40,45):\n",
    "            lists[8]+=1\n",
    "        if n in range(45,50):\n",
    "            lists[9]+=1\n",
    "        if n in range(50,55):\n",
    "            lists[10]+=1\n",
    "        if n in range(55,60):\n",
    "            lists[11]+=1\n",
    "        if n in range(60,65):\n",
    "            lists[12]+=1\n",
    "        if n in range(65,70):\n",
    "            lists[13]+=1\n",
    "        if n in range(70,75):\n",
    "            lists[14]+=1\n",
    "        if n in range(75,80):\n",
    "            lists[15]+=1 \n",
    "        if n in range(80,85):\n",
    "            lists[16]+=1\n",
    "        if n in range(85,91):\n",
    "            lists[17]+=1\n",
    "    return lists"
   ]
  },
  {
   "cell_type": "code",
   "execution_count": 98,
   "id": "2555b1a8",
   "metadata": {},
   "outputs": [],
   "source": [
    "counts = Age_of_Driver()\n"
   ]
  },
  {
   "cell_type": "code",
   "execution_count": 99,
   "id": "9b00d9ce",
   "metadata": {},
   "outputs": [],
   "source": [
    "data = pd.DataFrame({'Vehicle_Age': ['0-4','5-9','10-14','15-19','20-24','25-29','30-34','35-39', '40-44', '45-49','50-54','55-59','60-64','65-69','70-74',\n",
    "                            '75-80','80-84','85-90'], 'Counts':counts  })"
   ]
  },
  {
   "cell_type": "code",
   "execution_count": 100,
   "id": "58fef32e",
   "metadata": {},
   "outputs": [
    {
     "data": {
      "text/html": [
       "<div>\n",
       "<style scoped>\n",
       "    .dataframe tbody tr th:only-of-type {\n",
       "        vertical-align: middle;\n",
       "    }\n",
       "\n",
       "    .dataframe tbody tr th {\n",
       "        vertical-align: top;\n",
       "    }\n",
       "\n",
       "    .dataframe thead th {\n",
       "        text-align: right;\n",
       "    }\n",
       "</style>\n",
       "<table border=\"1\" class=\"dataframe\">\n",
       "  <thead>\n",
       "    <tr style=\"text-align: right;\">\n",
       "      <th></th>\n",
       "      <th>Vehicle_Age</th>\n",
       "      <th>Counts</th>\n",
       "    </tr>\n",
       "  </thead>\n",
       "  <tbody>\n",
       "    <tr>\n",
       "      <th>0</th>\n",
       "      <td>0-4</td>\n",
       "      <td>21</td>\n",
       "    </tr>\n",
       "    <tr>\n",
       "      <th>1</th>\n",
       "      <td>5-9</td>\n",
       "      <td>200</td>\n",
       "    </tr>\n",
       "    <tr>\n",
       "      <th>2</th>\n",
       "      <td>10-14</td>\n",
       "      <td>1106</td>\n",
       "    </tr>\n",
       "    <tr>\n",
       "      <th>3</th>\n",
       "      <td>15-19</td>\n",
       "      <td>7796</td>\n",
       "    </tr>\n",
       "    <tr>\n",
       "      <th>4</th>\n",
       "      <td>20-24</td>\n",
       "      <td>15134</td>\n",
       "    </tr>\n",
       "    <tr>\n",
       "      <th>5</th>\n",
       "      <td>25-29</td>\n",
       "      <td>17565</td>\n",
       "    </tr>\n",
       "    <tr>\n",
       "      <th>6</th>\n",
       "      <td>30-34</td>\n",
       "      <td>18470</td>\n",
       "    </tr>\n",
       "    <tr>\n",
       "      <th>7</th>\n",
       "      <td>35-39</td>\n",
       "      <td>14662</td>\n",
       "    </tr>\n",
       "    <tr>\n",
       "      <th>8</th>\n",
       "      <td>40-44</td>\n",
       "      <td>12672</td>\n",
       "    </tr>\n",
       "    <tr>\n",
       "      <th>9</th>\n",
       "      <td>45-49</td>\n",
       "      <td>12477</td>\n",
       "    </tr>\n",
       "    <tr>\n",
       "      <th>10</th>\n",
       "      <td>50-54</td>\n",
       "      <td>12104</td>\n",
       "    </tr>\n",
       "    <tr>\n",
       "      <th>11</th>\n",
       "      <td>55-59</td>\n",
       "      <td>9645</td>\n",
       "    </tr>\n",
       "    <tr>\n",
       "      <th>12</th>\n",
       "      <td>60-64</td>\n",
       "      <td>6611</td>\n",
       "    </tr>\n",
       "    <tr>\n",
       "      <th>13</th>\n",
       "      <td>65-69</td>\n",
       "      <td>4256</td>\n",
       "    </tr>\n",
       "    <tr>\n",
       "      <th>14</th>\n",
       "      <td>70-74</td>\n",
       "      <td>3507</td>\n",
       "    </tr>\n",
       "    <tr>\n",
       "      <th>15</th>\n",
       "      <td>75-80</td>\n",
       "      <td>2305</td>\n",
       "    </tr>\n",
       "    <tr>\n",
       "      <th>16</th>\n",
       "      <td>80-84</td>\n",
       "      <td>1641</td>\n",
       "    </tr>\n",
       "    <tr>\n",
       "      <th>17</th>\n",
       "      <td>85-90</td>\n",
       "      <td>887</td>\n",
       "    </tr>\n",
       "  </tbody>\n",
       "</table>\n",
       "</div>"
      ],
      "text/plain": [
       "   Vehicle_Age  Counts\n",
       "0          0-4      21\n",
       "1          5-9     200\n",
       "2        10-14    1106\n",
       "3        15-19    7796\n",
       "4        20-24   15134\n",
       "5        25-29   17565\n",
       "6        30-34   18470\n",
       "7        35-39   14662\n",
       "8        40-44   12672\n",
       "9        45-49   12477\n",
       "10       50-54   12104\n",
       "11       55-59    9645\n",
       "12       60-64    6611\n",
       "13       65-69    4256\n",
       "14       70-74    3507\n",
       "15       75-80    2305\n",
       "16       80-84    1641\n",
       "17       85-90     887"
      ]
     },
     "execution_count": 100,
     "metadata": {},
     "output_type": "execute_result"
    }
   ],
   "source": [
    "pd.DataFrame(data)"
   ]
  },
  {
   "cell_type": "code",
   "execution_count": 101,
   "id": "e8a47f7f",
   "metadata": {},
   "outputs": [
    {
     "data": {
      "image/png": "[encoded data removed]",
      "text/plain": [
       "<Figure size 1296x720 with 1 Axes>"
      ]
     },
     "metadata": {},
     "output_type": "display_data"
    }
   ],
   "source": [
    "Age_group = counts\n",
    "group_count = Vehicle_Age\n",
    "f, ax = plt.subplots(figsize=(18,10))\n",
    "plt.bar(group_count,Age_group, align='center', alpha=0.5)\n",
    "plt.xticks( rotation = 70,fontsize=15)\n",
    "plt.ylabel('Total number of Accidents that occur')\n",
    "plt.title('Influence of Driver Age on Road Traffic Accident')\n",
    "plt.xlabel('Age Group')\n",
    "plt.show()"
   ]
  },
  {
   "cell_type": "markdown",
   "id": "6782ebc4",
   "metadata": {},
   "source": [
    "Thhe ages of Driver that frequently involve in road traffic accidents are between 25 and 34 years of age"
   ]
  },
  {
   "cell_type": "markdown",
   "id": "4c6b99ea",
   "metadata": {},
   "source": [
    "# Influence of purpose of the journey on Road Traffic Accident"
   ]
  },
  {
   "cell_type": "code",
   "execution_count": 65,
   "id": "18fae688",
   "metadata": {},
   "outputs": [],
   "source": [
    "def Purpose_of_Journey(Number):\n",
    "    if Number==1:\n",
    "        return \"Journey as part of work\"\n",
    "    elif Number==2:\n",
    "        return \"Commuting to/from work\"\n",
    "    elif Number==3:\n",
    "        return \"Taking pupil to/from school\"\n",
    "    elif Number==4:\n",
    "        return \"Pupil riding to/from school\"\n",
    "    elif Number==5:\n",
    "        return \"Other\"\n",
    "    elif Number==6:\n",
    "        return \"Not known\"\n",
    "    elif Number==7:\n",
    "        return \"Other/Not known (2005-10)\"\n",
    "    else:\n",
    "        pass"
   ]
  },
  {
   "cell_type": "code",
   "execution_count": 66,
   "id": "f8b0cf3e",
   "metadata": {},
   "outputs": [
    {
     "data": {
      "text/html": [
       "<div>\n",
       "<style scoped>\n",
       "    .dataframe tbody tr th:only-of-type {\n",
       "        vertical-align: middle;\n",
       "    }\n",
       "\n",
       "    .dataframe tbody tr th {\n",
       "        vertical-align: top;\n",
       "    }\n",
       "\n",
       "    .dataframe thead th {\n",
       "        text-align: right;\n",
       "    }\n",
       "</style>\n",
       "<table border=\"1\" class=\"dataframe\">\n",
       "  <thead>\n",
       "    <tr style=\"text-align: right;\">\n",
       "      <th></th>\n",
       "      <th>Age_of_Driver</th>\n",
       "      <th>Purpose of Journey</th>\n",
       "    </tr>\n",
       "  </thead>\n",
       "  <tbody>\n",
       "    <tr>\n",
       "      <th>0</th>\n",
       "      <td>58</td>\n",
       "      <td>Not known</td>\n",
       "    </tr>\n",
       "    <tr>\n",
       "      <th>1</th>\n",
       "      <td>-1</td>\n",
       "      <td>Not known</td>\n",
       "    </tr>\n",
       "    <tr>\n",
       "      <th>2</th>\n",
       "      <td>24</td>\n",
       "      <td>Not known</td>\n",
       "    </tr>\n",
       "    <tr>\n",
       "      <th>3</th>\n",
       "      <td>-1</td>\n",
       "      <td>Not known</td>\n",
       "    </tr>\n",
       "    <tr>\n",
       "      <th>4</th>\n",
       "      <td>45</td>\n",
       "      <td>Not known</td>\n",
       "    </tr>\n",
       "  </tbody>\n",
       "</table>\n",
       "</div>"
      ],
      "text/plain": [
       "   Age_of_Driver Purpose of Journey\n",
       "0             58          Not known\n",
       "1             -1          Not known\n",
       "2             24          Not known\n",
       "3             -1          Not known\n",
       "4             45          Not known"
      ]
     },
     "execution_count": 66,
     "metadata": {},
     "output_type": "execute_result"
    }
   ],
   "source": [
    "df_acc_veh['Purpose of Journey'] = df_acc_veh['Journey_Purpose_of_Driver'].apply(Purpose_of_Journey)\n",
    "df_acc_veh[[ 'Age_of_Driver', 'Purpose of Journey']].head()"
   ]
  },
  {
   "cell_type": "code",
   "execution_count": 71,
   "id": "b6ffae71",
   "metadata": {},
   "outputs": [],
   "source": [
    "def Journey():\n",
    "    b = 0\n",
    "    lists=[]\n",
    "    features = [\"Journey as part of work\",\"Pupil riding to/from school\",\"Other\",\"Commuting to/from work\",\"Not known\",\"Taking pupil to/from school\",\"Other/Not known (2005-10)\"]\n",
    "\n",
    "    for u, a in enumerate(features):\n",
    "        for i, x in enumerate(df_acc_veh['Purpose of Journey']):\n",
    "            if x==a:\n",
    "                b+=1\n",
    "        lists.append(b)\n",
    "        b=0\n",
    "    return lists\n",
    "    "
   ]
  },
  {
   "cell_type": "code",
   "execution_count": 72,
   "id": "e6d7283e",
   "metadata": {},
   "outputs": [
    {
     "data": {
      "text/plain": [
       "[23139, 597, 17489, 18196, 104119, 1742, 0]"
      ]
     },
     "execution_count": 72,
     "metadata": {},
     "output_type": "execute_result"
    }
   ],
   "source": [
    "purpose= Journey()\n",
    "purpose"
   ]
  },
  {
   "cell_type": "code",
   "execution_count": 73,
   "id": "8fdf6bbb",
   "metadata": {},
   "outputs": [
    {
     "name": "stdout",
     "output_type": "stream",
     "text": [
      "The purpose of the journey  that generate more road traffic accidents:  Not known\n"
     ]
    }
   ],
   "source": [
    "# maximum = purpose[0]\n",
    "for i in purpose:\n",
    "    if i > maximum:\n",
    "        maximum = i\n",
    "pos = purpose.index(maximum)\n",
    "if pos == 0:\n",
    "    pos = \"Journey as part of work\"\n",
    "elif pos == 1:\n",
    "    pos = \"Pupil riding to/from school\"\n",
    "elif pos == 2:\n",
    "    pos = \"Other\"\n",
    "elif pos == 3:\n",
    "    pos =  \"Commuting to/from work\"\n",
    "elif pos == 4:\n",
    "    pos = \"Not known\"\n",
    "elif pos == 5:\n",
    "    pos = \"Taking pupil to/from school\"\n",
    "elif pos == 6:\n",
    "    pos =\"Other/Not known (2005-10)\"\n",
    "\n",
    "print(\"The purpose of the journey  that generate more road traffic accidents: \",pos)"
   ]
  },
  {
   "cell_type": "code",
   "execution_count": 74,
   "id": "b489047f",
   "metadata": {},
   "outputs": [
    {
     "data": {
      "image/png": "[encoded data removed]",
      "text/plain": [
       "<Figure size 1224x864 with 1 Axes>"
      ]
     },
     "metadata": {},
     "output_type": "display_data"
    }
   ],
   "source": [
    "label = [\"Journey as part of work\",\"Pupil riding to/from school\", \"Commuting to/from work\",\n",
    "                \"Other\",\"Not known\",\"Taking pupil to/from school\",\"Other/Not known (2005-10)\"]\n",
    "\n",
    "fig = plt.figure(figsize =(17, 12))\n",
    "plt.pie(purpose, labels = label)\n",
    " \n",
    "plt.show()"
   ]
  },
  {
   "cell_type": "markdown",
   "id": "795e061e",
   "metadata": {},
   "source": [
    "# Machine Learning"
   ]
  },
  {
   "cell_type": "markdown",
   "id": "470f4a97",
   "metadata": {},
   "source": [
    "# Predictions about when and where accidents will occur, and the severity of the injuries sustained from the data supplied to improve road safety"
   ]
  },
  {
   "cell_type": "markdown",
   "id": "4e1c9044",
   "metadata": {},
   "source": [
    "#### severity of the injuries sustained"
   ]
  },
  {
   "cell_type": "code",
   "execution_count": 93,
   "id": "dc34086d",
   "metadata": {},
   "outputs": [],
   "source": [
    "from sklearn.ensemble import RandomForestClassifier\n",
    "from sklearn.svm import SVC\n",
    "from sklearn.model_selection import train_test_split\n",
    "from sklearn.metrics import classification_report,confusion_matrix, accuracy_score, log_loss\n",
    "from sklearn.model_selection import cross_val_score\n",
    "from sklearn.model_selection import GridSearchCV\n",
    "from imblearn.over_sampling import SMOTE\n",
    "from sklearn.preprocessing import LabelEncoder\n",
    "from collections import Counter"
   ]
  },
  {
   "cell_type": "code",
   "execution_count": 33,
   "id": "271a6ccb",
   "metadata": {},
   "outputs": [
    {
     "data": {
      "text/html": [
       "<div>\n",
       "<style scoped>\n",
       "    .dataframe tbody tr th:only-of-type {\n",
       "        vertical-align: middle;\n",
       "    }\n",
       "\n",
       "    .dataframe tbody tr th {\n",
       "        vertical-align: top;\n",
       "    }\n",
       "\n",
       "    .dataframe thead th {\n",
       "        text-align: right;\n",
       "    }\n",
       "</style>\n",
       "<table border=\"1\" class=\"dataframe\">\n",
       "  <thead>\n",
       "    <tr style=\"text-align: right;\">\n",
       "      <th></th>\n",
       "      <th>Accident_Index</th>\n",
       "      <th>Location_Easting_OSGR</th>\n",
       "      <th>Location_Northing_OSGR</th>\n",
       "      <th>Longitude</th>\n",
       "      <th>Latitude</th>\n",
       "      <th>Police_Force</th>\n",
       "      <th>Accident_Severity</th>\n",
       "      <th>Number_of_Vehicles</th>\n",
       "      <th>Number_of_Casualties</th>\n",
       "      <th>Date</th>\n",
       "      <th>...</th>\n",
       "      <th>Journey_Purpose_of_Driver</th>\n",
       "      <th>Sex_of_Driver</th>\n",
       "      <th>Age_of_Driver</th>\n",
       "      <th>Age_Band_of_Driver</th>\n",
       "      <th>Engine_Capacity_(CC)</th>\n",
       "      <th>Propulsion_Code</th>\n",
       "      <th>Age_of_Vehicle</th>\n",
       "      <th>Driver_IMD_Decile</th>\n",
       "      <th>Driver_Home_Area_Type</th>\n",
       "      <th>Vehicle_IMD_Decile</th>\n",
       "    </tr>\n",
       "  </thead>\n",
       "  <tbody>\n",
       "    <tr>\n",
       "      <th>0</th>\n",
       "      <td>2019010128300</td>\n",
       "      <td>528218.0</td>\n",
       "      <td>180407.0</td>\n",
       "      <td>-0.153842</td>\n",
       "      <td>51.508057</td>\n",
       "      <td>1</td>\n",
       "      <td>3</td>\n",
       "      <td>2</td>\n",
       "      <td>3</td>\n",
       "      <td>18/02/2019</td>\n",
       "      <td>...</td>\n",
       "      <td>6</td>\n",
       "      <td>1</td>\n",
       "      <td>58</td>\n",
       "      <td>9</td>\n",
       "      <td>-1</td>\n",
       "      <td>-1</td>\n",
       "      <td>-1</td>\n",
       "      <td>2</td>\n",
       "      <td>1</td>\n",
       "      <td>2</td>\n",
       "    </tr>\n",
       "    <tr>\n",
       "      <th>1</th>\n",
       "      <td>2019010128300</td>\n",
       "      <td>528218.0</td>\n",
       "      <td>180407.0</td>\n",
       "      <td>-0.153842</td>\n",
       "      <td>51.508057</td>\n",
       "      <td>1</td>\n",
       "      <td>3</td>\n",
       "      <td>2</td>\n",
       "      <td>3</td>\n",
       "      <td>18/02/2019</td>\n",
       "      <td>...</td>\n",
       "      <td>6</td>\n",
       "      <td>3</td>\n",
       "      <td>-1</td>\n",
       "      <td>-1</td>\n",
       "      <td>-1</td>\n",
       "      <td>-1</td>\n",
       "      <td>-1</td>\n",
       "      <td>2</td>\n",
       "      <td>1</td>\n",
       "      <td>2</td>\n",
       "    </tr>\n",
       "    <tr>\n",
       "      <th>2</th>\n",
       "      <td>2019010152270</td>\n",
       "      <td>530219.0</td>\n",
       "      <td>172463.0</td>\n",
       "      <td>-0.127949</td>\n",
       "      <td>51.436208</td>\n",
       "      <td>1</td>\n",
       "      <td>3</td>\n",
       "      <td>2</td>\n",
       "      <td>1</td>\n",
       "      <td>15/01/2019</td>\n",
       "      <td>...</td>\n",
       "      <td>6</td>\n",
       "      <td>2</td>\n",
       "      <td>24</td>\n",
       "      <td>5</td>\n",
       "      <td>-1</td>\n",
       "      <td>-1</td>\n",
       "      <td>-1</td>\n",
       "      <td>3</td>\n",
       "      <td>1</td>\n",
       "      <td>3</td>\n",
       "    </tr>\n",
       "    <tr>\n",
       "      <th>3</th>\n",
       "      <td>2019010152270</td>\n",
       "      <td>530219.0</td>\n",
       "      <td>172463.0</td>\n",
       "      <td>-0.127949</td>\n",
       "      <td>51.436208</td>\n",
       "      <td>1</td>\n",
       "      <td>3</td>\n",
       "      <td>2</td>\n",
       "      <td>1</td>\n",
       "      <td>15/01/2019</td>\n",
       "      <td>...</td>\n",
       "      <td>6</td>\n",
       "      <td>3</td>\n",
       "      <td>-1</td>\n",
       "      <td>-1</td>\n",
       "      <td>-1</td>\n",
       "      <td>-1</td>\n",
       "      <td>-1</td>\n",
       "      <td>6</td>\n",
       "      <td>1</td>\n",
       "      <td>6</td>\n",
       "    </tr>\n",
       "    <tr>\n",
       "      <th>4</th>\n",
       "      <td>2019010155191</td>\n",
       "      <td>530222.0</td>\n",
       "      <td>182543.0</td>\n",
       "      <td>-0.124193</td>\n",
       "      <td>51.526795</td>\n",
       "      <td>1</td>\n",
       "      <td>3</td>\n",
       "      <td>2</td>\n",
       "      <td>1</td>\n",
       "      <td>01/01/2019</td>\n",
       "      <td>...</td>\n",
       "      <td>6</td>\n",
       "      <td>1</td>\n",
       "      <td>45</td>\n",
       "      <td>7</td>\n",
       "      <td>-1</td>\n",
       "      <td>-1</td>\n",
       "      <td>-1</td>\n",
       "      <td>4</td>\n",
       "      <td>1</td>\n",
       "      <td>4</td>\n",
       "    </tr>\n",
       "  </tbody>\n",
       "</table>\n",
       "<p>5 rows × 54 columns</p>\n",
       "</div>"
      ],
      "text/plain": [
       "  Accident_Index  Location_Easting_OSGR  Location_Northing_OSGR  Longitude  \\\n",
       "0  2019010128300               528218.0                180407.0  -0.153842   \n",
       "1  2019010128300               528218.0                180407.0  -0.153842   \n",
       "2  2019010152270               530219.0                172463.0  -0.127949   \n",
       "3  2019010152270               530219.0                172463.0  -0.127949   \n",
       "4  2019010155191               530222.0                182543.0  -0.124193   \n",
       "\n",
       "    Latitude  Police_Force  Accident_Severity  Number_of_Vehicles  \\\n",
       "0  51.508057             1                  3                   2   \n",
       "1  51.508057             1                  3                   2   \n",
       "2  51.436208             1                  3                   2   \n",
       "3  51.436208             1                  3                   2   \n",
       "4  51.526795             1                  3                   2   \n",
       "\n",
       "   Number_of_Casualties        Date  ...  Journey_Purpose_of_Driver  \\\n",
       "0                     3  18/02/2019  ...                          6   \n",
       "1                     3  18/02/2019  ...                          6   \n",
       "2                     1  15/01/2019  ...                          6   \n",
       "3                     1  15/01/2019  ...                          6   \n",
       "4                     1  01/01/2019  ...                          6   \n",
       "\n",
       "  Sex_of_Driver  Age_of_Driver Age_Band_of_Driver  Engine_Capacity_(CC)  \\\n",
       "0             1             58                  9                    -1   \n",
       "1             3             -1                 -1                    -1   \n",
       "2             2             24                  5                    -1   \n",
       "3             3             -1                 -1                    -1   \n",
       "4             1             45                  7                    -1   \n",
       "\n",
       "   Propulsion_Code  Age_of_Vehicle  Driver_IMD_Decile  Driver_Home_Area_Type  \\\n",
       "0               -1              -1                  2                      1   \n",
       "1               -1              -1                  2                      1   \n",
       "2               -1              -1                  3                      1   \n",
       "3               -1              -1                  6                      1   \n",
       "4               -1              -1                  4                      1   \n",
       "\n",
       "   Vehicle_IMD_Decile  \n",
       "0                   2  \n",
       "1                   2  \n",
       "2                   3  \n",
       "3                   6  \n",
       "4                   4  \n",
       "\n",
       "[5 rows x 54 columns]"
      ]
     },
     "execution_count": 33,
     "metadata": {},
     "output_type": "execute_result"
    }
   ],
   "source": [
    "df_acc_veh = pd.merge(Accidents,Vehicles)\n",
    "#df_acc_veh.to_csv('df_acc_veh.csv')\n",
    "df_acc_veh.head()"
   ]
  },
  {
   "cell_type": "code",
   "execution_count": 8,
   "id": "2990b05c",
   "metadata": {},
   "outputs": [
    {
     "data": {
      "image/png": "[encoded data removed]",
      "text/plain": [
       "<Figure size 432x288 with 1 Axes>"
      ]
     },
     "metadata": {
      "needs_background": "light"
     },
     "output_type": "display_data"
    },
    {
     "data": {
      "image/png": "[encoded data removed]",
      "text/plain": [
       "<Figure size 432x288 with 1 Axes>"
      ]
     },
     "metadata": {
      "needs_background": "light"
     },
     "output_type": "display_data"
    },
    {
     "data": {
      "text/plain": [
       "<Figure size 432x288 with 0 Axes>"
      ]
     },
     "metadata": {},
     "output_type": "display_data"
    }
   ],
   "source": [
    "sns.distplot(df_acc_veh['Age_of_Driver']);\n",
    "fig = plt.figure()\n",
    "fig.show()\n",
    "sns.distplot(df_acc_veh['Age_of_Vehicle']);\n",
    "fig = plt.figure()\n",
    "fig.show()"
   ]
  },
  {
   "cell_type": "code",
   "execution_count": 34,
   "id": "c03c4b42",
   "metadata": {},
   "outputs": [
    {
     "data": {
      "text/plain": [
       "0    58\n",
       "1    -1\n",
       "2    24\n",
       "3    -1\n",
       "4    45\n",
       "Name: Age_of_Driver, dtype: int64"
      ]
     },
     "execution_count": 34,
     "metadata": {},
     "output_type": "execute_result"
    }
   ],
   "source": [
    "df_acc_veh['Age_of_Driver'].head()"
   ]
  },
  {
   "cell_type": "code",
   "execution_count": 35,
   "id": "f8fd2b9c",
   "metadata": {},
   "outputs": [
    {
     "data": {
      "text/plain": [
       "0   -1\n",
       "1   -1\n",
       "2   -1\n",
       "3   -1\n",
       "4   -1\n",
       "Name: Age_of_Vehicle, dtype: int64"
      ]
     },
     "execution_count": 35,
     "metadata": {},
     "output_type": "execute_result"
    }
   ],
   "source": [
    "df_acc_veh['Age_of_Vehicle'].head()"
   ]
  },
  {
   "cell_type": "markdown",
   "id": "b624217d",
   "metadata": {},
   "source": [
    "## Drop the Missing values"
   ]
  },
  {
   "cell_type": "code",
   "execution_count": 48,
   "id": "e6919266",
   "metadata": {},
   "outputs": [],
   "source": [
    "new_df_acc_veh = df_acc_veh.drop(df_acc_veh.index[df_acc_veh['Age_of_Vehicle'] == -1])\n",
    "new_df_acc_veh = new_df_acc_veh.drop(new_df_acc_veh.index[new_df_acc_veh['Age_of_Driver'] == -1])\n",
    "new_df_acc_veh = new_df_acc_veh.drop(new_df_acc_veh.index[new_df_acc_veh['Engine_Capacity_(CC)'] == -1])"
   ]
  },
  {
   "cell_type": "markdown",
   "id": "1ffc05f4",
   "metadata": {},
   "source": [
    "## Value Normalization"
   ]
  },
  {
   "cell_type": "code",
   "execution_count": 49,
   "id": "7379d640",
   "metadata": {},
   "outputs": [],
   "source": [
    "new_df_acc_veh['Age_of_Driver'] = np.log(new_df_acc_veh['Age_of_Driver'])\n",
    "new_df_acc_veh['Age_of_Vehicle'] = np.log(new_df_acc_veh['Age_of_Vehicle'])"
   ]
  },
  {
   "cell_type": "code",
   "execution_count": 50,
   "id": "d62f616b",
   "metadata": {},
   "outputs": [
    {
     "data": {
      "text/plain": [
       "15     4.394449\n",
       "21     3.496508\n",
       "24     3.401197\n",
       "105    3.135494\n",
       "181    3.218876\n",
       "Name: Age_of_Driver, dtype: float64"
      ]
     },
     "execution_count": 50,
     "metadata": {},
     "output_type": "execute_result"
    }
   ],
   "source": [
    "new_df_acc_veh['Age_of_Driver'].head()"
   ]
  },
  {
   "cell_type": "code",
   "execution_count": 51,
   "id": "6c2d8802",
   "metadata": {},
   "outputs": [
    {
     "data": {
      "text/html": [
       "<div>\n",
       "<style scoped>\n",
       "    .dataframe tbody tr th:only-of-type {\n",
       "        vertical-align: middle;\n",
       "    }\n",
       "\n",
       "    .dataframe tbody tr th {\n",
       "        vertical-align: top;\n",
       "    }\n",
       "\n",
       "    .dataframe thead th {\n",
       "        text-align: right;\n",
       "    }\n",
       "</style>\n",
       "<table border=\"1\" class=\"dataframe\">\n",
       "  <thead>\n",
       "    <tr style=\"text-align: right;\">\n",
       "      <th></th>\n",
       "      <th>Accident_Index</th>\n",
       "      <th>Location_Easting_OSGR</th>\n",
       "      <th>Location_Northing_OSGR</th>\n",
       "      <th>Longitude</th>\n",
       "      <th>Latitude</th>\n",
       "      <th>Police_Force</th>\n",
       "      <th>Accident_Severity</th>\n",
       "      <th>Number_of_Vehicles</th>\n",
       "      <th>Number_of_Casualties</th>\n",
       "      <th>Date</th>\n",
       "      <th>...</th>\n",
       "      <th>Journey_Purpose_of_Driver</th>\n",
       "      <th>Sex_of_Driver</th>\n",
       "      <th>Age_of_Driver</th>\n",
       "      <th>Age_Band_of_Driver</th>\n",
       "      <th>Engine_Capacity_(CC)</th>\n",
       "      <th>Propulsion_Code</th>\n",
       "      <th>Age_of_Vehicle</th>\n",
       "      <th>Driver_IMD_Decile</th>\n",
       "      <th>Driver_Home_Area_Type</th>\n",
       "      <th>Vehicle_IMD_Decile</th>\n",
       "    </tr>\n",
       "  </thead>\n",
       "  <tbody>\n",
       "    <tr>\n",
       "      <th>15</th>\n",
       "      <td>2019010155206</td>\n",
       "      <td>548535.0</td>\n",
       "      <td>188113.0</td>\n",
       "      <td>0.141957</td>\n",
       "      <td>51.572326</td>\n",
       "      <td>1</td>\n",
       "      <td>3</td>\n",
       "      <td>2</td>\n",
       "      <td>1</td>\n",
       "      <td>01/01/2019</td>\n",
       "      <td>...</td>\n",
       "      <td>6</td>\n",
       "      <td>2</td>\n",
       "      <td>4.394449</td>\n",
       "      <td>11</td>\n",
       "      <td>1242</td>\n",
       "      <td>1</td>\n",
       "      <td>1.386294</td>\n",
       "      <td>-1</td>\n",
       "      <td>-1</td>\n",
       "      <td>-1</td>\n",
       "    </tr>\n",
       "    <tr>\n",
       "      <th>21</th>\n",
       "      <td>2019010155210</td>\n",
       "      <td>537356.0</td>\n",
       "      <td>183448.0</td>\n",
       "      <td>-0.021065</td>\n",
       "      <td>51.533238</td>\n",
       "      <td>1</td>\n",
       "      <td>1</td>\n",
       "      <td>1</td>\n",
       "      <td>1</td>\n",
       "      <td>01/01/2019</td>\n",
       "      <td>...</td>\n",
       "      <td>1</td>\n",
       "      <td>1</td>\n",
       "      <td>3.496508</td>\n",
       "      <td>6</td>\n",
       "      <td>2198</td>\n",
       "      <td>2</td>\n",
       "      <td>1.386294</td>\n",
       "      <td>-1</td>\n",
       "      <td>-1</td>\n",
       "      <td>-1</td>\n",
       "    </tr>\n",
       "    <tr>\n",
       "      <th>24</th>\n",
       "      <td>2019010155217</td>\n",
       "      <td>543616.0</td>\n",
       "      <td>186274.0</td>\n",
       "      <td>0.070277</td>\n",
       "      <td>51.557075</td>\n",
       "      <td>1</td>\n",
       "      <td>2</td>\n",
       "      <td>2</td>\n",
       "      <td>1</td>\n",
       "      <td>01/01/2019</td>\n",
       "      <td>...</td>\n",
       "      <td>1</td>\n",
       "      <td>1</td>\n",
       "      <td>3.401197</td>\n",
       "      <td>6</td>\n",
       "      <td>1499</td>\n",
       "      <td>1</td>\n",
       "      <td>0.000000</td>\n",
       "      <td>-1</td>\n",
       "      <td>-1</td>\n",
       "      <td>-1</td>\n",
       "    </tr>\n",
       "    <tr>\n",
       "      <th>105</th>\n",
       "      <td>2019010155425</td>\n",
       "      <td>533271.0</td>\n",
       "      <td>186512.0</td>\n",
       "      <td>-0.078765</td>\n",
       "      <td>51.561751</td>\n",
       "      <td>1</td>\n",
       "      <td>3</td>\n",
       "      <td>1</td>\n",
       "      <td>1</td>\n",
       "      <td>02/01/2019</td>\n",
       "      <td>...</td>\n",
       "      <td>6</td>\n",
       "      <td>1</td>\n",
       "      <td>3.135494</td>\n",
       "      <td>5</td>\n",
       "      <td>2996</td>\n",
       "      <td>1</td>\n",
       "      <td>0.000000</td>\n",
       "      <td>2</td>\n",
       "      <td>1</td>\n",
       "      <td>2</td>\n",
       "    </tr>\n",
       "    <tr>\n",
       "      <th>181</th>\n",
       "      <td>2019010155627</td>\n",
       "      <td>520571.0</td>\n",
       "      <td>179155.0</td>\n",
       "      <td>-0.264403</td>\n",
       "      <td>51.498486</td>\n",
       "      <td>1</td>\n",
       "      <td>2</td>\n",
       "      <td>2</td>\n",
       "      <td>1</td>\n",
       "      <td>03/01/2019</td>\n",
       "      <td>...</td>\n",
       "      <td>1</td>\n",
       "      <td>1</td>\n",
       "      <td>3.218876</td>\n",
       "      <td>5</td>\n",
       "      <td>125</td>\n",
       "      <td>1</td>\n",
       "      <td>0.000000</td>\n",
       "      <td>-1</td>\n",
       "      <td>-1</td>\n",
       "      <td>-1</td>\n",
       "    </tr>\n",
       "  </tbody>\n",
       "</table>\n",
       "<p>5 rows × 54 columns</p>\n",
       "</div>"
      ],
      "text/plain": [
       "    Accident_Index  Location_Easting_OSGR  Location_Northing_OSGR  Longitude  \\\n",
       "15   2019010155206               548535.0                188113.0   0.141957   \n",
       "21   2019010155210               537356.0                183448.0  -0.021065   \n",
       "24   2019010155217               543616.0                186274.0   0.070277   \n",
       "105  2019010155425               533271.0                186512.0  -0.078765   \n",
       "181  2019010155627               520571.0                179155.0  -0.264403   \n",
       "\n",
       "      Latitude  Police_Force  Accident_Severity  Number_of_Vehicles  \\\n",
       "15   51.572326             1                  3                   2   \n",
       "21   51.533238             1                  1                   1   \n",
       "24   51.557075             1                  2                   2   \n",
       "105  51.561751             1                  3                   1   \n",
       "181  51.498486             1                  2                   2   \n",
       "\n",
       "     Number_of_Casualties        Date  ...  Journey_Purpose_of_Driver  \\\n",
       "15                      1  01/01/2019  ...                          6   \n",
       "21                      1  01/01/2019  ...                          1   \n",
       "24                      1  01/01/2019  ...                          1   \n",
       "105                     1  02/01/2019  ...                          6   \n",
       "181                     1  03/01/2019  ...                          1   \n",
       "\n",
       "    Sex_of_Driver  Age_of_Driver Age_Band_of_Driver  Engine_Capacity_(CC)  \\\n",
       "15              2       4.394449                 11                  1242   \n",
       "21              1       3.496508                  6                  2198   \n",
       "24              1       3.401197                  6                  1499   \n",
       "105             1       3.135494                  5                  2996   \n",
       "181             1       3.218876                  5                   125   \n",
       "\n",
       "     Propulsion_Code  Age_of_Vehicle  Driver_IMD_Decile  \\\n",
       "15                 1        1.386294                 -1   \n",
       "21                 2        1.386294                 -1   \n",
       "24                 1        0.000000                 -1   \n",
       "105                1        0.000000                  2   \n",
       "181                1        0.000000                 -1   \n",
       "\n",
       "     Driver_Home_Area_Type  Vehicle_IMD_Decile  \n",
       "15                      -1                  -1  \n",
       "21                      -1                  -1  \n",
       "24                      -1                  -1  \n",
       "105                      1                   2  \n",
       "181                     -1                  -1  \n",
       "\n",
       "[5 rows x 54 columns]"
      ]
     },
     "execution_count": 51,
     "metadata": {},
     "output_type": "execute_result"
    }
   ],
   "source": [
    "new_df_acc_veh.head()"
   ]
  },
  {
   "cell_type": "markdown",
   "id": "7498dda6",
   "metadata": {},
   "source": [
    "### Details of the dataset"
   ]
  },
  {
   "cell_type": "code",
   "execution_count": 91,
   "id": "9fc44af6",
   "metadata": {},
   "outputs": [],
   "source": [
    "def accident_severeity():\n",
    "    lists = [0]*3\n",
    "    for i, x in enumerate(new_df_acc_veh[\"Accident_Severity\"]):\n",
    "        if x == 1:\n",
    "            lists[0]+=1\n",
    "        elif x == 2:\n",
    "            lists[1]+=1\n",
    "        elif x == 3:\n",
    "            lists[2]+=1\n",
    "    return lists\n",
    "            "
   ]
  },
  {
   "cell_type": "code",
   "execution_count": 92,
   "id": "4adb3207",
   "metadata": {},
   "outputs": [
    {
     "name": "stdout",
     "output_type": "stream",
     "text": [
      "There are total number of  1918 fatal accidents\n",
      "There are total number of  21509 Serious accidents\n",
      "There are total number of  88209 Slight accidents\n"
     ]
    }
   ],
   "source": [
    "lists = accident_severeity()\n",
    "print(\"There are total number of \",lists[0], \"fatal accidents\")\n",
    "print(\"There are total number of \",lists[1], \"Serious accidents\")\n",
    "print(\"There are total number of \",lists[2], \"Slight accidents\")"
   ]
  },
  {
   "cell_type": "markdown",
   "id": "eb9743a5",
   "metadata": {},
   "source": [
    "## Isolating the label from the entire data table"
   ]
  },
  {
   "cell_type": "code",
   "execution_count": 52,
   "id": "490db984",
   "metadata": {},
   "outputs": [],
   "source": [
    "df = new_df_acc_veh.drop('Accident_Severity' ,axis=1)\n",
    "df = df[['Did_Police_Officer_Attend_Scene_of_Accident' , 'Age_of_Driver' ,'Vehicle_Type', 'Age_of_Vehicle','Engine_Capacity_(CC)','Day_of_Week' , 'Weather_Conditions' , 'Road_Surface_Conditions', 'Light_Conditions', 'Sex_of_Driver' ,'Speed_limit']]"
   ]
  },
  {
   "cell_type": "markdown",
   "id": "bc0bc212",
   "metadata": {},
   "source": [
    "### Dataset Resampling(Balancing of datasets"
   ]
  },
  {
   "cell_type": "code",
   "execution_count": 94,
   "id": "666aa955",
   "metadata": {},
   "outputs": [
    {
     "data": {
      "text/plain": [
       "Counter({3: 88209, 1: 1918, 2: 21509})"
      ]
     },
     "execution_count": 94,
     "metadata": {},
     "output_type": "execute_result"
    }
   ],
   "source": [
    "Counter(new_df_acc_veh['Accident_Severity'])"
   ]
  },
  {
   "cell_type": "code",
   "execution_count": 95,
   "id": "07cc91b7",
   "metadata": {},
   "outputs": [],
   "source": [
    "Balancer = SMOTE(random_state = 42)\n",
    "X, Y = Balancer.fit_resample(df.values, new_df_acc_veh['Accident_Severity'])"
   ]
  },
  {
   "cell_type": "code",
   "execution_count": 96,
   "id": "d4dcad25",
   "metadata": {},
   "outputs": [
    {
     "data": {
      "text/plain": [
       "Counter({3: 88209, 1: 88209, 2: 88209})"
      ]
     },
     "execution_count": 96,
     "metadata": {},
     "output_type": "execute_result"
    }
   ],
   "source": [
    "Counter(Y)"
   ]
  },
  {
   "cell_type": "markdown",
   "id": "89a9f516",
   "metadata": {},
   "source": [
    "## Splitting the data into train and test set"
   ]
  },
  {
   "cell_type": "code",
   "execution_count": 97,
   "id": "3f2367c2",
   "metadata": {},
   "outputs": [],
   "source": [
    "X_train, X_test, y_train, y_test = train_test_split(X,Y,test_size=0.20, random_state=44)"
   ]
  },
  {
   "cell_type": "code",
   "execution_count": 98,
   "id": "ebb69cb0",
   "metadata": {},
   "outputs": [
    {
     "name": "stdout",
     "output_type": "stream",
     "text": [
      "(211701, 9) (52926, 9) (211701,) (52926,)\n"
     ]
    }
   ],
   "source": [
    "print(X_train.shape, X_test.shape, y_train.shape, y_test.shape)"
   ]
  },
  {
   "cell_type": "markdown",
   "id": "42ce5ef5",
   "metadata": {},
   "source": [
    "## Random Forest Classifier"
   ]
  },
  {
   "cell_type": "code",
   "execution_count": 99,
   "id": "2d9e9f2e",
   "metadata": {},
   "outputs": [
    {
     "name": "stdout",
     "output_type": "stream",
     "text": [
      "Accuracy: 79 %\n"
     ]
    }
   ],
   "source": [
    "RF = RandomForestClassifier(n_estimators=150)\n",
    "RF.fit(X_train,y_train)\n",
    "Y_pred =RF.predict(X_test)\n",
    "RF.score(X_test, y_test)\n",
    "Accuracy= round(RF.score(X_test, y_test) * 100)\n",
    "print(\"Accuracy:\", Accuracy,\"%\" )"
   ]
  },
  {
   "cell_type": "markdown",
   "id": "ce7c2cb9",
   "metadata": {},
   "source": [
    "## Confussion Matrix and Classification Report"
   ]
  },
  {
   "cell_type": "code",
   "execution_count": 100,
   "id": "f0453384",
   "metadata": {},
   "outputs": [],
   "source": [
    "ConfusionMatrix = confusion_matrix(y_test, Y_pred)\n",
    "def plot_cm(cm, classes, title, normalized = False, cmap = plt.cm.Blues):\n",
    "    plt.imshow(cm, interpolation = \"nearest\", cmap = cmap)\n",
    "    plt.title(title, pad = 20)\n",
    "    plt.colorbar()\n",
    "    tick_marks = np.arange(len(classes))\n",
    "    plt.xticks(tick_marks, classes)\n",
    "    plt.yticks(tick_marks, classes)\n",
    "\n",
    "    if normalized:\n",
    "        cm = cm.astype('float') / cm.sum(axis = 1)[: np.newaxis]\n",
    "        print(\"Normalized Confusion Matrix\")\n",
    "    else:\n",
    "        print(\"Unnormalized Confusion Matrix\")\n",
    "  \n",
    "    threshold = cm.max() / 2\n",
    "    for i in range(cm.shape[0]):\n",
    "        for j in range(cm.shape[1]):\n",
    "            plt.text(j, i, cm[i, j], horizontalalignment = \"center\", color = \"white\" if cm[i, j] > threshold else \"black\")\n",
    "\n",
    "    plt.tight_layout()\n",
    "    plt.xlabel(\"Predicted Label\", labelpad = 20)\n",
    "    plt.ylabel(\"Real Label\", labelpad = 20)"
   ]
  },
  {
   "cell_type": "code",
   "execution_count": 101,
   "id": "9f7092ee",
   "metadata": {},
   "outputs": [
    {
     "name": "stdout",
     "output_type": "stream",
     "text": [
      "Unnormalized Confusion Matrix\n"
     ]
    },
    {
     "data": {
      "image/png": "[encoded data removed]",
      "text/plain": [
       "<Figure size 432x288 with 2 Axes>"
      ]
     },
     "metadata": {
      "needs_background": "light"
     },
     "output_type": "display_data"
    }
   ],
   "source": [
    "plot_cm(ConfusionMatrix, classes = [ \"Fatal\", \"Serious\", \"Slight\"], title = \"Confusion Matrix of severity of the injuries sustained\")"
   ]
  },
  {
   "cell_type": "code",
   "execution_count": 102,
   "id": "ea07b18a",
   "metadata": {
    "scrolled": true
   },
   "outputs": [
    {
     "name": "stdout",
     "output_type": "stream",
     "text": [
      "              precision    recall  f1-score   support\n",
      "\n",
      "           1       0.91      0.91      0.91     17675\n",
      "           2       0.73      0.68      0.71     17692\n",
      "           3       0.73      0.78      0.75     17559\n",
      "\n",
      "    accuracy                           0.79     52926\n",
      "   macro avg       0.79      0.79      0.79     52926\n",
      "weighted avg       0.79      0.79      0.79     52926\n",
      "\n"
     ]
    }
   ],
   "source": [
    "print(classification_report(y_test,Y_pred))"
   ]
  },
  {
   "cell_type": "markdown",
   "id": "fb086087",
   "metadata": {},
   "source": [
    "#### When Accident will occur"
   ]
  },
  {
   "cell_type": "code",
   "execution_count": 112,
   "id": "ed469cf0",
   "metadata": {},
   "outputs": [
    {
     "data": {
      "text/html": [
       "<div>\n",
       "<style scoped>\n",
       "    .dataframe tbody tr th:only-of-type {\n",
       "        vertical-align: middle;\n",
       "    }\n",
       "\n",
       "    .dataframe tbody tr th {\n",
       "        vertical-align: top;\n",
       "    }\n",
       "\n",
       "    .dataframe thead th {\n",
       "        text-align: right;\n",
       "    }\n",
       "</style>\n",
       "<table border=\"1\" class=\"dataframe\">\n",
       "  <thead>\n",
       "    <tr style=\"text-align: right;\">\n",
       "      <th></th>\n",
       "      <th>Accident_Index</th>\n",
       "      <th>Location_Easting_OSGR</th>\n",
       "      <th>Location_Northing_OSGR</th>\n",
       "      <th>Longitude</th>\n",
       "      <th>Latitude</th>\n",
       "      <th>Police_Force</th>\n",
       "      <th>Accident_Severity</th>\n",
       "      <th>Number_of_Vehicles</th>\n",
       "      <th>Number_of_Casualties</th>\n",
       "      <th>Date</th>\n",
       "      <th>...</th>\n",
       "      <th>Journey_Purpose_of_Driver</th>\n",
       "      <th>Sex_of_Driver</th>\n",
       "      <th>Age_of_Driver</th>\n",
       "      <th>Age_Band_of_Driver</th>\n",
       "      <th>Engine_Capacity_(CC)</th>\n",
       "      <th>Propulsion_Code</th>\n",
       "      <th>Age_of_Vehicle</th>\n",
       "      <th>Driver_IMD_Decile</th>\n",
       "      <th>Driver_Home_Area_Type</th>\n",
       "      <th>Vehicle_IMD_Decile</th>\n",
       "    </tr>\n",
       "  </thead>\n",
       "  <tbody>\n",
       "    <tr>\n",
       "      <th>0</th>\n",
       "      <td>2019010128300</td>\n",
       "      <td>528218.0</td>\n",
       "      <td>180407.0</td>\n",
       "      <td>-0.153842</td>\n",
       "      <td>51.508057</td>\n",
       "      <td>1</td>\n",
       "      <td>3</td>\n",
       "      <td>2</td>\n",
       "      <td>3</td>\n",
       "      <td>18/02/2019</td>\n",
       "      <td>...</td>\n",
       "      <td>6</td>\n",
       "      <td>1</td>\n",
       "      <td>58</td>\n",
       "      <td>9</td>\n",
       "      <td>-1</td>\n",
       "      <td>-1</td>\n",
       "      <td>-1</td>\n",
       "      <td>2</td>\n",
       "      <td>1</td>\n",
       "      <td>2</td>\n",
       "    </tr>\n",
       "    <tr>\n",
       "      <th>1</th>\n",
       "      <td>2019010128300</td>\n",
       "      <td>528218.0</td>\n",
       "      <td>180407.0</td>\n",
       "      <td>-0.153842</td>\n",
       "      <td>51.508057</td>\n",
       "      <td>1</td>\n",
       "      <td>3</td>\n",
       "      <td>2</td>\n",
       "      <td>3</td>\n",
       "      <td>18/02/2019</td>\n",
       "      <td>...</td>\n",
       "      <td>6</td>\n",
       "      <td>3</td>\n",
       "      <td>-1</td>\n",
       "      <td>-1</td>\n",
       "      <td>-1</td>\n",
       "      <td>-1</td>\n",
       "      <td>-1</td>\n",
       "      <td>2</td>\n",
       "      <td>1</td>\n",
       "      <td>2</td>\n",
       "    </tr>\n",
       "    <tr>\n",
       "      <th>2</th>\n",
       "      <td>2019010152270</td>\n",
       "      <td>530219.0</td>\n",
       "      <td>172463.0</td>\n",
       "      <td>-0.127949</td>\n",
       "      <td>51.436208</td>\n",
       "      <td>1</td>\n",
       "      <td>3</td>\n",
       "      <td>2</td>\n",
       "      <td>1</td>\n",
       "      <td>15/01/2019</td>\n",
       "      <td>...</td>\n",
       "      <td>6</td>\n",
       "      <td>2</td>\n",
       "      <td>24</td>\n",
       "      <td>5</td>\n",
       "      <td>-1</td>\n",
       "      <td>-1</td>\n",
       "      <td>-1</td>\n",
       "      <td>3</td>\n",
       "      <td>1</td>\n",
       "      <td>3</td>\n",
       "    </tr>\n",
       "    <tr>\n",
       "      <th>3</th>\n",
       "      <td>2019010152270</td>\n",
       "      <td>530219.0</td>\n",
       "      <td>172463.0</td>\n",
       "      <td>-0.127949</td>\n",
       "      <td>51.436208</td>\n",
       "      <td>1</td>\n",
       "      <td>3</td>\n",
       "      <td>2</td>\n",
       "      <td>1</td>\n",
       "      <td>15/01/2019</td>\n",
       "      <td>...</td>\n",
       "      <td>6</td>\n",
       "      <td>3</td>\n",
       "      <td>-1</td>\n",
       "      <td>-1</td>\n",
       "      <td>-1</td>\n",
       "      <td>-1</td>\n",
       "      <td>-1</td>\n",
       "      <td>6</td>\n",
       "      <td>1</td>\n",
       "      <td>6</td>\n",
       "    </tr>\n",
       "    <tr>\n",
       "      <th>4</th>\n",
       "      <td>2019010155191</td>\n",
       "      <td>530222.0</td>\n",
       "      <td>182543.0</td>\n",
       "      <td>-0.124193</td>\n",
       "      <td>51.526795</td>\n",
       "      <td>1</td>\n",
       "      <td>3</td>\n",
       "      <td>2</td>\n",
       "      <td>1</td>\n",
       "      <td>01/01/2019</td>\n",
       "      <td>...</td>\n",
       "      <td>6</td>\n",
       "      <td>1</td>\n",
       "      <td>45</td>\n",
       "      <td>7</td>\n",
       "      <td>-1</td>\n",
       "      <td>-1</td>\n",
       "      <td>-1</td>\n",
       "      <td>4</td>\n",
       "      <td>1</td>\n",
       "      <td>4</td>\n",
       "    </tr>\n",
       "  </tbody>\n",
       "</table>\n",
       "<p>5 rows × 54 columns</p>\n",
       "</div>"
      ],
      "text/plain": [
       "  Accident_Index  Location_Easting_OSGR  Location_Northing_OSGR  Longitude  \\\n",
       "0  2019010128300               528218.0                180407.0  -0.153842   \n",
       "1  2019010128300               528218.0                180407.0  -0.153842   \n",
       "2  2019010152270               530219.0                172463.0  -0.127949   \n",
       "3  2019010152270               530219.0                172463.0  -0.127949   \n",
       "4  2019010155191               530222.0                182543.0  -0.124193   \n",
       "\n",
       "    Latitude  Police_Force  Accident_Severity  Number_of_Vehicles  \\\n",
       "0  51.508057             1                  3                   2   \n",
       "1  51.508057             1                  3                   2   \n",
       "2  51.436208             1                  3                   2   \n",
       "3  51.436208             1                  3                   2   \n",
       "4  51.526795             1                  3                   2   \n",
       "\n",
       "   Number_of_Casualties        Date  ...  Journey_Purpose_of_Driver  \\\n",
       "0                     3  18/02/2019  ...                          6   \n",
       "1                     3  18/02/2019  ...                          6   \n",
       "2                     1  15/01/2019  ...                          6   \n",
       "3                     1  15/01/2019  ...                          6   \n",
       "4                     1  01/01/2019  ...                          6   \n",
       "\n",
       "  Sex_of_Driver  Age_of_Driver Age_Band_of_Driver  Engine_Capacity_(CC)  \\\n",
       "0             1             58                  9                    -1   \n",
       "1             3             -1                 -1                    -1   \n",
       "2             2             24                  5                    -1   \n",
       "3             3             -1                 -1                    -1   \n",
       "4             1             45                  7                    -1   \n",
       "\n",
       "   Propulsion_Code  Age_of_Vehicle  Driver_IMD_Decile  Driver_Home_Area_Type  \\\n",
       "0               -1              -1                  2                      1   \n",
       "1               -1              -1                  2                      1   \n",
       "2               -1              -1                  3                      1   \n",
       "3               -1              -1                  6                      1   \n",
       "4               -1              -1                  4                      1   \n",
       "\n",
       "   Vehicle_IMD_Decile  \n",
       "0                   2  \n",
       "1                   2  \n",
       "2                   3  \n",
       "3                   6  \n",
       "4                   4  \n",
       "\n",
       "[5 rows x 54 columns]"
      ]
     },
     "execution_count": 112,
     "metadata": {},
     "output_type": "execute_result"
    }
   ],
   "source": [
    "df_acc_veh = pd.merge(Accidents,Vehicles)\n",
    "#df_acc_veh.to_csv('df_acc_veh.csv')\n",
    "df_acc_veh.head()"
   ]
  },
  {
   "cell_type": "code",
   "execution_count": 85,
   "id": "a97fe3f6",
   "metadata": {},
   "outputs": [
    {
     "data": {
      "image/png": "[encoded data removed]",
      "text/plain": [
       "<Figure size 432x288 with 1 Axes>"
      ]
     },
     "metadata": {
      "needs_background": "light"
     },
     "output_type": "display_data"
    },
    {
     "data": {
      "image/png": "[encoded data removed]",
      "text/plain": [
       "<Figure size 432x288 with 1 Axes>"
      ]
     },
     "metadata": {
      "needs_background": "light"
     },
     "output_type": "display_data"
    },
    {
     "data": {
      "text/plain": [
       "<Figure size 432x288 with 0 Axes>"
      ]
     },
     "metadata": {},
     "output_type": "display_data"
    }
   ],
   "source": [
    "sns.distplot(df_acc_veh['Age_of_Driver']);\n",
    "fig = plt.figure()\n",
    "fig.show()\n",
    "sns.distplot(df_acc_veh['Age_of_Vehicle']);\n",
    "fig = plt.figure()\n",
    "fig.show()"
   ]
  },
  {
   "cell_type": "markdown",
   "id": "2c4b3219",
   "metadata": {},
   "source": [
    "### Drop the Missing values"
   ]
  },
  {
   "cell_type": "code",
   "execution_count": 113,
   "id": "b07a1fd4",
   "metadata": {},
   "outputs": [],
   "source": [
    "new_df_acc_veh = df_acc_veh.drop(df_acc_veh.index[df_acc_veh['Age_of_Vehicle'] == -1])\n",
    "new_df_acc_veh = new_df_acc_veh.drop(new_df_acc_veh.index[new_df_acc_veh['Age_of_Driver'] == -1])\n",
    "new_df_acc_veh = new_df_acc_veh.drop(new_df_acc_veh.index[new_df_acc_veh['Engine_Capacity_(CC)'] == -1])"
   ]
  },
  {
   "cell_type": "markdown",
   "id": "9decaca9",
   "metadata": {},
   "source": [
    "### Value Normalization"
   ]
  },
  {
   "cell_type": "code",
   "execution_count": 114,
   "id": "aef9197c",
   "metadata": {},
   "outputs": [],
   "source": [
    "new_df_acc_veh['Age_of_Driver'] = np.log(new_df_acc_veh['Age_of_Driver'])\n",
    "new_df_acc_veh['Age_of_Vehicle'] = np.log(new_df_acc_veh['Age_of_Vehicle'])"
   ]
  },
  {
   "cell_type": "code",
   "execution_count": 115,
   "id": "1ca13209",
   "metadata": {},
   "outputs": [
    {
     "name": "stdout",
     "output_type": "stream",
     "text": [
      "datetime64[ns]\n"
     ]
    }
   ],
   "source": [
    "new_df_acc_veh['Date']= pd.to_datetime(new_df_acc_veh['Date'], format=\"%d/%m/%Y\")\n",
    "print(new_df_acc_veh['Date'].dtypes)"
   ]
  },
  {
   "cell_type": "code",
   "execution_count": 116,
   "id": "174a9e29",
   "metadata": {},
   "outputs": [],
   "source": [
    "def Time_of_the_day(hour):\n",
    "    if hour >= 5 and hour <= 12:\n",
    "        return \"morning\"\n",
    "    elif hour > 12 and hour <= 18:\n",
    "        return \"afternoon\"\n",
    "    else:\n",
    "        return \"night\""
   ]
  },
  {
   "cell_type": "code",
   "execution_count": 117,
   "id": "0c0b248c",
   "metadata": {},
   "outputs": [],
   "source": [
    "new_df_acc_veh['Hour'] = df_acc_veh['Time'].str[0:2]\n",
    "new_df_acc_veh['Hour'] = pd.to_numeric(new_df_acc_veh['Hour'])\n",
    "new_df_acc_veh= new_df_acc_veh.dropna(subset=['Hour'])\n",
    "new_df_acc_veh['Hour'] = new_df_acc_veh['Hour'].astype('int')"
   ]
  },
  {
   "cell_type": "code",
   "execution_count": 118,
   "id": "3008b20a",
   "metadata": {},
   "outputs": [
    {
     "data": {
      "text/html": [
       "<div>\n",
       "<style scoped>\n",
       "    .dataframe tbody tr th:only-of-type {\n",
       "        vertical-align: middle;\n",
       "    }\n",
       "\n",
       "    .dataframe tbody tr th {\n",
       "        vertical-align: top;\n",
       "    }\n",
       "\n",
       "    .dataframe thead th {\n",
       "        text-align: right;\n",
       "    }\n",
       "</style>\n",
       "<table border=\"1\" class=\"dataframe\">\n",
       "  <thead>\n",
       "    <tr style=\"text-align: right;\">\n",
       "      <th></th>\n",
       "      <th>Time</th>\n",
       "      <th>Hour</th>\n",
       "      <th>Daytime</th>\n",
       "    </tr>\n",
       "  </thead>\n",
       "  <tbody>\n",
       "    <tr>\n",
       "      <th>15</th>\n",
       "      <td>01:15</td>\n",
       "      <td>1</td>\n",
       "      <td>night</td>\n",
       "    </tr>\n",
       "    <tr>\n",
       "      <th>21</th>\n",
       "      <td>03:00</td>\n",
       "      <td>3</td>\n",
       "      <td>night</td>\n",
       "    </tr>\n",
       "    <tr>\n",
       "      <th>24</th>\n",
       "      <td>04:10</td>\n",
       "      <td>4</td>\n",
       "      <td>night</td>\n",
       "    </tr>\n",
       "    <tr>\n",
       "      <th>105</th>\n",
       "      <td>15:07</td>\n",
       "      <td>15</td>\n",
       "      <td>afternoon</td>\n",
       "    </tr>\n",
       "    <tr>\n",
       "      <th>181</th>\n",
       "      <td>18:45</td>\n",
       "      <td>18</td>\n",
       "      <td>afternoon</td>\n",
       "    </tr>\n",
       "  </tbody>\n",
       "</table>\n",
       "</div>"
      ],
      "text/plain": [
       "      Time  Hour    Daytime\n",
       "15   01:15     1      night\n",
       "21   03:00     3      night\n",
       "24   04:10     4      night\n",
       "105  15:07    15  afternoon\n",
       "181  18:45    18  afternoon"
      ]
     },
     "execution_count": 118,
     "metadata": {},
     "output_type": "execute_result"
    }
   ],
   "source": [
    "new_df_acc_veh['Daytime'] = new_df_acc_veh['Hour'].apply(Time_of_the_day)\n",
    "new_df_acc_veh[['Time', 'Hour', 'Daytime']].head()"
   ]
  },
  {
   "cell_type": "markdown",
   "id": "7c9dce3e",
   "metadata": {},
   "source": [
    "### Encoding our target variable"
   ]
  },
  {
   "cell_type": "code",
   "execution_count": 119,
   "id": "23b8adb0",
   "metadata": {},
   "outputs": [],
   "source": [
    "Encoder = LabelEncoder()\n",
    "new_df_acc_veh[\"Label\"] = Encoder.fit_transform(new_df_acc_veh['Daytime'])"
   ]
  },
  {
   "cell_type": "code",
   "execution_count": 120,
   "id": "22092869",
   "metadata": {},
   "outputs": [
    {
     "data": {
      "text/plain": [
       "15     2\n",
       "21     2\n",
       "24     2\n",
       "105    0\n",
       "181    0\n",
       "Name: Label, dtype: int32"
      ]
     },
     "execution_count": 120,
     "metadata": {},
     "output_type": "execute_result"
    }
   ],
   "source": [
    "new_df_acc_veh[\"Label\"].head()"
   ]
  },
  {
   "cell_type": "markdown",
   "id": "ca7b9849",
   "metadata": {},
   "source": [
    "### Isolating the label from the entire data table"
   ]
  },
  {
   "cell_type": "code",
   "execution_count": 79,
   "id": "86d2fae8",
   "metadata": {},
   "outputs": [],
   "source": [
    "df = new_df_acc_veh.drop('Label' ,axis=1)\n",
    "df = df[['Did_Police_Officer_Attend_Scene_of_Accident' , 'Age_of_Driver' ,'Vehicle_Type', 'Age_of_Vehicle' , 'Weather_Conditions' , 'Road_Surface_Conditions', 'Light_Conditions','Sex_of_Driver' ,'Speed_limit']]"
   ]
  },
  {
   "cell_type": "markdown",
   "id": "40e2efb9",
   "metadata": {},
   "source": [
    "### Details of the dataset"
   ]
  },
  {
   "cell_type": "code",
   "execution_count": 124,
   "id": "d2cd1e33",
   "metadata": {},
   "outputs": [],
   "source": [
    "def time_of_accident():\n",
    "    lists = [0]*3\n",
    "    for i, x in enumerate(new_df_acc_veh[\"Label\"]):\n",
    "        if x == 0:\n",
    "            lists[0]+=1\n",
    "        elif x == 1:\n",
    "            lists[1]+=1\n",
    "        elif x == 2:\n",
    "            lists[2]+=1\n",
    "    return lists\n",
    "            "
   ]
  },
  {
   "cell_type": "code",
   "execution_count": 125,
   "id": "c1ca57f4",
   "metadata": {
    "scrolled": true
   },
   "outputs": [
    {
     "name": "stdout",
     "output_type": "stream",
     "text": [
      "There are total number of  49942 accidents that occur in the Morning\n",
      "There are total number of  38127 accidents that occur in the Afternoon\n",
      "There are total number of  23567 accidents that occur in the Night\n"
     ]
    }
   ],
   "source": [
    "lists =time_of_accident()\n",
    "print(\"There are total number of \",lists[0], \"accidents that occur in the Morning\")\n",
    "print(\"There are total number of \",lists[1], \"accidents that occur in the Afternoon\")\n",
    "print(\"There are total number of \",lists[2], \"accidents that occur in the Night\")"
   ]
  },
  {
   "cell_type": "markdown",
   "id": "df0c8941",
   "metadata": {},
   "source": [
    "### Dataset Resampling(Balancing of datasets"
   ]
  },
  {
   "cell_type": "code",
   "execution_count": 126,
   "id": "41437a1b",
   "metadata": {
    "scrolled": true
   },
   "outputs": [
    {
     "data": {
      "text/plain": [
       "Counter({2: 23567, 0: 49942, 1: 38127})"
      ]
     },
     "execution_count": 126,
     "metadata": {},
     "output_type": "execute_result"
    }
   ],
   "source": [
    "Counter(new_df_acc_veh[\"Label\"])"
   ]
  },
  {
   "cell_type": "code",
   "execution_count": 127,
   "id": "f4353677",
   "metadata": {},
   "outputs": [],
   "source": [
    "Balancer = SMOTE(random_state = 42)\n",
    "X, Y = Balancer.fit_resample(df.values, new_df_acc_veh[\"Label\"])"
   ]
  },
  {
   "cell_type": "code",
   "execution_count": 128,
   "id": "0ce0b544",
   "metadata": {},
   "outputs": [
    {
     "data": {
      "text/plain": [
       "Counter({2: 49942, 0: 49942, 1: 49942})"
      ]
     },
     "execution_count": 128,
     "metadata": {},
     "output_type": "execute_result"
    }
   ],
   "source": [
    "Counter(Y)"
   ]
  },
  {
   "cell_type": "markdown",
   "id": "a9677792",
   "metadata": {},
   "source": [
    "### Splitting the data into train and test set"
   ]
  },
  {
   "cell_type": "code",
   "execution_count": 129,
   "id": "e72f8137",
   "metadata": {},
   "outputs": [],
   "source": [
    "X_train1, X_test1, y_train1, y_test1 = train_test_split(X,Y,test_size=0.20, random_state=44)"
   ]
  },
  {
   "cell_type": "code",
   "execution_count": 130,
   "id": "5c76a848",
   "metadata": {
    "scrolled": true
   },
   "outputs": [
    {
     "name": "stdout",
     "output_type": "stream",
     "text": [
      "(119860, 9) (29966, 9) (119860,) (29966,)\n"
     ]
    }
   ],
   "source": [
    "print(X_train1.shape, X_test1.shape, y_train1.shape, y_test1.shape)"
   ]
  },
  {
   "cell_type": "markdown",
   "id": "9a80771c",
   "metadata": {},
   "source": [
    "## Support Vector Classifier"
   ]
  },
  {
   "cell_type": "code",
   "execution_count": 131,
   "id": "90fbc29a",
   "metadata": {},
   "outputs": [
    {
     "name": "stdout",
     "output_type": "stream",
     "text": [
      "Accuracy: 58 %\n"
     ]
    }
   ],
   "source": [
    "SVM = SVC()\n",
    "SVM.fit(X_train1,y_train1)\n",
    "Y_pred1 =SVM.predict(X_test1)\n",
    "svm = SVM.score(X_test1, y_test1)\n",
    "Accuracy= round(svm * 100)\n",
    "print(\"Accuracy:\", Accuracy,\"%\" )"
   ]
  },
  {
   "cell_type": "code",
   "execution_count": 132,
   "id": "ad389541",
   "metadata": {},
   "outputs": [],
   "source": [
    "ConfusionMatrix = confusion_matrix(y_test1, Y_pred1)\n",
    "def plot_cm(cm, classes, title, normalized = False, cmap = plt.cm.Blues):\n",
    "    plt.imshow(cm, interpolation = \"nearest\", cmap = cmap)\n",
    "    plt.title(title, pad = 20)\n",
    "    plt.colorbar()\n",
    "    tick_marks = np.arange(len(classes))\n",
    "    plt.xticks(tick_marks, classes)\n",
    "    plt.yticks(tick_marks, classes)\n",
    "\n",
    "    if normalized:\n",
    "        cm = cm.astype('float') / cm.sum(axis = 1)[: np.newaxis]\n",
    "        print(\"Normalized Confusion Matrix\")\n",
    "    else:\n",
    "        print(\"Unnormalized Confusion Matrix\")\n",
    "  \n",
    "    threshold = cm.max() / 2\n",
    "    for i in range(cm.shape[0]):\n",
    "        for j in range(cm.shape[1]):\n",
    "            plt.text(j, i, cm[i, j], horizontalalignment = \"center\", color = \"white\" if cm[i, j] > threshold else \"black\")\n",
    "\n",
    "    plt.tight_layout()\n",
    "    plt.xlabel(\"Predicted Label\", labelpad = 2)\n",
    "    plt.ylabel(\"Real Label\", labelpad = 2)"
   ]
  },
  {
   "cell_type": "code",
   "execution_count": 133,
   "id": "bc56e9c1",
   "metadata": {
    "scrolled": false
   },
   "outputs": [
    {
     "name": "stdout",
     "output_type": "stream",
     "text": [
      "Unnormalized Confusion Matrix\n"
     ]
    },
    {
     "data": {
      "image/png": "[encoded data removed]",
      "text/plain": [
       "<Figure size 432x288 with 2 Axes>"
      ]
     },
     "metadata": {
      "needs_background": "light"
     },
     "output_type": "display_data"
    }
   ],
   "source": [
    "plot_cm(ConfusionMatrix, classes = [\"Morning\",\"Afternoon\",\"Night\"], title = \"Confusion Matrix of When Accident will occur\")"
   ]
  },
  {
   "cell_type": "code",
   "execution_count": 134,
   "id": "d3627b1e",
   "metadata": {
    "scrolled": true
   },
   "outputs": [
    {
     "name": "stdout",
     "output_type": "stream",
     "text": [
      "              precision    recall  f1-score   support\n",
      "\n",
      "           0       0.00      0.00      0.00      9896\n",
      "           1       0.48      0.93      0.63      9995\n",
      "           2       0.77      0.80      0.78     10075\n",
      "\n",
      "    accuracy                           0.58     29966\n",
      "   macro avg       0.42      0.58      0.47     29966\n",
      "weighted avg       0.42      0.58      0.47     29966\n",
      "\n"
     ]
    }
   ],
   "source": [
    "print(classification_report(y_test1,Y_pred1))"
   ]
  },
  {
   "cell_type": "code",
   "execution_count": null,
   "id": "cb73cb48",
   "metadata": {},
   "outputs": [],
   "source": []
  },
  {
   "cell_type": "code",
   "execution_count": null,
   "id": "c599c929",
   "metadata": {},
   "outputs": [],
   "source": []
  }
 ],
 "metadata": {
  "kernelspec": {
   "display_name": "Python 3 (ipykernel)",
   "language": "python",
   "name": "python3"
  },
  "language_info": {
   "codemirror_mode": {
    "name": "ipython",
    "version": 3
   },
   "file_extension": ".py",
   "mimetype": "text/x-python",
   "name": "python",
   "nbconvert_exporter": "python",
   "pygments_lexer": "ipython3",
   "version": "3.7.9"
  }
 },
 "nbformat": 4,
 "nbformat_minor": 5
}
